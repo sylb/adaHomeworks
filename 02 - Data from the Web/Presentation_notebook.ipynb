{
 "cells": [
  {
   "cell_type": "markdown",
   "metadata": {},
   "source": [
    "# Homework 02 - Data from the web"
   ]
  },
  {
   "cell_type": "markdown",
   "metadata": {},
   "source": [
    "The first thing we have done was to analyze the requests on IS-Acadamia using Postman in order to understand how to create the requests needed.\n",
    "It was found that by modifying the GPS field it was easily possible to perform the extraction.\n",
    "\n",
    "The work has been separated as follow:\n",
    "- Creation of a GPS list with section, year and seasons\n",
    "- Extraction of the infos using those GPS\n",
    "- Data clearing\n",
    "- Filtering of data and visualization of results"
   ]
  },
  {
   "cell_type": "code",
   "execution_count": 1,
   "metadata": {
    "collapsed": true
   },
   "outputs": [],
   "source": [
    "import requests\n",
    "import pandas as pd\n",
    "from bs4 import BeautifulSoup as bs"
   ]
  },
  {
   "cell_type": "markdown",
   "metadata": {},
   "source": [
    "## Creation of a list sorted by GPS"
   ]
  },
  {
   "cell_type": "code",
   "execution_count": 2,
   "metadata": {
    "collapsed": false
   },
   "outputs": [],
   "source": [
    "gps_url = 'http://isa.epfl.ch/imoniteur_ISAP/!GEDPUBLICREPORTS.filter?ww_b_list=1&ww_i_reportmodel=133685247&ww_c_langue=&ww_i_reportModelXsl=133685270&zz_x_UNITE_ACAD=&ww_x_UNITE_ACAD=249847&zz_x_PERIODE_ACAD=&ww_x_PERIODE_ACAD=null&zz_x_PERIODE_PEDAGO=&ww_x_PERIODE_PEDAGO=null&zz_x_HIVERETE=&ww_x_HIVERETE=null&dummy=ok'\n",
    "\n",
    "gps_r = requests.get(gps_url)"
   ]
  },
  {
   "cell_type": "code",
   "execution_count": 3,
   "metadata": {
    "collapsed": true
   },
   "outputs": [],
   "source": [
    "gps_html = bs(gps_r.content, \"html.parser\")\n",
    "\n",
    "gps_html_ = gps_html.find_all(class_='ww_x_GPS')\n",
    "gps_list = []\n",
    "gps_list2 = []\n",
    "for elem in gps_html_:\n",
    "    gps_list.append(elem.string.split(','))\n",
    "    #string s_ of format \"loadReport('ww_x_GPS=24065660');return false;\" shorten to \"24065660\" only\n",
    "    s_ = elem['onclick'].split('=')[1].split(\"')\")[0]\n",
    "    gps_list2.append(s_)"
   ]
  },
  {
   "cell_type": "code",
   "execution_count": 4,
   "metadata": {
    "collapsed": true
   },
   "outputs": [],
   "source": [
    "gps_df = pd.concat((pd.DataFrame(gps_list), pd.DataFrame(gps_list2)), axis=1)\n",
    "gps_df.columns = [\"Section\", \"Year\", \"Saison\", \"GPS\"]\n",
    "gps_df.set_index(\"GPS\", inplace=True)\n",
    "gps_df = gps_df.ix[1:]"
   ]
  },
  {
   "cell_type": "code",
   "execution_count": 7,
   "metadata": {
    "collapsed": false
   },
   "outputs": [
    {
     "data": {
      "text/html": [
       "<div>\n",
       "<table border=\"1\" class=\"dataframe\">\n",
       "  <thead>\n",
       "    <tr style=\"text-align: right;\">\n",
       "      <th></th>\n",
       "      <th>Section</th>\n",
       "      <th>Year</th>\n",
       "      <th>Saison</th>\n",
       "    </tr>\n",
       "    <tr>\n",
       "      <th>GPS</th>\n",
       "      <th></th>\n",
       "      <th></th>\n",
       "      <th></th>\n",
       "    </tr>\n",
       "  </thead>\n",
       "  <tbody>\n",
       "    <tr>\n",
       "      <th>24065660</th>\n",
       "      <td>Echange IN</td>\n",
       "      <td>2005-2006</td>\n",
       "      <td>Semestre automne</td>\n",
       "    </tr>\n",
       "    <tr>\n",
       "      <th>24065672</th>\n",
       "      <td>Echange IN</td>\n",
       "      <td>2005-2006</td>\n",
       "      <td>Semestre printemps</td>\n",
       "    </tr>\n",
       "    <tr>\n",
       "      <th>39467937</th>\n",
       "      <td>Echange IN</td>\n",
       "      <td>2006-2007</td>\n",
       "      <td>Semestre automne</td>\n",
       "    </tr>\n",
       "    <tr>\n",
       "      <th>39467957</th>\n",
       "      <td>Echange IN</td>\n",
       "      <td>2006-2007</td>\n",
       "      <td>Semestre printemps</td>\n",
       "    </tr>\n",
       "    <tr>\n",
       "      <th>71454914</th>\n",
       "      <td>Echange IN</td>\n",
       "      <td>2007-2008</td>\n",
       "      <td>Semestre automne</td>\n",
       "    </tr>\n",
       "    <tr>\n",
       "      <th>71454935</th>\n",
       "      <td>Echange IN</td>\n",
       "      <td>2007-2008</td>\n",
       "      <td>Semestre printemps</td>\n",
       "    </tr>\n",
       "    <tr>\n",
       "      <th>117663512</th>\n",
       "      <td>Echange IN</td>\n",
       "      <td>2008-2009</td>\n",
       "      <td>Semestre automne</td>\n",
       "    </tr>\n",
       "    <tr>\n",
       "      <th>117663545</th>\n",
       "      <td>Echange IN</td>\n",
       "      <td>2008-2009</td>\n",
       "      <td>Semestre printemps</td>\n",
       "    </tr>\n",
       "    <tr>\n",
       "      <th>230302571</th>\n",
       "      <td>Echange IN</td>\n",
       "      <td>2009-2010</td>\n",
       "      <td>Semestre automne</td>\n",
       "    </tr>\n",
       "    <tr>\n",
       "      <th>230302592</th>\n",
       "      <td>Echange IN</td>\n",
       "      <td>2009-2010</td>\n",
       "      <td>Semestre printemps</td>\n",
       "    </tr>\n",
       "  </tbody>\n",
       "</table>\n",
       "</div>"
      ],
      "text/plain": [
       "              Section        Year               Saison\n",
       "GPS                                                   \n",
       "24065660   Echange IN   2005-2006     Semestre automne\n",
       "24065672   Echange IN   2005-2006   Semestre printemps\n",
       "39467937   Echange IN   2006-2007     Semestre automne\n",
       "39467957   Echange IN   2006-2007   Semestre printemps\n",
       "71454914   Echange IN   2007-2008     Semestre automne\n",
       "71454935   Echange IN   2007-2008   Semestre printemps\n",
       "117663512  Echange IN   2008-2009     Semestre automne\n",
       "117663545  Echange IN   2008-2009   Semestre printemps\n",
       "230302571  Echange IN   2009-2010     Semestre automne\n",
       "230302592  Echange IN   2009-2010   Semestre printemps"
      ]
     },
     "execution_count": 7,
     "metadata": {},
     "output_type": "execute_result"
    }
   ],
   "source": [
    "gps_df.head(10) #only head shown for convenience"
   ]
  },
  {
   "cell_type": "markdown",
   "metadata": {},
   "source": [
    "## Extracting the infos using GPS"
   ]
  },
  {
   "cell_type": "markdown",
   "metadata": {},
   "source": [
    "Reminder: We will focus exclusively on the academic unit Informatique.\n",
    "\n",
    "Obtain all the data for the Bachelor students, starting from 2007. Keep only the students for which you have an entry for both Bachelor semestre 1 and Bachelor semestre 6. Compute how many months it took each student to go from the first to the sixth semester. Partition the data between male and female students, and compute the average -- is the difference in average statistically significant?\n",
    "\n",
    "Perform a similar operation to what described above, this time for Master students. Notice that this data is more tricky, as there are many missing records in the IS-Academia database. Therefore, try to guess how much time a master student spent at EPFL by at least checking the distance in months between Master semestre 1 and Master semestre 2. If the Mineur field is not empty, the student should also appear registered in Master semestre 3. Last but not the least, don't forget to check if the student has an entry also in the Projet Master tables. Once you can handle well this data, compute the \"average stay at EPFL\" for master students. Now extract all the students with a Spécialisation and compute the \"average stay\" per each category of that attribute -- compared to the general average, can you find any specialization for which the difference in average is statistically significant?\n",
    "\n",
    "BONUS: perform the gender-based study also on the Master students, as explained in 1. Use scatterplots to visually identify changes over time. Plot males and females with different colors -- can you spot different trends that match the results of your statistical tests?\n"
   ]
  },
  {
   "cell_type": "code",
   "execution_count": null,
   "metadata": {
    "collapsed": true
   },
   "outputs": [],
   "source": []
  }
 ],
 "metadata": {
  "kernelspec": {
   "display_name": "Python 3",
   "language": "python",
   "name": "python3"
  },
  "language_info": {
   "codemirror_mode": {
    "name": "ipython",
    "version": 3
   },
   "file_extension": ".py",
   "mimetype": "text/x-python",
   "name": "python",
   "nbconvert_exporter": "python",
   "pygments_lexer": "ipython3",
   "version": "3.4.5"
  }
 },
 "nbformat": 4,
 "nbformat_minor": 0
}
