{
 "cells": [
  {
   "cell_type": "markdown",
   "metadata": {},
   "source": [
    "# Homework 02 - Data from the web"
   ]
  },
  {
   "cell_type": "markdown",
   "metadata": {},
   "source": [
    "During this homework we had to extract the students information and compute the total number of semesters their spend in the school. As this information is not given as such we had to make some assumptions given here:\n",
    "- Only the student that attended the 1st and 6th semester of bachelor have been kept. Those are considered to have completed their bachelor.\n",
    "- As it is possible to finish on the 5th semester (e.g. 1-2-3-4-5-6-5 semester is a viable way to complete a bachelor), we decided to count the total number of semesters spend in the EPFL on people respecting the first point.\n",
    "\n",
    "The first thing we have done was to analyze the requests on IS-Acadamia using Postman in order to understand how to create the requests needed.\n",
    "It was found that by modifying the GPS field it was easily possible to perform the extraction.\n",
    "\n",
    "The work has been separated as follow:\n",
    "- Creation of a GPS list with section, year and seasons\n",
    "- Extraction of the infos using those GPS\n",
    "- Data cleaning\n",
    "- Filtering of data and visualization of results"
   ]
  },
  {
   "cell_type": "code",
   "execution_count": 3,
   "metadata": {
    "collapsed": true
   },
   "outputs": [],
   "source": [
    "import requests\n",
    "import pandas as pd\n",
    "from bs4 import BeautifulSoup as bs"
   ]
  },
  {
   "cell_type": "code",
   "execution_count": 4,
   "metadata": {
    "collapsed": false
   },
   "outputs": [],
   "source": [
    "%matplotlib inline\n",
    "import numpy as np\n",
    "import matplotlib.pyplot as plt"
   ]
  },
  {
   "cell_type": "code",
   "execution_count": 5,
   "metadata": {
    "collapsed": true
   },
   "outputs": [],
   "source": [
    "from scipy.stats import mannwhitneyu"
   ]
  },
  {
   "cell_type": "markdown",
   "metadata": {},
   "source": [
    "## Creation of a list sorted by GPS\n",
    "Using Postman, we retrieve the url needed to obtain the GPS values for the data sets available on the IS-Academia website."
   ]
  },
  {
   "cell_type": "code",
   "execution_count": 6,
   "metadata": {
    "collapsed": false
   },
   "outputs": [],
   "source": [
    "gps_url = 'http://isa.epfl.ch/imoniteur_ISAP/!GEDPUBLICREPORTS.filter?ww_b_list=1&ww_i_reportmodel=133685247&ww_c_langue=&ww_i_reportModelXsl=133685270&zz_x_UNITE_ACAD=&ww_x_UNITE_ACAD=249847&zz_x_PERIODE_ACAD=&ww_x_PERIODE_ACAD=null&zz_x_PERIODE_PEDAGO=&ww_x_PERIODE_PEDAGO=null&zz_x_HIVERETE=&ww_x_HIVERETE=null&dummy=ok'\n",
    "\n",
    "gps_r = requests.get(gps_url)"
   ]
  },
  {
   "cell_type": "markdown",
   "metadata": {},
   "source": [
    "Then the content of the request is parsed unsing functions of BeautifulSoup and the GPS values are extracted and added into a dataframe with some complementary information namely the section, the year and the academic period related to each dataframe."
   ]
  },
  {
   "cell_type": "code",
   "execution_count": 7,
   "metadata": {
    "collapsed": true
   },
   "outputs": [],
   "source": [
    "gps_html = bs(gps_r.content, \"html.parser\")\n",
    "\n",
    "gps_html_ = gps_html.find_all(class_='ww_x_GPS')\n",
    "gps_list = []\n",
    "gps_list2 = []\n",
    "for elem in gps_html_:\n",
    "    gps_list.append(elem.string.split(','))\n",
    "    #string s_ of format \"loadReport('ww_x_GPS=24065660');return false;\" shorten to \"24065660\" only\n",
    "    s_ = elem['onclick'].split('=')[1].split(\"')\")[0]\n",
    "    gps_list2.append(s_)"
   ]
  },
  {
   "cell_type": "code",
   "execution_count": 8,
   "metadata": {
    "collapsed": true
   },
   "outputs": [],
   "source": [
    "gps_df = pd.concat((pd.DataFrame(gps_list), pd.DataFrame(gps_list2)), axis=1)\n",
    "gps_df.columns = [\"Section\", \"Year\", \"AcPeriod\", \"GPS\"]\n",
    "gps_df.set_index(\"GPS\", inplace=True)\n",
    "gps_df = gps_df.ix[1:]"
   ]
  },
  {
   "cell_type": "code",
   "execution_count": 9,
   "metadata": {
    "collapsed": false
   },
   "outputs": [
    {
     "data": {
      "text/html": [
       "<div>\n",
       "<table border=\"1\" class=\"dataframe\">\n",
       "  <thead>\n",
       "    <tr style=\"text-align: right;\">\n",
       "      <th></th>\n",
       "      <th>Section</th>\n",
       "      <th>Year</th>\n",
       "      <th>AcPeriod</th>\n",
       "    </tr>\n",
       "    <tr>\n",
       "      <th>GPS</th>\n",
       "      <th></th>\n",
       "      <th></th>\n",
       "      <th></th>\n",
       "    </tr>\n",
       "  </thead>\n",
       "  <tbody>\n",
       "    <tr>\n",
       "      <th>24065660</th>\n",
       "      <td>Echange IN</td>\n",
       "      <td>2005-2006</td>\n",
       "      <td>Semestre automne</td>\n",
       "    </tr>\n",
       "    <tr>\n",
       "      <th>24065672</th>\n",
       "      <td>Echange IN</td>\n",
       "      <td>2005-2006</td>\n",
       "      <td>Semestre printemps</td>\n",
       "    </tr>\n",
       "    <tr>\n",
       "      <th>39467937</th>\n",
       "      <td>Echange IN</td>\n",
       "      <td>2006-2007</td>\n",
       "      <td>Semestre automne</td>\n",
       "    </tr>\n",
       "    <tr>\n",
       "      <th>39467957</th>\n",
       "      <td>Echange IN</td>\n",
       "      <td>2006-2007</td>\n",
       "      <td>Semestre printemps</td>\n",
       "    </tr>\n",
       "    <tr>\n",
       "      <th>71454914</th>\n",
       "      <td>Echange IN</td>\n",
       "      <td>2007-2008</td>\n",
       "      <td>Semestre automne</td>\n",
       "    </tr>\n",
       "    <tr>\n",
       "      <th>71454935</th>\n",
       "      <td>Echange IN</td>\n",
       "      <td>2007-2008</td>\n",
       "      <td>Semestre printemps</td>\n",
       "    </tr>\n",
       "    <tr>\n",
       "      <th>117663512</th>\n",
       "      <td>Echange IN</td>\n",
       "      <td>2008-2009</td>\n",
       "      <td>Semestre automne</td>\n",
       "    </tr>\n",
       "    <tr>\n",
       "      <th>117663545</th>\n",
       "      <td>Echange IN</td>\n",
       "      <td>2008-2009</td>\n",
       "      <td>Semestre printemps</td>\n",
       "    </tr>\n",
       "    <tr>\n",
       "      <th>230302571</th>\n",
       "      <td>Echange IN</td>\n",
       "      <td>2009-2010</td>\n",
       "      <td>Semestre automne</td>\n",
       "    </tr>\n",
       "    <tr>\n",
       "      <th>230302592</th>\n",
       "      <td>Echange IN</td>\n",
       "      <td>2009-2010</td>\n",
       "      <td>Semestre printemps</td>\n",
       "    </tr>\n",
       "  </tbody>\n",
       "</table>\n",
       "</div>"
      ],
      "text/plain": [
       "              Section        Year             AcPeriod\n",
       "GPS                                                   \n",
       "24065660   Echange IN   2005-2006     Semestre automne\n",
       "24065672   Echange IN   2005-2006   Semestre printemps\n",
       "39467937   Echange IN   2006-2007     Semestre automne\n",
       "39467957   Echange IN   2006-2007   Semestre printemps\n",
       "71454914   Echange IN   2007-2008     Semestre automne\n",
       "71454935   Echange IN   2007-2008   Semestre printemps\n",
       "117663512  Echange IN   2008-2009     Semestre automne\n",
       "117663545  Echange IN   2008-2009   Semestre printemps\n",
       "230302571  Echange IN   2009-2010     Semestre automne\n",
       "230302592  Echange IN   2009-2010   Semestre printemps"
      ]
     },
     "execution_count": 9,
     "metadata": {},
     "output_type": "execute_result"
    }
   ],
   "source": [
    "gps_df.head(10) #only head shown for convenience"
   ]
  },
  {
   "cell_type": "markdown",
   "metadata": {},
   "source": [
    "## Extracting the infos using GPS and cleaning"
   ]
  },
  {
   "cell_type": "markdown",
   "metadata": {},
   "source": [
    "## Task 1"
   ]
  },
  {
   "cell_type": "markdown",
   "metadata": {},
   "source": [
    "To retrieve the desired data, we define the variables years and bachelors to match the columns of the GPS dataframe."
   ]
  },
  {
   "cell_type": "code",
   "execution_count": 10,
   "metadata": {
    "collapsed": true
   },
   "outputs": [],
   "source": [
    "years = range(2007,2016)\n",
    "years_ = []\n",
    "for e in years:\n",
    "    years_.append(\" {0}-{1}\".format(str(e),str(e+1)))"
   ]
  },
  {
   "cell_type": "code",
   "execution_count": 11,
   "metadata": {
    "collapsed": true
   },
   "outputs": [],
   "source": [
    "bachelors = []\n",
    "for i in range(1,7):\n",
    "    bachelors.append(\" Bachelor semestre {}\".format(i))"
   ]
  },
  {
   "cell_type": "code",
   "execution_count": 12,
   "metadata": {
    "collapsed": false
   },
   "outputs": [
    {
     "name": "stderr",
     "output_type": "stream",
     "text": [
      "C:\\Users\\Sylvain\\Anaconda3\\lib\\site-packages\\ipykernel\\__main__.py:1: UserWarning: Boolean Series key will be reindexed to match DataFrame index.\n",
      "  if __name__ == '__main__':\n"
     ]
    },
    {
     "data": {
      "text/html": [
       "<div>\n",
       "<table border=\"1\" class=\"dataframe\">\n",
       "  <thead>\n",
       "    <tr style=\"text-align: right;\">\n",
       "      <th></th>\n",
       "      <th>Section</th>\n",
       "      <th>Year</th>\n",
       "      <th>AcPeriod</th>\n",
       "    </tr>\n",
       "    <tr>\n",
       "      <th>GPS</th>\n",
       "      <th></th>\n",
       "      <th></th>\n",
       "      <th></th>\n",
       "    </tr>\n",
       "  </thead>\n",
       "  <tbody>\n",
       "    <tr>\n",
       "      <th>71297531</th>\n",
       "      <td>Informatique</td>\n",
       "      <td>2007-2008</td>\n",
       "      <td>Bachelor semestre 1</td>\n",
       "    </tr>\n",
       "    <tr>\n",
       "      <th>71297550</th>\n",
       "      <td>Informatique</td>\n",
       "      <td>2007-2008</td>\n",
       "      <td>Bachelor semestre 2</td>\n",
       "    </tr>\n",
       "    <tr>\n",
       "      <th>39494788</th>\n",
       "      <td>Informatique</td>\n",
       "      <td>2007-2008</td>\n",
       "      <td>Bachelor semestre 3</td>\n",
       "    </tr>\n",
       "    <tr>\n",
       "      <th>39494823</th>\n",
       "      <td>Informatique</td>\n",
       "      <td>2007-2008</td>\n",
       "      <td>Bachelor semestre 4</td>\n",
       "    </tr>\n",
       "    <tr>\n",
       "      <th>19561980</th>\n",
       "      <td>Informatique</td>\n",
       "      <td>2007-2008</td>\n",
       "      <td>Bachelor semestre 5</td>\n",
       "    </tr>\n",
       "  </tbody>\n",
       "</table>\n",
       "</div>"
      ],
      "text/plain": [
       "               Section        Year              AcPeriod\n",
       "GPS                                                     \n",
       "71297531  Informatique   2007-2008   Bachelor semestre 1\n",
       "71297550  Informatique   2007-2008   Bachelor semestre 2\n",
       "39494788  Informatique   2007-2008   Bachelor semestre 3\n",
       "39494823  Informatique   2007-2008   Bachelor semestre 4\n",
       "19561980  Informatique   2007-2008   Bachelor semestre 5"
      ]
     },
     "execution_count": 12,
     "metadata": {},
     "output_type": "execute_result"
    }
   ],
   "source": [
    "gps_final = gps_df[gps_df['Section'] == \"Informatique\"][gps_df['Year'].isin(years_)][gps_df['AcPeriod'].isin(bachelors)]\n",
    "gps_final.head()"
   ]
  },
  {
   "cell_type": "markdown",
   "metadata": {},
   "source": [
    "We create multiple requests to obtain the data from IS-Academia and we store them in dataframes using the read_html function and we index the dataframe by Sciper number since they are unique. Then, we add those dataframes in two lists.\n",
    "In the simple list, we do not care about the year related to the academic period and in the complete list, we display all the informations. These two lists will be used to merge the dataframes and clean the data."
   ]
  },
  {
   "cell_type": "code",
   "execution_count": 13,
   "metadata": {
    "collapsed": true
   },
   "outputs": [],
   "source": [
    "url = 'http://isa.epfl.ch/imoniteur_ISAP/!GEDPUBLICREPORTS.html?'\n",
    "dfs_complete = []\n",
    "dfs_simple = []\n",
    "for gps_value in gps_final.index:\n",
    "    payload = {'ww_x_GPS': gps_value, 'ww_i_reportModel': 133685247, 'ww_i_reportModelXsl' : 133685270}\n",
    "    req = requests.get(url, params=payload)\n",
    "    df = pd.read_html(req.content, header=1)[0]\n",
    "    df.set_index(\"No Sciper\", inplace=True)\n",
    "    df_complete = df.rename(columns = {'Statut':'Status' + str(gps_final.loc[gps_value].AcPeriod) + ' ' + str(gps_final.loc[gps_value].Year)})\n",
    "    df_simple = df.rename(columns = {'Statut':'Status' + str(gps_final.loc[gps_value].AcPeriod)})\n",
    "    dfs_complete.append(df_complete)\n",
    "    dfs_simple.append(df_simple)"
   ]
  },
  {
   "cell_type": "markdown",
   "metadata": {},
   "source": [
    "We keep only the students which have an entry in Bachelor semester 1 and Bachelor semester 6 and we use their sciper number as index to easily acces all the students which have completed their bachelor in the complete dataframe"
   ]
  },
  {
   "cell_type": "code",
   "execution_count": 14,
   "metadata": {
    "collapsed": true
   },
   "outputs": [],
   "source": [
    "dfBA_simple = dfs_simple[0]\n",
    "for df in dfs_simple:\n",
    "    dfBA_simple = dfBA_simple.combine_first(df)"
   ]
  },
  {
   "cell_type": "code",
   "execution_count": 15,
   "metadata": {
    "collapsed": true
   },
   "outputs": [],
   "source": [
    "dfBA_complete = dfs_complete[0]\n",
    "for df in dfs_complete:\n",
    "    dfBA_complete = dfBA_complete.combine_first(df)"
   ]
  },
  {
   "cell_type": "code",
   "execution_count": 16,
   "metadata": {
    "collapsed": true
   },
   "outputs": [],
   "source": [
    "dfBA_simple = dfBA_simple[dfBA_simple['Status Bachelor semestre 1'].notnull()]\n",
    "dfBA_simple = dfBA_simple[dfBA_simple['Status Bachelor semestre 6'].notnull()]"
   ]
  },
  {
   "cell_type": "markdown",
   "metadata": {},
   "source": [
    "To have the number of semesters per student, we simply count the values which are not null, for the columns corresponding to the Status for each semester and each year."
   ]
  },
  {
   "cell_type": "code",
   "execution_count": 17,
   "metadata": {
    "collapsed": false
   },
   "outputs": [],
   "source": [
    "dfBA_completetemp = dfBA_complete\n",
    "dfBA_completetemp = dfBA_completetemp.loc[dfBA_simple.index]\n",
    "dfBA_completetemp[\"Nb_Semesters\"] = dfBA_complete.ix[:,8:62].notnull().sum(axis=1)"
   ]
  },
  {
   "cell_type": "code",
   "execution_count": 18,
   "metadata": {
    "collapsed": false
   },
   "outputs": [
    {
     "data": {
      "text/html": [
       "<div>\n",
       "<table border=\"1\" class=\"dataframe\">\n",
       "  <thead>\n",
       "    <tr style=\"text-align: right;\">\n",
       "      <th></th>\n",
       "      <th>Nb_Semesters</th>\n",
       "    </tr>\n",
       "    <tr>\n",
       "      <th>Civilité</th>\n",
       "      <th></th>\n",
       "    </tr>\n",
       "  </thead>\n",
       "  <tbody>\n",
       "    <tr>\n",
       "      <th>Madame</th>\n",
       "      <td>6.642857</td>\n",
       "    </tr>\n",
       "    <tr>\n",
       "      <th>Monsieur</th>\n",
       "      <td>7.103746</td>\n",
       "    </tr>\n",
       "  </tbody>\n",
       "</table>\n",
       "</div>"
      ],
      "text/plain": [
       "          Nb_Semesters\n",
       "Civilité              \n",
       "Madame        6.642857\n",
       "Monsieur      7.103746"
      ]
     },
     "execution_count": 18,
     "metadata": {},
     "output_type": "execute_result"
    }
   ],
   "source": [
    "dfBA_completetemp[[\"Civilité\", \"Nb_Semesters\"]].groupby(\"Civilité\").mean()"
   ]
  },
  {
   "cell_type": "markdown",
   "metadata": {},
   "source": [
    "It is a good idea to compute the histogram of number of semesters of both gender to get an idea on the distribution."
   ]
  },
  {
   "cell_type": "code",
   "execution_count": 19,
   "metadata": {
    "collapsed": false
   },
   "outputs": [],
   "source": [
    "df_man = dfBA_completetemp[[\"Civilité\", \"Nb_Semesters\"]][dfBA_completetemp.Civilité == \"Monsieur\"]"
   ]
  },
  {
   "cell_type": "code",
   "execution_count": 20,
   "metadata": {
    "collapsed": true
   },
   "outputs": [],
   "source": [
    "df_woman = dfBA_completetemp[[\"Civilité\", \"Nb_Semesters\"]][dfBA_completetemp.Civilité == \"Madame\"]"
   ]
  },
  {
   "cell_type": "code",
   "execution_count": 21,
   "metadata": {
    "collapsed": false
   },
   "outputs": [
    {
     "data": {
      "text/plain": [
       "array([[<matplotlib.axes._subplots.AxesSubplot object at 0x000000000AE9A9B0>]], dtype=object)"
      ]
     },
     "execution_count": 21,
     "metadata": {},
     "output_type": "execute_result"
    },
    {
     "data": {
      "image/png": "[encoded data removed]",
      "text/plain": [
       "<matplotlib.figure.Figure at 0x99d4198>"
      ]
     },
     "metadata": {},
     "output_type": "display_data"
    }
   ],
   "source": [
    "df_man.hist()"
   ]
  },
  {
   "cell_type": "code",
   "execution_count": 22,
   "metadata": {
    "collapsed": false
   },
   "outputs": [
    {
     "data": {
      "text/plain": [
       "array([[<matplotlib.axes._subplots.AxesSubplot object at 0x000000000B1099B0>]], dtype=object)"
      ]
     },
     "execution_count": 22,
     "metadata": {},
     "output_type": "execute_result"
    },
    {
     "data": {
      "image/png": "[encoded data removed]",
      "text/plain": [
       "<matplotlib.figure.Figure at 0xb0aac50>"
      ]
     },
     "metadata": {},
     "output_type": "display_data"
    }
   ],
   "source": [
    "df_woman.hist()"
   ]
  },
  {
   "cell_type": "markdown",
   "metadata": {},
   "source": [
    "It is clear that the distribution is not normal. As the data is not paired as well we decided to use the Mann-Whitney U-Test (see the slide containing a tree on which statistical tool to choose from the course).\n",
    "\n",
    "Our null hypothesis H0 is that both average of number of semesters per men and women are from the same distribution."
   ]
  },
  {
   "cell_type": "code",
   "execution_count": 23,
   "metadata": {
    "collapsed": false
   },
   "outputs": [],
   "source": [
    "lst_man = df_man['Nb_Semesters'].tolist()\n",
    "lst_woman = df_woman['Nb_Semesters'].tolist()"
   ]
  },
  {
   "cell_type": "code",
   "execution_count": 24,
   "metadata": {
    "collapsed": false
   },
   "outputs": [
    {
     "data": {
      "text/plain": [
       "MannwhitneyuResult(statistic=5653.5, pvalue=0.10915425641470894)"
      ]
     },
     "execution_count": 24,
     "metadata": {},
     "output_type": "execute_result"
    }
   ],
   "source": [
    "mannwhitneyu(lst_man, lst_woman, alternative='two-sided')"
   ]
  },
  {
   "cell_type": "code",
   "execution_count": 25,
   "metadata": {
    "collapsed": false
   },
   "outputs": [
    {
     "data": {
      "text/plain": [
       "MannwhitneyuResult(statistic=0.0, pvalue=1.0)"
      ]
     },
     "execution_count": 25,
     "metadata": {},
     "output_type": "execute_result"
    }
   ],
   "source": [
    "mannwhitneyu([6.642857], [7.103746], alternative='two-sided')"
   ]
  },
  {
   "cell_type": "code",
   "execution_count": 26,
   "metadata": {
    "collapsed": false
   },
   "outputs": [
    {
     "data": {
      "text/plain": [
       "347"
      ]
     },
     "execution_count": 26,
     "metadata": {},
     "output_type": "execute_result"
    }
   ],
   "source": [
    "len(lst_man) # Number of entries for male"
   ]
  },
  {
   "cell_type": "code",
   "execution_count": 27,
   "metadata": {
    "collapsed": false
   },
   "outputs": [
    {
     "data": {
      "text/plain": [
       "28"
      ]
     },
     "execution_count": 27,
     "metadata": {},
     "output_type": "execute_result"
    }
   ],
   "source": [
    "len(lst_woman) # Number of entries for female"
   ]
  },
  {
   "cell_type": "markdown",
   "metadata": {},
   "source": [
    "This p-value does not allow us to reject the null hypthosis. It is also to be noticed that the skew in the number of samples per gender might affect the quality of the result."
   ]
  },
  {
   "cell_type": "markdown",
   "metadata": {},
   "source": [
    "## Task 2"
   ]
  },
  {
   "cell_type": "markdown",
   "metadata": {},
   "source": [
    "We have used a similar approach for the master and bachelor students, thus we extract the GPS values related to the masters from the GPS dataframe created above."
   ]
  },
  {
   "cell_type": "code",
   "execution_count": 28,
   "metadata": {
    "collapsed": true
   },
   "outputs": [],
   "source": [
    "masters = []\n",
    "for i in range(1,5):\n",
    "    masters.append(\" Master semestre {}\".format(i))"
   ]
  },
  {
   "cell_type": "code",
   "execution_count": 29,
   "metadata": {
    "collapsed": false
   },
   "outputs": [
    {
     "name": "stderr",
     "output_type": "stream",
     "text": [
      "C:\\Users\\Sylvain\\Anaconda3\\lib\\site-packages\\ipykernel\\__main__.py:1: UserWarning: Boolean Series key will be reindexed to match DataFrame index.\n",
      "  if __name__ == '__main__':\n"
     ]
    },
    {
     "data": {
      "text/html": [
       "<div>\n",
       "<table border=\"1\" class=\"dataframe\">\n",
       "  <thead>\n",
       "    <tr style=\"text-align: right;\">\n",
       "      <th></th>\n",
       "      <th>Section</th>\n",
       "      <th>Year</th>\n",
       "      <th>AcPeriod</th>\n",
       "    </tr>\n",
       "    <tr>\n",
       "      <th>GPS</th>\n",
       "      <th></th>\n",
       "      <th></th>\n",
       "      <th></th>\n",
       "    </tr>\n",
       "  </thead>\n",
       "  <tbody>\n",
       "    <tr>\n",
       "      <th>71450699</th>\n",
       "      <td>Informatique</td>\n",
       "      <td>2007-2008</td>\n",
       "      <td>Master semestre 1</td>\n",
       "    </tr>\n",
       "    <tr>\n",
       "      <th>71450725</th>\n",
       "      <td>Informatique</td>\n",
       "      <td>2007-2008</td>\n",
       "      <td>Master semestre 2</td>\n",
       "    </tr>\n",
       "    <tr>\n",
       "      <th>39495424</th>\n",
       "      <td>Informatique</td>\n",
       "      <td>2007-2008</td>\n",
       "      <td>Master semestre 3</td>\n",
       "    </tr>\n",
       "    <tr>\n",
       "      <th>109592281</th>\n",
       "      <td>Informatique</td>\n",
       "      <td>2008-2009</td>\n",
       "      <td>Master semestre 1</td>\n",
       "    </tr>\n",
       "    <tr>\n",
       "      <th>109592309</th>\n",
       "      <td>Informatique</td>\n",
       "      <td>2008-2009</td>\n",
       "      <td>Master semestre 2</td>\n",
       "    </tr>\n",
       "  </tbody>\n",
       "</table>\n",
       "</div>"
      ],
      "text/plain": [
       "                Section        Year            AcPeriod\n",
       "GPS                                                    \n",
       "71450699   Informatique   2007-2008   Master semestre 1\n",
       "71450725   Informatique   2007-2008   Master semestre 2\n",
       "39495424   Informatique   2007-2008   Master semestre 3\n",
       "109592281  Informatique   2008-2009   Master semestre 1\n",
       "109592309  Informatique   2008-2009   Master semestre 2"
      ]
     },
     "execution_count": 29,
     "metadata": {},
     "output_type": "execute_result"
    }
   ],
   "source": [
    "gps_final = gps_df[gps_df['Section'] == \"Informatique\"][gps_df['Year'].isin(years_)][gps_df['AcPeriod'].isin(masters)]\n",
    "gps_final.head()"
   ]
  },
  {
   "cell_type": "code",
   "execution_count": 30,
   "metadata": {
    "collapsed": true
   },
   "outputs": [],
   "source": [
    "dfs_complete = []\n",
    "dfs_simple = []\n",
    "for gps_value in gps_final.index:\n",
    "    payload = {'ww_x_GPS': gps_value, 'ww_i_reportModel': 133685247, 'ww_i_reportModelXsl' : 133685270}\n",
    "    req = requests.get(url, params=payload)\n",
    "    df = pd.read_html(req.content, header=1)[0]\n",
    "    df.set_index(\"No Sciper\", inplace=True)\n",
    "    df_complete = df.rename(columns = {'Statut':'Status' + str(gps_final.loc[gps_value].AcPeriod) + ' ' + str(gps_final.loc[gps_value].Year)})\n",
    "    df_simple = df.rename(columns = {'Statut':'Status' + str(gps_final.loc[gps_value].AcPeriod)})\n",
    "    dfs_complete.append(df_complete)\n",
    "    dfs_simple.append(df_simple)"
   ]
  },
  {
   "cell_type": "markdown",
   "metadata": {},
   "source": [
    "### Assumptions\n",
    "- Assumption 1 : A student must at least do the Master Semester 1 and Master Semester 2 to obtain his degree. Some students which have done their bachelor in 7 semesters have begun their master in semseter 2, so it is necessary to check if both semseters have been completed.\n",
    "- Assumption 2 : If a student does a specialisation or a minor then he must completed at least 3 semesters to obtain his masters degree.\n",
    "\n",
    "Thus, for the simple dataframe, we have kept only the students which had an entry for our assumptions and we discard the rest."
   ]
  },
  {
   "cell_type": "code",
   "execution_count": 31,
   "metadata": {
    "collapsed": true
   },
   "outputs": [],
   "source": [
    "dfMA_simple = dfs_simple[0]\n",
    "for df in dfs_simple:\n",
    "    dfMA_simple = dfMA_simple.combine_first(df)"
   ]
  },
  {
   "cell_type": "code",
   "execution_count": 32,
   "metadata": {
    "collapsed": true
   },
   "outputs": [],
   "source": [
    "dfMA_complete = dfs_complete[0]\n",
    "for df in dfs_complete:\n",
    "    dfMA_complete = dfMA_complete.combine_first(df)"
   ]
  },
  {
   "cell_type": "code",
   "execution_count": 34,
   "metadata": {
    "collapsed": true
   },
   "outputs": [],
   "source": [
    "# Assumption 1\n",
    "dfMA_simple1 = dfMA_simple[dfMA_simple['Status Master semestre 1'].notnull()]\n",
    "dfMA_simple1 = dfMA_simple[dfMA_simple['Status Master semestre 2'].notnull()]\n",
    "dfMA_simple1 = dfMA_simple[dfMA_simple['Mineur'].isnull()]\n",
    "dfMA_simple1 = dfMA_simple[dfMA_simple['Spécialisation'].isnull()]\n",
    "# Assumption 2\n",
    "dfMA_simple2 = dfMA_simple[dfMA_simple['Mineur'].notnull()]\n",
    "dfMA_simple2 = dfMA_simple[dfMA_simple['Status Master semestre 3'].notnull()]\n",
    "dfMA_simple3 = dfMA_simple[dfMA_simple['Mineur'].notnull()]\n",
    "dfMA_simple3 = dfMA_simple[dfMA_simple['Status Master semestre 3'].notnull()]"
   ]
  },
  {
   "cell_type": "markdown",
   "metadata": {},
   "source": [
    "We create a single list of index to match the complete data with all the assumptions."
   ]
  },
  {
   "cell_type": "code",
   "execution_count": 38,
   "metadata": {
    "collapsed": true
   },
   "outputs": [],
   "source": [
    "simple_index = dfMA_simple1.index.append(dfMA_simple2.index).append(dfMA_simple3.index).drop_duplicates()"
   ]
  },
  {
   "cell_type": "markdown",
   "metadata": {},
   "source": [
    "Then using the sciper number of the students of the simple dataframe, we create a temporary dataframe containing all the raw data for the retained students of the simple dataframe. Using the same trick as before we count the values which are not null, for the columns corresponding to the Status for each semester and each year. This gives us the number of semesters needed for each student."
   ]
  },
  {
   "cell_type": "code",
   "execution_count": 42,
   "metadata": {
    "collapsed": false
   },
   "outputs": [],
   "source": [
    "dfMA_completetemp = dfMA_complete.loc[simple_index]\n",
    "dfMA_completetemp[\"Nb_Semesters\"] = dfMA_complete.ix[:,8:36].notnull().sum(axis=1)"
   ]
  },
  {
   "cell_type": "code",
   "execution_count": 43,
   "metadata": {
    "collapsed": false
   },
   "outputs": [
    {
     "data": {
      "text/plain": [
       "Civilité\n",
       "Madame      2.893805\n",
       "Monsieur    2.930736\n",
       "Name: Nb_Semesters, dtype: float64"
      ]
     },
     "execution_count": 43,
     "metadata": {},
     "output_type": "execute_result"
    }
   ],
   "source": [
    "dfMA_completetemp.groupby([\"Civilité\"]).Nb_Semesters.mean()"
   ]
  },
  {
   "cell_type": "code",
   "execution_count": 44,
   "metadata": {
    "collapsed": false
   },
   "outputs": [
    {
     "data": {
      "text/plain": [
       "Spécialisation\n",
       "Biocomputing                      2.083333\n",
       "Computer Engineering - SP         3.470588\n",
       "Foundations of Software           3.724138\n",
       "Information Security - SP         4.000000\n",
       "Internet computing                3.461538\n",
       "Service science                   3.600000\n",
       "Signals, Images and Interfaces    3.606061\n",
       "Software Systems                  3.600000\n",
       "Name: Nb_Semesters, dtype: float64"
      ]
     },
     "execution_count": 44,
     "metadata": {},
     "output_type": "execute_result"
    }
   ],
   "source": [
    "dfG = dfMA_completetemp.groupby([\"Spécialisation\"])\n",
    "dfSem = dfG.Nb_Semesters.mean()\n",
    "dfSem"
   ]
  },
  {
   "cell_type": "markdown",
   "metadata": {},
   "source": [
    "Now that the average number of semester per specialisation is computed, we check while are statistically different from the whole average."
   ]
  },
  {
   "cell_type": "code",
   "execution_count": 45,
   "metadata": {
    "collapsed": false
   },
   "outputs": [],
   "source": [
    "meanMA = dfMA_completetemp.Nb_Semesters.mean()"
   ]
  },
  {
   "cell_type": "markdown",
   "metadata": {},
   "source": [
    "As in the first task, we decided to use the Mann-Whitney U-Test, but this time on each specialization."
   ]
  },
  {
   "cell_type": "code",
   "execution_count": 139,
   "metadata": {
    "collapsed": false
   },
   "outputs": [
    {
     "name": "stdout",
     "output_type": "stream",
     "text": [
      "Computer Engineering - SP , p-value : 0.163822269665\n",
      "Computer Science Theory , p-value : 0.217934674518\n",
      "Data Analytics , p-value : 0.0137791461898\n",
      "Foundations of Software , p-value : 5.29924454184e-07\n",
      "Information Security - SP , p-value : 0.134959777025\n",
      "Internet Information Systems , p-value : 0.217934674518\n",
      "Internet computing , p-value : 2.36685513119e-06\n",
      "Service science , p-value : 0.217414115168\n",
      "Signals, Images and Interfaces , p-value : 0.000171360354546\n",
      "Software Systems , p-value : 0.633925536174\n"
     ]
    }
   ],
   "source": [
    "for i in range(1,len(dfG.Spécialisation.unique())):\n",
    "    j = dfG.Spécialisation.unique()[i][0] #get specialisation string\n",
    "    spe = dfMA_completetemp[dfMA_completetemp[\"Spécialisation\"] == j]\n",
    "    T, p_val = mannwhitneyu(spe.Nb_Semesters, dfMA_completetemp.Nb_Semesters, alternative='two-sided')\n",
    "    print(j, ', p-value :', p_val)"
   ]
  },
  {
   "cell_type": "markdown",
   "metadata": {},
   "source": [
    "The p-value is significant for the 'Internet computing' and'Signals, Images and Interfaces' specialisation only."
   ]
  },
  {
   "cell_type": "markdown",
   "metadata": {},
   "source": [
    "It is also possible to get some insight by simply describing the entries in this way:"
   ]
  },
  {
   "cell_type": "code",
   "execution_count": 95,
   "metadata": {
    "collapsed": false
   },
   "outputs": [
    {
     "data": {
      "text/plain": [
       "Spécialisation                       \n",
       "Biocomputing                    count     4.000000\n",
       "                                mean      4.000000\n",
       "                                std       1.154701\n",
       "                                min       3.000000\n",
       "                                25%       3.000000\n",
       "                                50%       4.000000\n",
       "                                75%       5.000000\n",
       "                                max       5.000000\n",
       "Computer Engineering - SP       count    20.000000\n",
       "                                mean      3.300000\n",
       "                                std       0.732695\n",
       "                                min       2.000000\n",
       "                                25%       3.000000\n",
       "                                50%       3.000000\n",
       "                                75%       4.000000\n",
       "                                max       4.000000\n",
       "Computer Science Theory         count     1.000000\n",
       "                                mean      2.000000\n",
       "                                std            NaN\n",
       "                                min       2.000000\n",
       "                                25%       2.000000\n",
       "                                50%       2.000000\n",
       "                                75%       2.000000\n",
       "                                max       2.000000\n",
       "Data Analytics                  count     4.000000\n",
       "                                mean      2.000000\n",
       "                                std       0.000000\n",
       "                                min       2.000000\n",
       "                                25%       2.000000\n",
       "                                50%       2.000000\n",
       "                                           ...    \n",
       "Internet computing              std       1.052670\n",
       "                                min       2.000000\n",
       "                                25%       3.000000\n",
       "                                50%       3.500000\n",
       "                                75%       4.000000\n",
       "                                max       6.000000\n",
       "Service science                 count     5.000000\n",
       "                                mean      3.600000\n",
       "                                std       0.894427\n",
       "                                min       3.000000\n",
       "                                25%       3.000000\n",
       "                                50%       3.000000\n",
       "                                75%       4.000000\n",
       "                                max       5.000000\n",
       "Signals, Images and Interfaces  count    31.000000\n",
       "                                mean      3.903226\n",
       "                                std       1.220788\n",
       "                                min       2.000000\n",
       "                                25%       3.000000\n",
       "                                50%       4.000000\n",
       "                                75%       5.000000\n",
       "                                max       6.000000\n",
       "Software Systems                count    17.000000\n",
       "                                mean      2.941176\n",
       "                                std       0.899346\n",
       "                                min       2.000000\n",
       "                                25%       2.000000\n",
       "                                50%       3.000000\n",
       "                                75%       4.000000\n",
       "                                max       4.000000\n",
       "dtype: float64"
      ]
     },
     "execution_count": 95,
     "metadata": {},
     "output_type": "execute_result"
    }
   ],
   "source": [
    "dfG.Nb_Semesters.describe()"
   ]
  },
  {
   "cell_type": "code",
   "execution_count": null,
   "metadata": {
    "collapsed": true
   },
   "outputs": [],
   "source": []
  }
 ],
 "metadata": {
  "anaconda-cloud": {},
  "kernelspec": {
   "display_name": "Python [Root]",
   "language": "python",
   "name": "Python [Root]"
  },
  "language_info": {
   "codemirror_mode": {
    "name": "ipython",
    "version": 3
   },
   "file_extension": ".py",
   "mimetype": "text/x-python",
   "name": "python",
   "nbconvert_exporter": "python",
   "pygments_lexer": "ipython3",
   "version": "3.5.2"
  }
 },
 "nbformat": 4,
 "nbformat_minor": 0
}
