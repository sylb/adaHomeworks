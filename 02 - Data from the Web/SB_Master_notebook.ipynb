{
 "cells": [
  {
   "cell_type": "markdown",
   "metadata": {},
   "source": [
    "We have used a similar approach for the master and bachelor students, thus we extract the GPS values related to the masters from the GPS dataframe created above."
   ]
  },
  {
   "cell_type": "code",
   "execution_count": 2,
   "metadata": {
    "collapsed": true
   },
   "outputs": [],
   "source": [
    "masters = []\n",
    "for i in range(1,5):\n",
    "    masters.append(\" Master semestre {}\".format(i))"
   ]
  },
  {
   "cell_type": "code",
   "execution_count": 3,
   "metadata": {
    "collapsed": false
   },
   "outputs": [
    {
     "ename": "NameError",
     "evalue": "name 'gps_df' is not defined",
     "output_type": "error",
     "traceback": [
      "\u001b[1;31m---------------------------------------------------------------------------\u001b[0m",
      "\u001b[1;31mNameError\u001b[0m                                 Traceback (most recent call last)",
      "\u001b[1;32m<ipython-input-3-b688c3b7e4a9>\u001b[0m in \u001b[0;36m<module>\u001b[1;34m()\u001b[0m\n\u001b[1;32m----> 1\u001b[1;33m \u001b[0mgps_final\u001b[0m \u001b[1;33m=\u001b[0m \u001b[0mgps_df\u001b[0m\u001b[1;33m[\u001b[0m\u001b[0mgps_df\u001b[0m\u001b[1;33m[\u001b[0m\u001b[1;34m'Section'\u001b[0m\u001b[1;33m]\u001b[0m \u001b[1;33m==\u001b[0m \u001b[1;34m\"Informatique\"\u001b[0m\u001b[1;33m]\u001b[0m\u001b[1;33m[\u001b[0m\u001b[0mgps_df\u001b[0m\u001b[1;33m[\u001b[0m\u001b[1;34m'Year'\u001b[0m\u001b[1;33m]\u001b[0m\u001b[1;33m.\u001b[0m\u001b[0misin\u001b[0m\u001b[1;33m(\u001b[0m\u001b[0myears_\u001b[0m\u001b[1;33m)\u001b[0m\u001b[1;33m]\u001b[0m\u001b[1;33m[\u001b[0m\u001b[0mgps_df\u001b[0m\u001b[1;33m[\u001b[0m\u001b[1;34m'AcPeriod'\u001b[0m\u001b[1;33m]\u001b[0m\u001b[1;33m.\u001b[0m\u001b[0misin\u001b[0m\u001b[1;33m(\u001b[0m\u001b[0mmasters\u001b[0m\u001b[1;33m)\u001b[0m\u001b[1;33m]\u001b[0m\u001b[1;33m\u001b[0m\u001b[0m\n\u001b[0m\u001b[0;32m      2\u001b[0m \u001b[0mgps_final\u001b[0m\u001b[1;33m.\u001b[0m\u001b[0mhead\u001b[0m\u001b[1;33m(\u001b[0m\u001b[1;33m)\u001b[0m\u001b[1;33m\u001b[0m\u001b[0m\n",
      "\u001b[1;31mNameError\u001b[0m: name 'gps_df' is not defined"
     ]
    }
   ],
   "source": [
    "gps_final = gps_df[gps_df['Section'] == \"Informatique\"][gps_df['Year'].isin(years_)][gps_df['AcPeriod'].isin(masters)]\n",
    "gps_final.head()"
   ]
  },
  {
   "cell_type": "markdown",
   "metadata": {},
   "source": [
    "Once again, we have created two lists of dataframes to easily retrieve and clean the data."
   ]
  },
  {
   "cell_type": "code",
   "execution_count": null,
   "metadata": {
    "collapsed": true
   },
   "outputs": [],
   "source": [
    "dfs_complete = []\n",
    "dfs_simple = []\n",
    "for gps_value in gps_final.index:\n",
    "    payload = {'ww_x_GPS': gps_value, 'ww_i_reportModel': 133685247, 'ww_i_reportModelXsl' : 133685270}\n",
    "    req = requests.get(url, params=payload)\n",
    "    df = pd.read_html(req.content, header=1)[0]\n",
    "    df.set_index(\"No Sciper\", inplace=True)\n",
    "    df_complete = df.rename(columns = {'Statut':'Status' + str(gps_final.loc[gps_value].AcPeriod) + ' ' + str(gps_final.loc[gps_value].Year)})\n",
    "    df_simple = df.rename(columns = {'Statut':'Status' + str(gps_final.loc[gps_value].AcPeriod)})\n",
    "    dfs_complete.append(df_complete)\n",
    "    dfs_simple.append(df_simple)"
   ]
  },
  {
   "cell_type": "markdown",
   "metadata": {},
   "source": [
    "### Assumptions\n",
    "- Assumption 1 : A student must at least do the Master Semester 1 and Master Semester 2 to obtain his degree. Some students which have done their bachelor in 7 semesters have begun their master in semseter 2, so it is necessary to check if both semseters have been completed.\n",
    "- Assumption 2 : If a student does a specialisation or a minor then he must completed at least 3 semesters to obtain his masters degree.\n",
    "\n",
    "Thus, for the simple dataframe, we have kept only the students which had an entry in both fields and we discard the rest."
   ]
  },
  {
   "cell_type": "code",
   "execution_count": null,
   "metadata": {
    "collapsed": true
   },
   "outputs": [],
   "source": [
    "dfMA_simple = dfs_simple[0]\n",
    "for df in dfs_simple:\n",
    "    dfMA_simple = dfMA_simple.combine_first(df)"
   ]
  },
  {
   "cell_type": "code",
   "execution_count": null,
   "metadata": {
    "collapsed": true
   },
   "outputs": [],
   "source": [
    "dfMA_complete = dfs_complete[0]\n",
    "for df in dfs_complete:\n",
    "    dfMA_complete = dfMA_complete.combine_first(df)"
   ]
  },
  {
   "cell_type": "code",
   "execution_count": 5,
   "metadata": {
    "collapsed": false
   },
   "outputs": [
    {
     "ename": "NameError",
     "evalue": "name 'dfMA_simple' is not defined",
     "output_type": "error",
     "traceback": [
      "\u001b[1;31m---------------------------------------------------------------------------\u001b[0m",
      "\u001b[1;31mNameError\u001b[0m                                 Traceback (most recent call last)",
      "\u001b[1;32m<ipython-input-5-16da52c5dfc4>\u001b[0m in \u001b[0;36m<module>\u001b[1;34m()\u001b[0m\n\u001b[0;32m      1\u001b[0m \u001b[1;31m# Assumption 1\u001b[0m\u001b[1;33m\u001b[0m\u001b[1;33m\u001b[0m\u001b[0m\n\u001b[1;32m----> 2\u001b[1;33m \u001b[0mdfMA_simple1\u001b[0m \u001b[1;33m=\u001b[0m \u001b[0mdfMA_simple\u001b[0m\u001b[1;33m[\u001b[0m\u001b[0mdfMA_simple\u001b[0m\u001b[1;33m[\u001b[0m\u001b[1;34m'Status Master semestre 1'\u001b[0m\u001b[1;33m]\u001b[0m\u001b[1;33m.\u001b[0m\u001b[0mnotnull\u001b[0m\u001b[1;33m(\u001b[0m\u001b[1;33m)\u001b[0m\u001b[1;33m]\u001b[0m\u001b[1;33m\u001b[0m\u001b[0m\n\u001b[0m\u001b[0;32m      3\u001b[0m \u001b[0mdfMA_simple1\u001b[0m \u001b[1;33m=\u001b[0m \u001b[0mdfMA_simple\u001b[0m\u001b[1;33m[\u001b[0m\u001b[0mdfMA_simple\u001b[0m\u001b[1;33m[\u001b[0m\u001b[1;34m'Status Master semestre 2'\u001b[0m\u001b[1;33m]\u001b[0m\u001b[1;33m.\u001b[0m\u001b[0mnotnull\u001b[0m\u001b[1;33m(\u001b[0m\u001b[1;33m)\u001b[0m\u001b[1;33m]\u001b[0m\u001b[1;33m\u001b[0m\u001b[0m\n\u001b[0;32m      4\u001b[0m \u001b[1;31m# Assumption 2\u001b[0m\u001b[1;33m\u001b[0m\u001b[1;33m\u001b[0m\u001b[0m\n\u001b[0;32m      5\u001b[0m \u001b[0mdfMA_simple2\u001b[0m \u001b[1;33m=\u001b[0m \u001b[0mdfMA_simple\u001b[0m\u001b[1;33m[\u001b[0m\u001b[0mdfMA_simple\u001b[0m\u001b[1;33m[\u001b[0m\u001b[1;34m'Mineur'\u001b[0m\u001b[1;33m]\u001b[0m\u001b[1;33m.\u001b[0m\u001b[0mnotnull\u001b[0m\u001b[1;33m(\u001b[0m\u001b[1;33m)\u001b[0m\u001b[1;33m]\u001b[0m\u001b[1;33m\u001b[0m\u001b[0m\n",
      "\u001b[1;31mNameError\u001b[0m: name 'dfMA_simple' is not defined"
     ]
    }
   ],
   "source": [
    "# Assumption 1\n",
    "dfMA_simple1 = dfMA_simple[dfMA_simple['Status Master semestre 1'].notnull()]\n",
    "dfMA_simple1 = dfMA_simple[dfMA_simple['Status Master semestre 2'].notnull()]\n",
    "# Assumption 2\n",
    "dfMA_simple2 = dfMA_simple[dfMA_simple['Mineur'].notnull()]\n",
    "dfMA_simple2 = dfMA_simple[dfMA_simple['Status Master semestre 3'].notnull()]"
   ]
  },
  {
   "cell_type": "markdown",
   "metadata": {},
   "source": [
    "Then using the sciper number of the students of the simple dataframe, we create a temporary dataframe containing all the raw data for the retained students of the simple dataframe. Using the same trick as before we count the values which are not null, for the columns corresponding to the Status for each semester and each year. This gives us the number of semesters needed for each student."
   ]
  },
  {
   "cell_type": "code",
   "execution_count": null,
   "metadata": {
    "collapsed": true
   },
   "outputs": [],
   "source": [
    "dfMA_completetemp = dfMA_complete.loc[dfMA_simple.index]\n",
    "dfMA_completetemp[\"Nb_Semesters\"] = dfMA_complete.ix[:,8:36].notnull().sum(axis=1)"
   ]
  },
  {
   "cell_type": "markdown",
   "metadata": {},
   "source": [
    "Finally, we can take a look at the mean value by gender and by specialisation."
   ]
  },
  {
   "cell_type": "code",
   "execution_count": null,
   "metadata": {
    "collapsed": true
   },
   "outputs": [],
   "source": [
    "dfMA_completetemp.groupby([\"Civilité\"]).Nb_Semesters.mean()"
   ]
  },
  {
   "cell_type": "code",
   "execution_count": null,
   "metadata": {
    "collapsed": true
   },
   "outputs": [],
   "source": [
    "dfG = dfMA_completetemp.groupby([\"Spécialisation\"])\n",
    "dfG.Nb_Semesters.mean()"
   ]
  }
 ],
 "metadata": {
  "kernelspec": {
   "display_name": "Python [Root]",
   "language": "python",
   "name": "Python [Root]"
  },
  "language_info": {
   "codemirror_mode": {
    "name": "ipython",
    "version": 3
   },
   "file_extension": ".py",
   "mimetype": "text/x-python",
   "name": "python",
   "nbconvert_exporter": "python",
   "pygments_lexer": "ipython3",
   "version": "3.5.2"
  }
 },
 "nbformat": 4,
 "nbformat_minor": 0
}
