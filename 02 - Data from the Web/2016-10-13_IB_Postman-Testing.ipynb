{
 "cells": [
  {
   "cell_type": "markdown",
   "metadata": {},
   "source": [
    "# Web Scraping testing"
   ]
  },
  {
   "cell_type": "markdown",
   "metadata": {},
   "source": [
    "Request link:\n",
    "http://docs.python-requests.org/en/master/\n",
    "\n",
    "BeautifulSoup link:\n",
    "https://www.crummy.com/software/BeautifulSoup/bs4/doc/\n",
    "\n",
    "Cool tutorial:\n",
    "http://www.pythonforbeginners.com/python-on-the-web/web-scraping-with-beautifulsoup/"
   ]
  },
  {
   "cell_type": "code",
   "execution_count": 3,
   "metadata": {
    "collapsed": true
   },
   "outputs": [],
   "source": [
    "from bs4 import BeautifulSoup\n",
    "import requests"
   ]
  },
  {
   "cell_type": "code",
   "execution_count": 8,
   "metadata": {
    "collapsed": false,
    "scrolled": true
   },
   "outputs": [],
   "source": [
    "# get html source from following link\n",
    "url = \"https://en.wikipedia.org/w/api.php?action=opensearch&search=hungary\"\n",
    "\n",
    "r = requests.get(url)\n",
    "data = r.text"
   ]
  },
  {
   "cell_type": "code",
   "execution_count": 17,
   "metadata": {
    "collapsed": false
   },
   "outputs": [],
   "source": [
    "raw = r.json()"
   ]
  },
  {
   "cell_type": "markdown",
   "metadata": {},
   "source": [
    "Having an extracted json, I import pandas and start exploring the data with it."
   ]
  },
  {
   "cell_type": "code",
   "execution_count": 19,
   "metadata": {
    "collapsed": true
   },
   "outputs": [],
   "source": [
    "import pandas as pd\n",
    "import numpy as np"
   ]
  },
  {
   "cell_type": "code",
   "execution_count": 22,
   "metadata": {
    "collapsed": false
   },
   "outputs": [
    {
     "data": {
      "text/plain": [
       "['hungary',\n",
       " ['Hungary',\n",
       "  'Hungary national football team',\n",
       "  'Hungary at the 2004 Summer Olympics',\n",
       "  'Hungary at the 2013 World Aquatics Championships',\n",
       "  'Hungary at the UEFA European Football Championship',\n",
       "  'Hungary in World War II',\n",
       "  'Hungary–Romania relations',\n",
       "  'Hungary at the 2016 Summer Olympics',\n",
       "  'Hungary in the Eurovision Song Contest 2016',\n",
       "  'Hungary–Slovakia relations'],\n",
       " ['Hungary (/ˈhʌŋɡəri/; Hungarian: Magyarország [ˈmɒɟɒrorsaːɡ]) is a parliamentary constitutional republic in Central Europe.',\n",
       "  'The Hungary national football team (Hungarian: Magyar labdarúgó-válogatott) represents Hungary in international football and is controlled by the Hungarian Football Federation.',\n",
       "  'Hungary competed at the 2004 Summer Olympics in Athens, Greece, from 13 to 29 August 2004. Hungarian athletes have competed at every Summer Olympic Games in the modern era, except the 1920 Summer Olympics in Antwerp, and the 1984 Summer Olympics in Los Angeles because of the Soviet boycott.',\n",
       "  'Hungary competed at the 2013 World Aquatics Championships in Barcelona, Spain between 19 July to 4 August 2013.',\n",
       "  \"As of 2014, Hungary appeared in two UEFA European Championships, both times in earlier editions at which only Europe's best four football nations were represented.\",\n",
       "  'During World War II, the Kingdom of Hungary was a member of the Axis powers. In the 1930s, the Kingdom of Hungary relied on increased trade with Fascist Italy and Nazi Germany to pull itself out of the Great Depression.',\n",
       "  'Hungarian-Romanian relations are foreign relations between Hungary and Romania. Relations between the two states date back from the Middle Ages.',\n",
       "  'Hungary competed at the 2016 Summer Olympics in Rio de Janeiro, Brazil, from 5 to 21 August 2016. Hungarian athletes had appeared in every edition of the Summer Olympic Games, except for two occasions.',\n",
       "  'Hungary participated in the Eurovision Song Contest 2016 with the song \"Pioneer\" written by Zé Szabó and Borbála Csarnai.',\n",
       "  'Hungary–Slovakia relations are the foreign relations between Hungary and the Slovak Republic, two neighboring countries in Central Europe.'],\n",
       " ['https://en.wikipedia.org/wiki/Hungary',\n",
       "  'https://en.wikipedia.org/wiki/Hungary_national_football_team',\n",
       "  'https://en.wikipedia.org/wiki/Hungary_at_the_2004_Summer_Olympics',\n",
       "  'https://en.wikipedia.org/wiki/Hungary_at_the_2013_World_Aquatics_Championships',\n",
       "  'https://en.wikipedia.org/wiki/Hungary_at_the_UEFA_European_Football_Championship',\n",
       "  'https://en.wikipedia.org/wiki/Hungary_in_World_War_II',\n",
       "  'https://en.wikipedia.org/wiki/Hungary%E2%80%93Romania_relations',\n",
       "  'https://en.wikipedia.org/wiki/Hungary_at_the_2016_Summer_Olympics',\n",
       "  'https://en.wikipedia.org/wiki/Hungary_in_the_Eurovision_Song_Contest_2016',\n",
       "  'https://en.wikipedia.org/wiki/Hungary%E2%80%93Slovakia_relations']]"
      ]
     },
     "execution_count": 22,
     "metadata": {},
     "output_type": "execute_result"
    }
   ],
   "source": [
    "raw"
   ]
  },
  {
   "cell_type": "code",
   "execution_count": 35,
   "metadata": {
    "collapsed": false
   },
   "outputs": [],
   "source": [
    "from pandas.io.json import json_normalize"
   ]
  },
  {
   "cell_type": "code",
   "execution_count": 41,
   "metadata": {
    "collapsed": false
   },
   "outputs": [],
   "source": [
    "df = pd.DataFrame(raw)"
   ]
  },
  {
   "cell_type": "code",
   "execution_count": 45,
   "metadata": {
    "collapsed": false
   },
   "outputs": [
    {
     "data": {
      "text/plain": [
       "['hungary',\n",
       " ['Hungary',\n",
       "  'Hungary national football team',\n",
       "  'Hungary at the 2004 Summer Olympics',\n",
       "  'Hungary at the 2013 World Aquatics Championships',\n",
       "  'Hungary at the UEFA European Football Championship',\n",
       "  'Hungary in World War II',\n",
       "  'Hungary–Romania relations',\n",
       "  'Hungary at the 2016 Summer Olympics',\n",
       "  'Hungary in the Eurovision Song Contest 2016',\n",
       "  'Hungary–Slovakia relations'],\n",
       " ['Hungary (/ˈhʌŋɡəri/; Hungarian: Magyarország [ˈmɒɟɒrorsaːɡ]) is a parliamentary constitutional republic in Central Europe.',\n",
       "  'The Hungary national football team (Hungarian: Magyar labdarúgó-válogatott) represents Hungary in international football and is controlled by the Hungarian Football Federation.',\n",
       "  'Hungary competed at the 2004 Summer Olympics in Athens, Greece, from 13 to 29 August 2004. Hungarian athletes have competed at every Summer Olympic Games in the modern era, except the 1920 Summer Olympics in Antwerp, and the 1984 Summer Olympics in Los Angeles because of the Soviet boycott.',\n",
       "  'Hungary competed at the 2013 World Aquatics Championships in Barcelona, Spain between 19 July to 4 August 2013.',\n",
       "  \"As of 2014, Hungary appeared in two UEFA European Championships, both times in earlier editions at which only Europe's best four football nations were represented.\",\n",
       "  'During World War II, the Kingdom of Hungary was a member of the Axis powers. In the 1930s, the Kingdom of Hungary relied on increased trade with Fascist Italy and Nazi Germany to pull itself out of the Great Depression.',\n",
       "  'Hungarian-Romanian relations are foreign relations between Hungary and Romania. Relations between the two states date back from the Middle Ages.',\n",
       "  'Hungary competed at the 2016 Summer Olympics in Rio de Janeiro, Brazil, from 5 to 21 August 2016. Hungarian athletes had appeared in every edition of the Summer Olympic Games, except for two occasions.',\n",
       "  'Hungary participated in the Eurovision Song Contest 2016 with the song \"Pioneer\" written by Zé Szabó and Borbála Csarnai.',\n",
       "  'Hungary–Slovakia relations are the foreign relations between Hungary and the Slovak Republic, two neighboring countries in Central Europe.'],\n",
       " ['https://en.wikipedia.org/wiki/Hungary',\n",
       "  'https://en.wikipedia.org/wiki/Hungary_national_football_team',\n",
       "  'https://en.wikipedia.org/wiki/Hungary_at_the_2004_Summer_Olympics',\n",
       "  'https://en.wikipedia.org/wiki/Hungary_at_the_2013_World_Aquatics_Championships',\n",
       "  'https://en.wikipedia.org/wiki/Hungary_at_the_UEFA_European_Football_Championship',\n",
       "  'https://en.wikipedia.org/wiki/Hungary_in_World_War_II',\n",
       "  'https://en.wikipedia.org/wiki/Hungary%E2%80%93Romania_relations',\n",
       "  'https://en.wikipedia.org/wiki/Hungary_at_the_2016_Summer_Olympics',\n",
       "  'https://en.wikipedia.org/wiki/Hungary_in_the_Eurovision_Song_Contest_2016',\n",
       "  'https://en.wikipedia.org/wiki/Hungary%E2%80%93Slovakia_relations']]"
      ]
     },
     "execution_count": 45,
     "metadata": {},
     "output_type": "execute_result"
    }
   ],
   "source": [
    "raw\n",
    "#json_normalize(df[\"hungary\"]) # not working"
   ]
  },
  {
   "cell_type": "code",
   "execution_count": 44,
   "metadata": {
    "collapsed": false
   },
   "outputs": [
    {
     "data": {
      "text/html": [
       "<div>\n",
       "<table border=\"1\" class=\"dataframe\">\n",
       "  <thead>\n",
       "    <tr style=\"text-align: right;\">\n",
       "      <th></th>\n",
       "      <th>0</th>\n",
       "    </tr>\n",
       "  </thead>\n",
       "  <tbody>\n",
       "    <tr>\n",
       "      <th>0</th>\n",
       "      <td>hungary</td>\n",
       "    </tr>\n",
       "    <tr>\n",
       "      <th>1</th>\n",
       "      <td>[Hungary, Hungary national football team, Hung...</td>\n",
       "    </tr>\n",
       "    <tr>\n",
       "      <th>2</th>\n",
       "      <td>[Hungary (/ˈhʌŋɡəri/; Hungarian: Magyarország ...</td>\n",
       "    </tr>\n",
       "    <tr>\n",
       "      <th>3</th>\n",
       "      <td>[https://en.wikipedia.org/wiki/Hungary, https:...</td>\n",
       "    </tr>\n",
       "  </tbody>\n",
       "</table>\n",
       "</div>"
      ],
      "text/plain": [
       "                                                   0\n",
       "0                                            hungary\n",
       "1  [Hungary, Hungary national football team, Hung...\n",
       "2  [Hungary (/ˈhʌŋɡəri/; Hungarian: Magyarország ...\n",
       "3  [https://en.wikipedia.org/wiki/Hungary, https:..."
      ]
     },
     "execution_count": 44,
     "metadata": {},
     "output_type": "execute_result"
    }
   ],
   "source": [
    "df"
   ]
  },
  {
   "cell_type": "code",
   "execution_count": null,
   "metadata": {
    "collapsed": true
   },
   "outputs": [],
   "source": []
  }
 ],
 "metadata": {
  "kernelspec": {
   "display_name": "Python 3",
   "language": "python",
   "name": "python3"
  },
  "language_info": {
   "codemirror_mode": {
    "name": "ipython",
    "version": 3
   },
   "file_extension": ".py",
   "mimetype": "text/x-python",
   "name": "python",
   "nbconvert_exporter": "python",
   "pygments_lexer": "ipython3",
   "version": "3.4.5"
  }
 },
 "nbformat": 4,
 "nbformat_minor": 0
}
