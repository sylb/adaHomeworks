{
 "cells": [
  {
   "cell_type": "code",
   "execution_count": 1,
   "metadata": {
    "collapsed": true
   },
   "outputs": [],
   "source": [
    "yearStart = 2007\n",
    "yearEnd = 2016\n",
    "year = yearStart\n",
    "years = []\n",
    "while year < yearEnd:\n",
    "    years.append(\" {0}-{1}\".format(year,year+1))\n",
    "    year = year + 1"
   ]
  },
  {
   "cell_type": "code",
   "execution_count": 2,
   "metadata": {
    "collapsed": true
   },
   "outputs": [],
   "source": [
    "bachelors = []\n",
    "for i in range(1,7):\n",
    "    bachelors.append(\" Bachelor semestre {}\".format(i))"
   ]
  },
  {
   "cell_type": "code",
   "execution_count": 3,
   "metadata": {
    "collapsed": false
   },
   "outputs": [
    {
     "ename": "NameError",
     "evalue": "name 'gps_df' is not defined",
     "output_type": "error",
     "traceback": [
      "\u001b[1;31m---------------------------------------------------------------------------\u001b[0m",
      "\u001b[1;31mNameError\u001b[0m                                 Traceback (most recent call last)",
      "\u001b[1;32m<ipython-input-3-90e019dafcbd>\u001b[0m in \u001b[0;36m<module>\u001b[1;34m()\u001b[0m\n\u001b[1;32m----> 1\u001b[1;33m \u001b[0mgps_final\u001b[0m \u001b[1;33m=\u001b[0m \u001b[0mgps_df\u001b[0m\u001b[1;33m[\u001b[0m\u001b[0mgps_df\u001b[0m\u001b[1;33m[\u001b[0m\u001b[1;34m'Section'\u001b[0m\u001b[1;33m]\u001b[0m \u001b[1;33m==\u001b[0m \u001b[1;34m\"Informatique\"\u001b[0m\u001b[1;33m]\u001b[0m\u001b[1;33m[\u001b[0m\u001b[0mgps_df\u001b[0m\u001b[1;33m[\u001b[0m\u001b[1;34m'Year'\u001b[0m\u001b[1;33m]\u001b[0m\u001b[1;33m.\u001b[0m\u001b[0misin\u001b[0m\u001b[1;33m(\u001b[0m\u001b[0myears\u001b[0m\u001b[1;33m)\u001b[0m\u001b[1;33m]\u001b[0m\u001b[1;33m[\u001b[0m\u001b[0mgps_df\u001b[0m\u001b[1;33m[\u001b[0m\u001b[1;34m'Saison'\u001b[0m\u001b[1;33m]\u001b[0m\u001b[1;33m.\u001b[0m\u001b[0misin\u001b[0m\u001b[1;33m(\u001b[0m\u001b[0mbachelors\u001b[0m\u001b[1;33m)\u001b[0m\u001b[1;33m]\u001b[0m\u001b[1;33m\u001b[0m\u001b[0m\n\u001b[0m\u001b[0;32m      2\u001b[0m \u001b[0mgps_final\u001b[0m\u001b[1;33m\u001b[0m\u001b[0m\n",
      "\u001b[1;31mNameError\u001b[0m: name 'gps_df' is not defined"
     ]
    }
   ],
   "source": [
    "gps_final = gps_df[gps_df['Section'] == \"Informatique\"][gps_df['Year'].isin(years)][gps_df['Saison'].isin(bachelors)]\n",
    "gps_final"
   ]
  },
  {
   "cell_type": "code",
   "execution_count": null,
   "metadata": {
    "collapsed": true
   },
   "outputs": [],
   "source": [
    "url = 'http://isa.epfl.ch/imoniteur_ISAP/!GEDPUBLICREPORTS.html?'"
   ]
  },
  {
   "cell_type": "code",
   "execution_count": null,
   "metadata": {
    "collapsed": true
   },
   "outputs": [],
   "source": [
    "dfs = []\n",
    "for gps_value in gps_final.index:\n",
    "    payload = {'ww_x_GPS': gps_value, 'ww_i_reportModel': 133685247, 'ww_i_reportModelXsl' : 133685270}\n",
    "    req = requests.get(url, params=payload)\n",
    "    df = pd.read_html(req.content, header=1)[0]\n",
    "    df=df.rename(columns = {'Statut':'Status' + str(gps_final.loc[gps_value].Saison) + ' ' + str(gps_final.loc[gps_value].Year)})\n",
    "    #df.set_index(\"No Sciper\", inplace=True)\n",
    "    dfs.append(df)\n",
    "len(dfs)"
   ]
  },
  {
   "cell_type": "code",
   "execution_count": null,
   "metadata": {
    "collapsed": true
   },
   "outputs": [],
   "source": [
    "df_BA = pd.concat(dfs, axis=0)"
   ]
  }
 ],
 "metadata": {
  "anaconda-cloud": {},
  "kernelspec": {
   "display_name": "Python [Root]",
   "language": "python",
   "name": "Python [Root]"
  },
  "language_info": {
   "codemirror_mode": {
    "name": "ipython",
    "version": 3
   },
   "file_extension": ".py",
   "mimetype": "text/x-python",
   "name": "python",
   "nbconvert_exporter": "python",
   "pygments_lexer": "ipython3",
   "version": "3.5.2"
  }
 },
 "nbformat": 4,
 "nbformat_minor": 0
}
