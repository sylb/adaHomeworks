{
 "cells": [
  {
   "cell_type": "markdown",
   "metadata": {},
   "source": [
    "# Homework 4 - Applied ML\n",
    "## Exercise 1"
   ]
  },
  {
   "cell_type": "markdown",
   "metadata": {},
   "source": [
    "Our goal for this exercise is to predict the skin color of a soccer player given  his description. We will use a Random Forest Classifier and discuss the importance of each feature of the dataset."
   ]
  },
  {
   "cell_type": "code",
   "execution_count": 1,
   "metadata": {
    "collapsed": true
   },
   "outputs": [],
   "source": [
    "# Standard imports\n",
    "%matplotlib inline\n",
    "import pandas as pd\n",
    "import numpy as np\n",
    "import matplotlib.pyplot as plt\n",
    "import warnings\n",
    "warnings.filterwarnings('ignore') # for cleaner output"
   ]
  },
  {
   "cell_type": "code",
   "execution_count": 2,
   "metadata": {
    "collapsed": true
   },
   "outputs": [],
   "source": [
    "import sklearn.ensemble\n",
    "from sklearn.preprocessing import OneHotEncoder\n",
    "from sklearn.feature_extraction import DictVectorizer\n",
    "from sklearn.cross_validation import train_test_split\n",
    "from sklearn import preprocessing"
   ]
  },
  {
   "cell_type": "markdown",
   "metadata": {},
   "source": [
    "### Cleaning the Data"
   ]
  },
  {
   "cell_type": "code",
   "execution_count": 3,
   "metadata": {
    "collapsed": false
   },
   "outputs": [
    {
     "data": {
      "text/plain": [
       "(146028, 28)"
      ]
     },
     "execution_count": 3,
     "metadata": {},
     "output_type": "execute_result"
    }
   ],
   "source": [
    "df_raw = pd.read_csv('CrowdstormingDataJuly1st.csv')\n",
    "df_raw.shape"
   ]
  },
  {
   "cell_type": "markdown",
   "metadata": {},
   "source": [
    "First, we discard all the rows which have no data for the columns rater1 and rater2 and then we compute the mean of the raters to obtain a value between 0 and 1 which we define as the skin colour."
   ]
  },
  {
   "cell_type": "code",
   "execution_count": 4,
   "metadata": {
    "collapsed": true
   },
   "outputs": [],
   "source": [
    "df = df_raw.dropna(subset=['rater1', 'rater2'])"
   ]
  },
  {
   "cell_type": "code",
   "execution_count": 5,
   "metadata": {
    "collapsed": false
   },
   "outputs": [
    {
     "data": {
      "text/html": [
       "<div>\n",
       "<table border=\"1\" class=\"dataframe\">\n",
       "  <thead>\n",
       "    <tr style=\"text-align: right;\">\n",
       "      <th></th>\n",
       "      <th>playerShort</th>\n",
       "      <th>player</th>\n",
       "      <th>club</th>\n",
       "      <th>leagueCountry</th>\n",
       "      <th>birthday</th>\n",
       "      <th>height</th>\n",
       "      <th>weight</th>\n",
       "      <th>position</th>\n",
       "      <th>games</th>\n",
       "      <th>victories</th>\n",
       "      <th>...</th>\n",
       "      <th>refNum</th>\n",
       "      <th>refCountry</th>\n",
       "      <th>Alpha_3</th>\n",
       "      <th>meanIAT</th>\n",
       "      <th>nIAT</th>\n",
       "      <th>seIAT</th>\n",
       "      <th>meanExp</th>\n",
       "      <th>nExp</th>\n",
       "      <th>seExp</th>\n",
       "      <th>skin_colour</th>\n",
       "    </tr>\n",
       "  </thead>\n",
       "  <tbody>\n",
       "    <tr>\n",
       "      <th>0</th>\n",
       "      <td>lucas-wilchez</td>\n",
       "      <td>Lucas Wilchez</td>\n",
       "      <td>Real Zaragoza</td>\n",
       "      <td>Spain</td>\n",
       "      <td>31.08.1983</td>\n",
       "      <td>177.0</td>\n",
       "      <td>72.0</td>\n",
       "      <td>Attacking Midfielder</td>\n",
       "      <td>1</td>\n",
       "      <td>0</td>\n",
       "      <td>...</td>\n",
       "      <td>1</td>\n",
       "      <td>1</td>\n",
       "      <td>GRC</td>\n",
       "      <td>0.326391</td>\n",
       "      <td>712.0</td>\n",
       "      <td>0.000564</td>\n",
       "      <td>0.396000</td>\n",
       "      <td>750.0</td>\n",
       "      <td>0.002696</td>\n",
       "      <td>0.375</td>\n",
       "    </tr>\n",
       "    <tr>\n",
       "      <th>1</th>\n",
       "      <td>john-utaka</td>\n",
       "      <td>John Utaka</td>\n",
       "      <td>Montpellier HSC</td>\n",
       "      <td>France</td>\n",
       "      <td>08.01.1982</td>\n",
       "      <td>179.0</td>\n",
       "      <td>82.0</td>\n",
       "      <td>Right Winger</td>\n",
       "      <td>1</td>\n",
       "      <td>0</td>\n",
       "      <td>...</td>\n",
       "      <td>2</td>\n",
       "      <td>2</td>\n",
       "      <td>ZMB</td>\n",
       "      <td>0.203375</td>\n",
       "      <td>40.0</td>\n",
       "      <td>0.010875</td>\n",
       "      <td>-0.204082</td>\n",
       "      <td>49.0</td>\n",
       "      <td>0.061504</td>\n",
       "      <td>0.750</td>\n",
       "    </tr>\n",
       "    <tr>\n",
       "      <th>5</th>\n",
       "      <td>aaron-hughes</td>\n",
       "      <td>Aaron Hughes</td>\n",
       "      <td>Fulham FC</td>\n",
       "      <td>England</td>\n",
       "      <td>08.11.1979</td>\n",
       "      <td>182.0</td>\n",
       "      <td>71.0</td>\n",
       "      <td>Center Back</td>\n",
       "      <td>1</td>\n",
       "      <td>0</td>\n",
       "      <td>...</td>\n",
       "      <td>4</td>\n",
       "      <td>4</td>\n",
       "      <td>LUX</td>\n",
       "      <td>0.325185</td>\n",
       "      <td>127.0</td>\n",
       "      <td>0.003297</td>\n",
       "      <td>0.538462</td>\n",
       "      <td>130.0</td>\n",
       "      <td>0.013752</td>\n",
       "      <td>0.125</td>\n",
       "    </tr>\n",
       "    <tr>\n",
       "      <th>6</th>\n",
       "      <td>aleksandar-kolarov</td>\n",
       "      <td>Aleksandar Kolarov</td>\n",
       "      <td>Manchester City</td>\n",
       "      <td>England</td>\n",
       "      <td>10.11.1985</td>\n",
       "      <td>187.0</td>\n",
       "      <td>80.0</td>\n",
       "      <td>Left Fullback</td>\n",
       "      <td>1</td>\n",
       "      <td>1</td>\n",
       "      <td>...</td>\n",
       "      <td>4</td>\n",
       "      <td>4</td>\n",
       "      <td>LUX</td>\n",
       "      <td>0.325185</td>\n",
       "      <td>127.0</td>\n",
       "      <td>0.003297</td>\n",
       "      <td>0.538462</td>\n",
       "      <td>130.0</td>\n",
       "      <td>0.013752</td>\n",
       "      <td>0.125</td>\n",
       "    </tr>\n",
       "    <tr>\n",
       "      <th>7</th>\n",
       "      <td>alexander-tettey</td>\n",
       "      <td>Alexander Tettey</td>\n",
       "      <td>Norwich City</td>\n",
       "      <td>England</td>\n",
       "      <td>04.04.1986</td>\n",
       "      <td>180.0</td>\n",
       "      <td>68.0</td>\n",
       "      <td>Defensive Midfielder</td>\n",
       "      <td>1</td>\n",
       "      <td>0</td>\n",
       "      <td>...</td>\n",
       "      <td>4</td>\n",
       "      <td>4</td>\n",
       "      <td>LUX</td>\n",
       "      <td>0.325185</td>\n",
       "      <td>127.0</td>\n",
       "      <td>0.003297</td>\n",
       "      <td>0.538462</td>\n",
       "      <td>130.0</td>\n",
       "      <td>0.013752</td>\n",
       "      <td>1.000</td>\n",
       "    </tr>\n",
       "  </tbody>\n",
       "</table>\n",
       "<p>5 rows × 27 columns</p>\n",
       "</div>"
      ],
      "text/plain": [
       "          playerShort              player             club leagueCountry  \\\n",
       "0       lucas-wilchez       Lucas Wilchez    Real Zaragoza         Spain   \n",
       "1          john-utaka          John Utaka  Montpellier HSC        France   \n",
       "5        aaron-hughes        Aaron Hughes        Fulham FC       England   \n",
       "6  aleksandar-kolarov  Aleksandar Kolarov  Manchester City       England   \n",
       "7    alexander-tettey    Alexander Tettey     Norwich City       England   \n",
       "\n",
       "     birthday  height  weight              position  games  victories  \\\n",
       "0  31.08.1983   177.0    72.0  Attacking Midfielder      1          0   \n",
       "1  08.01.1982   179.0    82.0          Right Winger      1          0   \n",
       "5  08.11.1979   182.0    71.0           Center Back      1          0   \n",
       "6  10.11.1985   187.0    80.0         Left Fullback      1          1   \n",
       "7  04.04.1986   180.0    68.0  Defensive Midfielder      1          0   \n",
       "\n",
       "      ...      refNum  refCountry  Alpha_3   meanIAT   nIAT     seIAT  \\\n",
       "0     ...           1           1      GRC  0.326391  712.0  0.000564   \n",
       "1     ...           2           2      ZMB  0.203375   40.0  0.010875   \n",
       "5     ...           4           4      LUX  0.325185  127.0  0.003297   \n",
       "6     ...           4           4      LUX  0.325185  127.0  0.003297   \n",
       "7     ...           4           4      LUX  0.325185  127.0  0.003297   \n",
       "\n",
       "    meanExp   nExp     seExp skin_colour  \n",
       "0  0.396000  750.0  0.002696       0.375  \n",
       "1 -0.204082   49.0  0.061504       0.750  \n",
       "5  0.538462  130.0  0.013752       0.125  \n",
       "6  0.538462  130.0  0.013752       0.125  \n",
       "7  0.538462  130.0  0.013752       1.000  \n",
       "\n",
       "[5 rows x 27 columns]"
      ]
     },
     "execution_count": 5,
     "metadata": {},
     "output_type": "execute_result"
    }
   ],
   "source": [
    "df['skin_colour'] = df[['rater1', 'rater2']].mean(axis=1)\n",
    "df = df.drop(['rater1', 'rater2'], axis=1)\n",
    "df.head()"
   ]
  },
  {
   "cell_type": "markdown",
   "metadata": {},
   "source": [
    "Here are the columns for each dyad, we will keep only the revelent ones for the rest of the exercise. Since we are interested in the characteristics of each player, we drop the columns related to the referee."
   ]
  },
  {
   "cell_type": "code",
   "execution_count": 6,
   "metadata": {
    "collapsed": false
   },
   "outputs": [
    {
     "data": {
      "text/plain": [
       "Index(['playerShort', 'player', 'club', 'leagueCountry', 'birthday', 'height',\n",
       "       'weight', 'position', 'games', 'victories', 'ties', 'defeats', 'goals',\n",
       "       'yellowCards', 'yellowReds', 'redCards', 'photoID', 'refNum',\n",
       "       'refCountry', 'Alpha_3', 'meanIAT', 'nIAT', 'seIAT', 'meanExp', 'nExp',\n",
       "       'seExp', 'skin_colour'],\n",
       "      dtype='object')"
      ]
     },
     "execution_count": 6,
     "metadata": {},
     "output_type": "execute_result"
    }
   ],
   "source": [
    "df.columns"
   ]
  },
  {
   "cell_type": "markdown",
   "metadata": {},
   "source": [
    "Then we group the data by player and we use the operator max() to keep the value with the maximum number of occurences for the categorical values and we add the numerical values such as the number of games."
   ]
  },
  {
   "cell_type": "code",
   "execution_count": 7,
   "metadata": {
    "collapsed": false
   },
   "outputs": [
    {
     "data": {
      "text/html": [
       "<div>\n",
       "<table border=\"1\" class=\"dataframe\">\n",
       "  <thead>\n",
       "    <tr style=\"text-align: right;\">\n",
       "      <th></th>\n",
       "      <th>club</th>\n",
       "      <th>leagueCountry</th>\n",
       "      <th>height</th>\n",
       "      <th>weight</th>\n",
       "      <th>position</th>\n",
       "      <th>skin_colour</th>\n",
       "      <th>games</th>\n",
       "      <th>victories</th>\n",
       "      <th>ties</th>\n",
       "      <th>defeats</th>\n",
       "      <th>goals</th>\n",
       "      <th>yellowCards</th>\n",
       "      <th>yellowReds</th>\n",
       "      <th>redCards</th>\n",
       "    </tr>\n",
       "    <tr>\n",
       "      <th>playerShort</th>\n",
       "      <th></th>\n",
       "      <th></th>\n",
       "      <th></th>\n",
       "      <th></th>\n",
       "      <th></th>\n",
       "      <th></th>\n",
       "      <th></th>\n",
       "      <th></th>\n",
       "      <th></th>\n",
       "      <th></th>\n",
       "      <th></th>\n",
       "      <th></th>\n",
       "      <th></th>\n",
       "      <th></th>\n",
       "    </tr>\n",
       "  </thead>\n",
       "  <tbody>\n",
       "    <tr>\n",
       "      <th>aaron-hughes</th>\n",
       "      <td>Fulham FC</td>\n",
       "      <td>England</td>\n",
       "      <td>182.0</td>\n",
       "      <td>71.0</td>\n",
       "      <td>Center Back</td>\n",
       "      <td>0.125</td>\n",
       "      <td>654</td>\n",
       "      <td>247</td>\n",
       "      <td>179</td>\n",
       "      <td>228</td>\n",
       "      <td>9</td>\n",
       "      <td>19</td>\n",
       "      <td>0</td>\n",
       "      <td>0</td>\n",
       "    </tr>\n",
       "    <tr>\n",
       "      <th>aaron-hunt</th>\n",
       "      <td>Werder Bremen</td>\n",
       "      <td>Germany</td>\n",
       "      <td>183.0</td>\n",
       "      <td>73.0</td>\n",
       "      <td>Attacking Midfielder</td>\n",
       "      <td>0.125</td>\n",
       "      <td>336</td>\n",
       "      <td>141</td>\n",
       "      <td>73</td>\n",
       "      <td>122</td>\n",
       "      <td>62</td>\n",
       "      <td>42</td>\n",
       "      <td>0</td>\n",
       "      <td>1</td>\n",
       "    </tr>\n",
       "    <tr>\n",
       "      <th>aaron-lennon</th>\n",
       "      <td>Tottenham Hotspur</td>\n",
       "      <td>England</td>\n",
       "      <td>165.0</td>\n",
       "      <td>63.0</td>\n",
       "      <td>Right Midfielder</td>\n",
       "      <td>0.250</td>\n",
       "      <td>412</td>\n",
       "      <td>200</td>\n",
       "      <td>97</td>\n",
       "      <td>115</td>\n",
       "      <td>31</td>\n",
       "      <td>11</td>\n",
       "      <td>0</td>\n",
       "      <td>0</td>\n",
       "    </tr>\n",
       "    <tr>\n",
       "      <th>aaron-ramsey</th>\n",
       "      <td>Arsenal FC</td>\n",
       "      <td>England</td>\n",
       "      <td>178.0</td>\n",
       "      <td>76.0</td>\n",
       "      <td>Center Midfielder</td>\n",
       "      <td>0.000</td>\n",
       "      <td>260</td>\n",
       "      <td>150</td>\n",
       "      <td>42</td>\n",
       "      <td>68</td>\n",
       "      <td>39</td>\n",
       "      <td>31</td>\n",
       "      <td>0</td>\n",
       "      <td>1</td>\n",
       "    </tr>\n",
       "    <tr>\n",
       "      <th>abdelhamid-el-kaoutari</th>\n",
       "      <td>Montpellier HSC</td>\n",
       "      <td>France</td>\n",
       "      <td>180.0</td>\n",
       "      <td>73.0</td>\n",
       "      <td>Center Back</td>\n",
       "      <td>0.250</td>\n",
       "      <td>124</td>\n",
       "      <td>41</td>\n",
       "      <td>40</td>\n",
       "      <td>43</td>\n",
       "      <td>1</td>\n",
       "      <td>8</td>\n",
       "      <td>4</td>\n",
       "      <td>2</td>\n",
       "    </tr>\n",
       "  </tbody>\n",
       "</table>\n",
       "</div>"
      ],
      "text/plain": [
       "                                     club leagueCountry  height  weight  \\\n",
       "playerShort                                                               \n",
       "aaron-hughes                    Fulham FC       England   182.0    71.0   \n",
       "aaron-hunt                  Werder Bremen       Germany   183.0    73.0   \n",
       "aaron-lennon            Tottenham Hotspur       England   165.0    63.0   \n",
       "aaron-ramsey                   Arsenal FC       England   178.0    76.0   \n",
       "abdelhamid-el-kaoutari    Montpellier HSC        France   180.0    73.0   \n",
       "\n",
       "                                    position  skin_colour  games  victories  \\\n",
       "playerShort                                                                   \n",
       "aaron-hughes                     Center Back        0.125    654        247   \n",
       "aaron-hunt              Attacking Midfielder        0.125    336        141   \n",
       "aaron-lennon                Right Midfielder        0.250    412        200   \n",
       "aaron-ramsey               Center Midfielder        0.000    260        150   \n",
       "abdelhamid-el-kaoutari           Center Back        0.250    124         41   \n",
       "\n",
       "                        ties  defeats  goals  yellowCards  yellowReds  \\\n",
       "playerShort                                                             \n",
       "aaron-hughes             179      228      9           19           0   \n",
       "aaron-hunt                73      122     62           42           0   \n",
       "aaron-lennon              97      115     31           11           0   \n",
       "aaron-ramsey              42       68     39           31           0   \n",
       "abdelhamid-el-kaoutari    40       43      1            8           4   \n",
       "\n",
       "                        redCards  \n",
       "playerShort                       \n",
       "aaron-hughes                   0  \n",
       "aaron-hunt                     1  \n",
       "aaron-lennon                   0  \n",
       "aaron-ramsey                   1  \n",
       "abdelhamid-el-kaoutari         2  "
      ]
     },
     "execution_count": 7,
     "metadata": {},
     "output_type": "execute_result"
    }
   ],
   "source": [
    "df_playergr1 = df[['playerShort', 'club', 'leagueCountry',\n",
    "                   'height', 'weight', 'position', 'skin_colour']].groupby('playerShort').max()\n",
    "df_playergr2 = df[['playerShort', 'games', 'victories', 'ties', 'defeats', 'goals',\n",
    "                   'yellowCards', 'yellowReds', 'redCards']].groupby('playerShort').sum()\n",
    "df_player = pd.concat([df_playergr1, df_playergr2], axis=1)\n",
    "df_player.head()"
   ]
  },
  {
   "cell_type": "markdown",
   "metadata": {},
   "source": [
    "Here are some plots to have a first look at the possible correlations between the skin color and the others features of the dataframe."
   ]
  },
  {
   "cell_type": "code",
   "execution_count": 8,
   "metadata": {
    "collapsed": false,
    "scrolled": true
   },
   "outputs": [
    {
     "data": {
      "text/plain": [
       "<matplotlib.collections.PathCollection at 0xbb43a58>"
      ]
     },
     "execution_count": 8,
     "metadata": {},
     "output_type": "execute_result"
    },
    {
     "data": {
      "image/png": "[encoded data removed]",
      "text/plain": [
       "<matplotlib.figure.Figure at 0xadb1940>"
      ]
     },
     "metadata": {},
     "output_type": "display_data"
    }
   ],
   "source": [
    "plt.scatter(df_player.games, df_player.skin_colour)"
   ]
  },
  {
   "cell_type": "code",
   "execution_count": 9,
   "metadata": {
    "collapsed": false
   },
   "outputs": [
    {
     "data": {
      "text/plain": [
       "<matplotlib.collections.PathCollection at 0xae4a7b8>"
      ]
     },
     "execution_count": 9,
     "metadata": {},
     "output_type": "execute_result"
    },
    {
     "data": {
      "image/png": "[encoded data removed]",
      "text/plain": [
       "<matplotlib.figure.Figure at 0xbb920f0>"
      ]
     },
     "metadata": {},
     "output_type": "display_data"
    }
   ],
   "source": [
    "plt.scatter(df_player.goals, df_player.skin_colour)"
   ]
  },
  {
   "cell_type": "code",
   "execution_count": 10,
   "metadata": {
    "collapsed": false
   },
   "outputs": [
    {
     "data": {
      "text/plain": [
       "<matplotlib.collections.PathCollection at 0xaead8d0>"
      ]
     },
     "execution_count": 10,
     "metadata": {},
     "output_type": "execute_result"
    },
    {
     "data": {
      "image/png": "[encoded data removed]",
      "text/plain": [
       "<matplotlib.figure.Figure at 0xae68cf8>"
      ]
     },
     "metadata": {},
     "output_type": "display_data"
    }
   ],
   "source": [
    "plt.scatter(df_player.yellowCards, df_player.skin_colour)"
   ]
  },
  {
   "cell_type": "code",
   "execution_count": 11,
   "metadata": {
    "collapsed": false
   },
   "outputs": [
    {
     "data": {
      "text/plain": [
       "<matplotlib.collections.PathCollection at 0xaf0fdd8>"
      ]
     },
     "execution_count": 11,
     "metadata": {},
     "output_type": "execute_result"
    },
    {
     "data": {
      "image/png": "[encoded data removed]",
      "text/plain": [
       "<matplotlib.figure.Figure at 0xaecf390>"
      ]
     },
     "metadata": {},
     "output_type": "display_data"
    }
   ],
   "source": [
    "plt.scatter(df_player.yellowReds, df_player.skin_colour)"
   ]
  },
  {
   "cell_type": "code",
   "execution_count": 12,
   "metadata": {
    "collapsed": false,
    "scrolled": true
   },
   "outputs": [
    {
     "data": {
      "text/plain": [
       "<matplotlib.collections.PathCollection at 0xaf7e128>"
      ]
     },
     "execution_count": 12,
     "metadata": {},
     "output_type": "execute_result"
    },
    {
     "data": {
      "image/png": "[encoded data removed]",
      "text/plain": [
       "<matplotlib.figure.Figure at 0xaf20908>"
      ]
     },
     "metadata": {},
     "output_type": "display_data"
    }
   ],
   "source": [
    "plt.scatter(df_player.redCards, df_player.skin_colour)"
   ]
  },
  {
   "cell_type": "markdown",
   "metadata": {},
   "source": [
    "We can not see any obvious correlation between the values but we can notice that there are much more player with a fairer skin tone and thus the data are skwed. "
   ]
  },
  {
   "cell_type": "markdown",
   "metadata": {},
   "source": [
    "We can see that they are still some columns with NaN values, we decided to drop the rows which have no weight or height since there are very few of them. We replace the NaN values in the position column by \"No Info\" so that they will be properly encoded later. "
   ]
  },
  {
   "cell_type": "code",
   "execution_count": 13,
   "metadata": {
    "collapsed": false
   },
   "outputs": [
    {
     "data": {
      "text/plain": [
       "club               0\n",
       "leagueCountry      0\n",
       "height             3\n",
       "weight            21\n",
       "position         152\n",
       "skin_colour        0\n",
       "games              0\n",
       "victories          0\n",
       "ties               0\n",
       "defeats            0\n",
       "goals              0\n",
       "yellowCards        0\n",
       "yellowReds         0\n",
       "redCards           0\n",
       "dtype: int64"
      ]
     },
     "execution_count": 13,
     "metadata": {},
     "output_type": "execute_result"
    }
   ],
   "source": [
    "df_player.isnull().sum()"
   ]
  },
  {
   "cell_type": "code",
   "execution_count": 14,
   "metadata": {
    "collapsed": false
   },
   "outputs": [],
   "source": [
    "df_player.position = df_player[['position']].fillna('No Info')\n",
    "df_player = df_player.dropna(subset=['height', 'weight'])"
   ]
  },
  {
   "cell_type": "markdown",
   "metadata": {},
   "source": [
    "As suspected before, we can see that there are fewer players with a darak skin tone. Thus, the distribution is skewed and we must be carefull with our results."
   ]
  },
  {
   "cell_type": "code",
   "execution_count": 33,
   "metadata": {
    "collapsed": false,
    "scrolled": true
   },
   "outputs": [
    {
     "data": {
      "text/plain": [
       "0.250    466\n",
       "0.000    418\n",
       "0.125    225\n",
       "0.500    115\n",
       "0.750    100\n",
       "1.000     90\n",
       "0.375     77\n",
       "0.875     40\n",
       "0.625     33\n",
       "Name: skin_colour, dtype: int64"
      ]
     },
     "execution_count": 33,
     "metadata": {},
     "output_type": "execute_result"
    }
   ],
   "source": [
    "df_player['skin_colour'].value_counts()"
   ]
  },
  {
   "cell_type": "markdown",
   "metadata": {},
   "source": [
    "We decided to use 3 classifications models. \n",
    "- The first one is a binary model where all skin_colour values below 0.5 are considered white and all above black. The players with skin_colour value exactly 0.5 are dropped.\n",
    "- The second one is a ternary model. The players with skin_colour values in [0, 0.25] are in the first category, the second catergory is composed of the players with skin_colour values in ]0.25, 0.75[ and finally the players with skin_colour values greater or equal to 0.75 are in the third category.  \n",
    "- The last model consider the 9 category produced by the mean of the two raters."
   ]
  },
  {
   "cell_type": "code",
   "execution_count": 16,
   "metadata": {
    "collapsed": true
   },
   "outputs": [],
   "source": [
    "df_player_bin = df_player.copy()\n",
    "df_player_ter = df_player.copy()\n",
    "df_player_all = df_player.copy()"
   ]
  },
  {
   "cell_type": "code",
   "execution_count": 17,
   "metadata": {
    "collapsed": false,
    "scrolled": true
   },
   "outputs": [
    {
     "data": {
      "text/html": [
       "<div>\n",
       "<table border=\"1\" class=\"dataframe\">\n",
       "  <thead>\n",
       "    <tr style=\"text-align: right;\">\n",
       "      <th></th>\n",
       "      <th>club</th>\n",
       "      <th>leagueCountry</th>\n",
       "      <th>height</th>\n",
       "      <th>weight</th>\n",
       "      <th>position</th>\n",
       "      <th>skin_colour</th>\n",
       "      <th>games</th>\n",
       "      <th>victories</th>\n",
       "      <th>ties</th>\n",
       "      <th>defeats</th>\n",
       "      <th>goals</th>\n",
       "      <th>yellowCards</th>\n",
       "      <th>yellowReds</th>\n",
       "      <th>redCards</th>\n",
       "    </tr>\n",
       "    <tr>\n",
       "      <th>playerShort</th>\n",
       "      <th></th>\n",
       "      <th></th>\n",
       "      <th></th>\n",
       "      <th></th>\n",
       "      <th></th>\n",
       "      <th></th>\n",
       "      <th></th>\n",
       "      <th></th>\n",
       "      <th></th>\n",
       "      <th></th>\n",
       "      <th></th>\n",
       "      <th></th>\n",
       "      <th></th>\n",
       "      <th></th>\n",
       "    </tr>\n",
       "  </thead>\n",
       "  <tbody>\n",
       "    <tr>\n",
       "      <th>aaron-hughes</th>\n",
       "      <td>Fulham FC</td>\n",
       "      <td>England</td>\n",
       "      <td>182.0</td>\n",
       "      <td>71.0</td>\n",
       "      <td>Center Back</td>\n",
       "      <td>0.0</td>\n",
       "      <td>654</td>\n",
       "      <td>247</td>\n",
       "      <td>179</td>\n",
       "      <td>228</td>\n",
       "      <td>9</td>\n",
       "      <td>19</td>\n",
       "      <td>0</td>\n",
       "      <td>0</td>\n",
       "    </tr>\n",
       "    <tr>\n",
       "      <th>aaron-hunt</th>\n",
       "      <td>Werder Bremen</td>\n",
       "      <td>Germany</td>\n",
       "      <td>183.0</td>\n",
       "      <td>73.0</td>\n",
       "      <td>Attacking Midfielder</td>\n",
       "      <td>0.0</td>\n",
       "      <td>336</td>\n",
       "      <td>141</td>\n",
       "      <td>73</td>\n",
       "      <td>122</td>\n",
       "      <td>62</td>\n",
       "      <td>42</td>\n",
       "      <td>0</td>\n",
       "      <td>1</td>\n",
       "    </tr>\n",
       "    <tr>\n",
       "      <th>aaron-lennon</th>\n",
       "      <td>Tottenham Hotspur</td>\n",
       "      <td>England</td>\n",
       "      <td>165.0</td>\n",
       "      <td>63.0</td>\n",
       "      <td>Right Midfielder</td>\n",
       "      <td>0.0</td>\n",
       "      <td>412</td>\n",
       "      <td>200</td>\n",
       "      <td>97</td>\n",
       "      <td>115</td>\n",
       "      <td>31</td>\n",
       "      <td>11</td>\n",
       "      <td>0</td>\n",
       "      <td>0</td>\n",
       "    </tr>\n",
       "    <tr>\n",
       "      <th>aaron-ramsey</th>\n",
       "      <td>Arsenal FC</td>\n",
       "      <td>England</td>\n",
       "      <td>178.0</td>\n",
       "      <td>76.0</td>\n",
       "      <td>Center Midfielder</td>\n",
       "      <td>0.0</td>\n",
       "      <td>260</td>\n",
       "      <td>150</td>\n",
       "      <td>42</td>\n",
       "      <td>68</td>\n",
       "      <td>39</td>\n",
       "      <td>31</td>\n",
       "      <td>0</td>\n",
       "      <td>1</td>\n",
       "    </tr>\n",
       "    <tr>\n",
       "      <th>abdelhamid-el-kaoutari</th>\n",
       "      <td>Montpellier HSC</td>\n",
       "      <td>France</td>\n",
       "      <td>180.0</td>\n",
       "      <td>73.0</td>\n",
       "      <td>Center Back</td>\n",
       "      <td>0.0</td>\n",
       "      <td>124</td>\n",
       "      <td>41</td>\n",
       "      <td>40</td>\n",
       "      <td>43</td>\n",
       "      <td>1</td>\n",
       "      <td>8</td>\n",
       "      <td>4</td>\n",
       "      <td>2</td>\n",
       "    </tr>\n",
       "  </tbody>\n",
       "</table>\n",
       "</div>"
      ],
      "text/plain": [
       "                                     club leagueCountry  height  weight  \\\n",
       "playerShort                                                               \n",
       "aaron-hughes                    Fulham FC       England   182.0    71.0   \n",
       "aaron-hunt                  Werder Bremen       Germany   183.0    73.0   \n",
       "aaron-lennon            Tottenham Hotspur       England   165.0    63.0   \n",
       "aaron-ramsey                   Arsenal FC       England   178.0    76.0   \n",
       "abdelhamid-el-kaoutari    Montpellier HSC        France   180.0    73.0   \n",
       "\n",
       "                                    position  skin_colour  games  victories  \\\n",
       "playerShort                                                                   \n",
       "aaron-hughes                     Center Back          0.0    654        247   \n",
       "aaron-hunt              Attacking Midfielder          0.0    336        141   \n",
       "aaron-lennon                Right Midfielder          0.0    412        200   \n",
       "aaron-ramsey               Center Midfielder          0.0    260        150   \n",
       "abdelhamid-el-kaoutari           Center Back          0.0    124         41   \n",
       "\n",
       "                        ties  defeats  goals  yellowCards  yellowReds  \\\n",
       "playerShort                                                             \n",
       "aaron-hughes             179      228      9           19           0   \n",
       "aaron-hunt                73      122     62           42           0   \n",
       "aaron-lennon              97      115     31           11           0   \n",
       "aaron-ramsey              42       68     39           31           0   \n",
       "abdelhamid-el-kaoutari    40       43      1            8           4   \n",
       "\n",
       "                        redCards  \n",
       "playerShort                       \n",
       "aaron-hughes                   0  \n",
       "aaron-hunt                     1  \n",
       "aaron-lennon                   0  \n",
       "aaron-ramsey                   1  \n",
       "abdelhamid-el-kaoutari         2  "
      ]
     },
     "execution_count": 17,
     "metadata": {},
     "output_type": "execute_result"
    }
   ],
   "source": [
    "# Binary Classification (removing 0.5 and sorting the values)\n",
    "df_player_bin = df_player_bin[df_player_bin['skin_colour'] != 0.5]\n",
    "df_player_bin.loc[df_player_bin.skin_colour < 0.5, 'skin_colour'] = 0\n",
    "df_player_bin.loc[df_player_bin.skin_colour > 0.5, 'skin_colour'] = 1\n",
    "df_player_bin.head(5)"
   ]
  },
  {
   "cell_type": "code",
   "execution_count": 18,
   "metadata": {
    "collapsed": false,
    "scrolled": true
   },
   "outputs": [
    {
     "data": {
      "text/html": [
       "<div>\n",
       "<table border=\"1\" class=\"dataframe\">\n",
       "  <thead>\n",
       "    <tr style=\"text-align: right;\">\n",
       "      <th></th>\n",
       "      <th>club</th>\n",
       "      <th>leagueCountry</th>\n",
       "      <th>height</th>\n",
       "      <th>weight</th>\n",
       "      <th>position</th>\n",
       "      <th>skin_colour</th>\n",
       "      <th>games</th>\n",
       "      <th>victories</th>\n",
       "      <th>ties</th>\n",
       "      <th>defeats</th>\n",
       "      <th>goals</th>\n",
       "      <th>yellowCards</th>\n",
       "      <th>yellowReds</th>\n",
       "      <th>redCards</th>\n",
       "    </tr>\n",
       "    <tr>\n",
       "      <th>playerShort</th>\n",
       "      <th></th>\n",
       "      <th></th>\n",
       "      <th></th>\n",
       "      <th></th>\n",
       "      <th></th>\n",
       "      <th></th>\n",
       "      <th></th>\n",
       "      <th></th>\n",
       "      <th></th>\n",
       "      <th></th>\n",
       "      <th></th>\n",
       "      <th></th>\n",
       "      <th></th>\n",
       "      <th></th>\n",
       "    </tr>\n",
       "  </thead>\n",
       "  <tbody>\n",
       "    <tr>\n",
       "      <th>aaron-hughes</th>\n",
       "      <td>Fulham FC</td>\n",
       "      <td>England</td>\n",
       "      <td>182.0</td>\n",
       "      <td>71.0</td>\n",
       "      <td>Center Back</td>\n",
       "      <td>-1.0</td>\n",
       "      <td>654</td>\n",
       "      <td>247</td>\n",
       "      <td>179</td>\n",
       "      <td>228</td>\n",
       "      <td>9</td>\n",
       "      <td>19</td>\n",
       "      <td>0</td>\n",
       "      <td>0</td>\n",
       "    </tr>\n",
       "    <tr>\n",
       "      <th>aaron-hunt</th>\n",
       "      <td>Werder Bremen</td>\n",
       "      <td>Germany</td>\n",
       "      <td>183.0</td>\n",
       "      <td>73.0</td>\n",
       "      <td>Attacking Midfielder</td>\n",
       "      <td>-1.0</td>\n",
       "      <td>336</td>\n",
       "      <td>141</td>\n",
       "      <td>73</td>\n",
       "      <td>122</td>\n",
       "      <td>62</td>\n",
       "      <td>42</td>\n",
       "      <td>0</td>\n",
       "      <td>1</td>\n",
       "    </tr>\n",
       "    <tr>\n",
       "      <th>aaron-lennon</th>\n",
       "      <td>Tottenham Hotspur</td>\n",
       "      <td>England</td>\n",
       "      <td>165.0</td>\n",
       "      <td>63.0</td>\n",
       "      <td>Right Midfielder</td>\n",
       "      <td>-1.0</td>\n",
       "      <td>412</td>\n",
       "      <td>200</td>\n",
       "      <td>97</td>\n",
       "      <td>115</td>\n",
       "      <td>31</td>\n",
       "      <td>11</td>\n",
       "      <td>0</td>\n",
       "      <td>0</td>\n",
       "    </tr>\n",
       "    <tr>\n",
       "      <th>aaron-ramsey</th>\n",
       "      <td>Arsenal FC</td>\n",
       "      <td>England</td>\n",
       "      <td>178.0</td>\n",
       "      <td>76.0</td>\n",
       "      <td>Center Midfielder</td>\n",
       "      <td>-1.0</td>\n",
       "      <td>260</td>\n",
       "      <td>150</td>\n",
       "      <td>42</td>\n",
       "      <td>68</td>\n",
       "      <td>39</td>\n",
       "      <td>31</td>\n",
       "      <td>0</td>\n",
       "      <td>1</td>\n",
       "    </tr>\n",
       "    <tr>\n",
       "      <th>abdelhamid-el-kaoutari</th>\n",
       "      <td>Montpellier HSC</td>\n",
       "      <td>France</td>\n",
       "      <td>180.0</td>\n",
       "      <td>73.0</td>\n",
       "      <td>Center Back</td>\n",
       "      <td>-1.0</td>\n",
       "      <td>124</td>\n",
       "      <td>41</td>\n",
       "      <td>40</td>\n",
       "      <td>43</td>\n",
       "      <td>1</td>\n",
       "      <td>8</td>\n",
       "      <td>4</td>\n",
       "      <td>2</td>\n",
       "    </tr>\n",
       "  </tbody>\n",
       "</table>\n",
       "</div>"
      ],
      "text/plain": [
       "                                     club leagueCountry  height  weight  \\\n",
       "playerShort                                                               \n",
       "aaron-hughes                    Fulham FC       England   182.0    71.0   \n",
       "aaron-hunt                  Werder Bremen       Germany   183.0    73.0   \n",
       "aaron-lennon            Tottenham Hotspur       England   165.0    63.0   \n",
       "aaron-ramsey                   Arsenal FC       England   178.0    76.0   \n",
       "abdelhamid-el-kaoutari    Montpellier HSC        France   180.0    73.0   \n",
       "\n",
       "                                    position  skin_colour  games  victories  \\\n",
       "playerShort                                                                   \n",
       "aaron-hughes                     Center Back         -1.0    654        247   \n",
       "aaron-hunt              Attacking Midfielder         -1.0    336        141   \n",
       "aaron-lennon                Right Midfielder         -1.0    412        200   \n",
       "aaron-ramsey               Center Midfielder         -1.0    260        150   \n",
       "abdelhamid-el-kaoutari           Center Back         -1.0    124         41   \n",
       "\n",
       "                        ties  defeats  goals  yellowCards  yellowReds  \\\n",
       "playerShort                                                             \n",
       "aaron-hughes             179      228      9           19           0   \n",
       "aaron-hunt                73      122     62           42           0   \n",
       "aaron-lennon              97      115     31           11           0   \n",
       "aaron-ramsey              42       68     39           31           0   \n",
       "abdelhamid-el-kaoutari    40       43      1            8           4   \n",
       "\n",
       "                        redCards  \n",
       "playerShort                       \n",
       "aaron-hughes                   0  \n",
       "aaron-hunt                     1  \n",
       "aaron-lennon                   0  \n",
       "aaron-ramsey                   1  \n",
       "abdelhamid-el-kaoutari         2  "
      ]
     },
     "execution_count": 18,
     "metadata": {},
     "output_type": "execute_result"
    }
   ],
   "source": [
    "# Ternary Classification (3 groups of 3 values)\n",
    "df_player_ter.loc[df_player_ter.skin_colour <= 0.25, 'skin_colour'] = -1\n",
    "df_player_ter.loc[df_player_ter.skin_colour >= 0.75, 'skin_colour'] = 1\n",
    "df_player_ter.loc[(df_player_ter.skin_colour > 0.25) & (df_player_ter.skin_colour < 0.75), 'skin_colour'] = 0\n",
    "df_player_ter.head(5)"
   ]
  },
  {
   "cell_type": "code",
   "execution_count": 19,
   "metadata": {
    "collapsed": false
   },
   "outputs": [
    {
     "data": {
      "text/html": [
       "<div>\n",
       "<table border=\"1\" class=\"dataframe\">\n",
       "  <thead>\n",
       "    <tr style=\"text-align: right;\">\n",
       "      <th></th>\n",
       "      <th>club</th>\n",
       "      <th>leagueCountry</th>\n",
       "      <th>height</th>\n",
       "      <th>weight</th>\n",
       "      <th>position</th>\n",
       "      <th>skin_colour</th>\n",
       "      <th>games</th>\n",
       "      <th>victories</th>\n",
       "      <th>ties</th>\n",
       "      <th>defeats</th>\n",
       "      <th>goals</th>\n",
       "      <th>yellowCards</th>\n",
       "      <th>yellowReds</th>\n",
       "      <th>redCards</th>\n",
       "    </tr>\n",
       "    <tr>\n",
       "      <th>playerShort</th>\n",
       "      <th></th>\n",
       "      <th></th>\n",
       "      <th></th>\n",
       "      <th></th>\n",
       "      <th></th>\n",
       "      <th></th>\n",
       "      <th></th>\n",
       "      <th></th>\n",
       "      <th></th>\n",
       "      <th></th>\n",
       "      <th></th>\n",
       "      <th></th>\n",
       "      <th></th>\n",
       "      <th></th>\n",
       "    </tr>\n",
       "  </thead>\n",
       "  <tbody>\n",
       "    <tr>\n",
       "      <th>aaron-hughes</th>\n",
       "      <td>Fulham FC</td>\n",
       "      <td>England</td>\n",
       "      <td>182.0</td>\n",
       "      <td>71.0</td>\n",
       "      <td>Center Back</td>\n",
       "      <td>1.0</td>\n",
       "      <td>654</td>\n",
       "      <td>247</td>\n",
       "      <td>179</td>\n",
       "      <td>228</td>\n",
       "      <td>9</td>\n",
       "      <td>19</td>\n",
       "      <td>0</td>\n",
       "      <td>0</td>\n",
       "    </tr>\n",
       "    <tr>\n",
       "      <th>aaron-hunt</th>\n",
       "      <td>Werder Bremen</td>\n",
       "      <td>Germany</td>\n",
       "      <td>183.0</td>\n",
       "      <td>73.0</td>\n",
       "      <td>Attacking Midfielder</td>\n",
       "      <td>1.0</td>\n",
       "      <td>336</td>\n",
       "      <td>141</td>\n",
       "      <td>73</td>\n",
       "      <td>122</td>\n",
       "      <td>62</td>\n",
       "      <td>42</td>\n",
       "      <td>0</td>\n",
       "      <td>1</td>\n",
       "    </tr>\n",
       "    <tr>\n",
       "      <th>aaron-lennon</th>\n",
       "      <td>Tottenham Hotspur</td>\n",
       "      <td>England</td>\n",
       "      <td>165.0</td>\n",
       "      <td>63.0</td>\n",
       "      <td>Right Midfielder</td>\n",
       "      <td>2.0</td>\n",
       "      <td>412</td>\n",
       "      <td>200</td>\n",
       "      <td>97</td>\n",
       "      <td>115</td>\n",
       "      <td>31</td>\n",
       "      <td>11</td>\n",
       "      <td>0</td>\n",
       "      <td>0</td>\n",
       "    </tr>\n",
       "    <tr>\n",
       "      <th>aaron-ramsey</th>\n",
       "      <td>Arsenal FC</td>\n",
       "      <td>England</td>\n",
       "      <td>178.0</td>\n",
       "      <td>76.0</td>\n",
       "      <td>Center Midfielder</td>\n",
       "      <td>0.0</td>\n",
       "      <td>260</td>\n",
       "      <td>150</td>\n",
       "      <td>42</td>\n",
       "      <td>68</td>\n",
       "      <td>39</td>\n",
       "      <td>31</td>\n",
       "      <td>0</td>\n",
       "      <td>1</td>\n",
       "    </tr>\n",
       "    <tr>\n",
       "      <th>abdelhamid-el-kaoutari</th>\n",
       "      <td>Montpellier HSC</td>\n",
       "      <td>France</td>\n",
       "      <td>180.0</td>\n",
       "      <td>73.0</td>\n",
       "      <td>Center Back</td>\n",
       "      <td>2.0</td>\n",
       "      <td>124</td>\n",
       "      <td>41</td>\n",
       "      <td>40</td>\n",
       "      <td>43</td>\n",
       "      <td>1</td>\n",
       "      <td>8</td>\n",
       "      <td>4</td>\n",
       "      <td>2</td>\n",
       "    </tr>\n",
       "  </tbody>\n",
       "</table>\n",
       "</div>"
      ],
      "text/plain": [
       "                                     club leagueCountry  height  weight  \\\n",
       "playerShort                                                               \n",
       "aaron-hughes                    Fulham FC       England   182.0    71.0   \n",
       "aaron-hunt                  Werder Bremen       Germany   183.0    73.0   \n",
       "aaron-lennon            Tottenham Hotspur       England   165.0    63.0   \n",
       "aaron-ramsey                   Arsenal FC       England   178.0    76.0   \n",
       "abdelhamid-el-kaoutari    Montpellier HSC        France   180.0    73.0   \n",
       "\n",
       "                                    position  skin_colour  games  victories  \\\n",
       "playerShort                                                                   \n",
       "aaron-hughes                     Center Back          1.0    654        247   \n",
       "aaron-hunt              Attacking Midfielder          1.0    336        141   \n",
       "aaron-lennon                Right Midfielder          2.0    412        200   \n",
       "aaron-ramsey               Center Midfielder          0.0    260        150   \n",
       "abdelhamid-el-kaoutari           Center Back          2.0    124         41   \n",
       "\n",
       "                        ties  defeats  goals  yellowCards  yellowReds  \\\n",
       "playerShort                                                             \n",
       "aaron-hughes             179      228      9           19           0   \n",
       "aaron-hunt                73      122     62           42           0   \n",
       "aaron-lennon              97      115     31           11           0   \n",
       "aaron-ramsey              42       68     39           31           0   \n",
       "abdelhamid-el-kaoutari    40       43      1            8           4   \n",
       "\n",
       "                        redCards  \n",
       "playerShort                       \n",
       "aaron-hughes                   0  \n",
       "aaron-hunt                     1  \n",
       "aaron-lennon                   0  \n",
       "aaron-ramsey                   1  \n",
       "abdelhamid-el-kaoutari         2  "
      ]
     },
     "execution_count": 19,
     "metadata": {},
     "output_type": "execute_result"
    }
   ],
   "source": [
    "df_player_all.skin_colour = df_player_all.skin_colour * 8\n",
    "df_player_all.head(5)"
   ]
  },
  {
   "cell_type": "markdown",
   "metadata": {},
   "source": [
    "Then we drop the skin_colour column to obtain an unlabelled dataframe almost ready to be trained."
   ]
  },
  {
   "cell_type": "code",
   "execution_count": 20,
   "metadata": {
    "collapsed": false
   },
   "outputs": [],
   "source": [
    "df_ml_bin = df_player_bin.drop('skin_colour', axis=1)\n",
    "df_ml = df_player.drop('skin_colour', axis=1)"
   ]
  },
  {
   "cell_type": "markdown",
   "metadata": {},
   "source": [
    "We use the encoder from DictVectorizer to transform the categorical data into numbers."
   ]
  },
  {
   "cell_type": "code",
   "execution_count": 24,
   "metadata": {
    "collapsed": false
   },
   "outputs": [],
   "source": [
    "encoder = DictVectorizer(sparse=False)\n",
    "df_ml_bin_temp = df_ml_bin.convert_objects(convert_numeric=True)\n",
    "df_ml_bin_temp = encoder.fit_transform(df_ml_bin_temp.to_dict(orient='records'))\n",
    "\n",
    "df_ml_temp = df_ml.convert_objects(convert_numeric=True)\n",
    "df_ml_temp = encoder.fit_transform(df_ml_temp.to_dict(orient='records'))"
   ]
  },
  {
   "cell_type": "code",
   "execution_count": 25,
   "metadata": {
    "collapsed": false,
    "scrolled": true
   },
   "outputs": [
    {
     "data": {
      "text/plain": [
       "['club=1. FC Nürnberg',\n",
       " 'club=1. FSV Mainz 05',\n",
       " 'club=1899 Hoffenheim',\n",
       " 'club=AC Ajaccio',\n",
       " 'club=AS Nancy',\n",
       " 'club=AS Saint-Étienne',\n",
       " 'club=Arsenal FC',\n",
       " 'club=Arsenal FC (R)',\n",
       " 'club=Aston Villa',\n",
       " 'club=Athletic Bilbao',\n",
       " 'club=Atlético Madrid',\n",
       " 'club=Bayer Leverkusen',\n",
       " 'club=Bayern München',\n",
       " 'club=Blackburn Rovers',\n",
       " 'club=Bolton Wanderers',\n",
       " 'club=Bor. Mönchengladbach',\n",
       " 'club=Borussia Dortmund',\n",
       " 'club=CA Osasuna',\n",
       " 'club=CF Badalona',\n",
       " 'club=Celta Vigo',\n",
       " 'club=Chelsea FC',\n",
       " 'club=Crewe Alexandra',\n",
       " 'club=Deportivo La Coruña',\n",
       " 'club=ESTAC Troyes',\n",
       " 'club=Eintracht Frankfurt',\n",
       " 'club=Espanyol Barcelona',\n",
       " 'club=Everton FC',\n",
       " 'club=FC Augsburg',\n",
       " 'club=FC Barcelona',\n",
       " 'club=FC Lorient',\n",
       " 'club=FC Schalke 04',\n",
       " 'club=FC Sochaux',\n",
       " 'club=Fortuna Düsseldorf',\n",
       " 'club=Fulham FC',\n",
       " 'club=Getafe CF',\n",
       " 'club=Girondins Bordeaux',\n",
       " 'club=Granada CF',\n",
       " 'club=Hamburger SV',\n",
       " 'club=Hannover 96',\n",
       " 'club=Leeds United',\n",
       " 'club=Leicester City',\n",
       " 'club=Levante UD',\n",
       " 'club=Leyton Orient',\n",
       " 'club=Lille OSC',\n",
       " 'club=Liverpool FC',\n",
       " 'club=Liverpool FC (R)',\n",
       " 'club=MSV Duisburg',\n",
       " 'club=Manchester City',\n",
       " 'club=Manchester United',\n",
       " 'club=Millwall FC',\n",
       " 'club=Montpellier HSC',\n",
       " 'club=Málaga CF',\n",
       " 'club=Newcastle United',\n",
       " 'club=Norwich City',\n",
       " 'club=Nottingham Forest',\n",
       " 'club=OGC Nice',\n",
       " 'club=Olympique Lyon',\n",
       " 'club=Olympique Marseille',\n",
       " 'club=Paris Saint-Germain',\n",
       " 'club=Queens Park Rangers',\n",
       " 'club=RCD Mallorca',\n",
       " 'club=Rayo Vallecano',\n",
       " 'club=Reading FC',\n",
       " 'club=Real Betis',\n",
       " 'club=Real Jaén',\n",
       " 'club=Real Madrid',\n",
       " 'club=Real Madrid Castilla',\n",
       " 'club=Real Sociedad',\n",
       " 'club=Real Valladolid',\n",
       " 'club=Real Zaragoza',\n",
       " 'club=SC Bastia',\n",
       " 'club=SC Freiburg',\n",
       " 'club=SD Compostela',\n",
       " 'club=SV Sandhausen',\n",
       " 'club=Sevilla FC',\n",
       " 'club=Southampton FC',\n",
       " 'club=SpVgg Greuther Fürth',\n",
       " 'club=Stade Brest',\n",
       " 'club=Stade Reims',\n",
       " 'club=Stade Rennes',\n",
       " 'club=Stoke City',\n",
       " 'club=Sunderland AFC',\n",
       " 'club=Tottenham Hotspur',\n",
       " 'club=Tottenham Hotspur (R)',\n",
       " 'club=Toulouse FC',\n",
       " 'club=US Boulogne',\n",
       " 'club=Valencia CF',\n",
       " 'club=Valenciennes FC',\n",
       " 'club=VfB Stuttgart',\n",
       " 'club=VfL Wolfsburg',\n",
       " 'club=Werder Bremen',\n",
       " 'club=West Bromwich Albion',\n",
       " 'club=West Ham United',\n",
       " 'club=Wigan Athletic',\n",
       " 'club=Wolverhampton Wanderers',\n",
       " 'club=Évian Thonon Gaillard',\n",
       " 'defeats',\n",
       " 'games',\n",
       " 'goals',\n",
       " 'height',\n",
       " 'leagueCountry=England',\n",
       " 'leagueCountry=France',\n",
       " 'leagueCountry=Germany',\n",
       " 'leagueCountry=Spain',\n",
       " 'position=Attacking Midfielder',\n",
       " 'position=Center Back',\n",
       " 'position=Center Forward',\n",
       " 'position=Center Midfielder',\n",
       " 'position=Defensive Midfielder',\n",
       " 'position=Goalkeeper',\n",
       " 'position=Left Fullback',\n",
       " 'position=Left Midfielder',\n",
       " 'position=Left Winger',\n",
       " 'position=No Info',\n",
       " 'position=Right Fullback',\n",
       " 'position=Right Midfielder',\n",
       " 'position=Right Winger',\n",
       " 'redCards',\n",
       " 'ties',\n",
       " 'victories',\n",
       " 'weight',\n",
       " 'yellowCards',\n",
       " 'yellowReds']"
      ]
     },
     "execution_count": 25,
     "metadata": {},
     "output_type": "execute_result"
    }
   ],
   "source": [
    "encoder.feature_names_"
   ]
  },
  {
   "cell_type": "markdown",
   "metadata": {},
   "source": [
    "The last operation before the training is the scaling of the data."
   ]
  },
  {
   "cell_type": "code",
   "execution_count": 26,
   "metadata": {
    "collapsed": false
   },
   "outputs": [],
   "source": [
    "ml_scaled_bin = preprocessing.scale(df_ml_bin_temp)\n",
    "df_ml_scaled_bin = pd.DataFrame(ml_scaled_bin)\n",
    "\n",
    "ml_scaled = preprocessing.scale(df_ml_temp)\n",
    "df_ml_scaled = pd.DataFrame(ml_scaled)"
   ]
  },
  {
   "cell_type": "markdown",
   "metadata": {},
   "source": [
    "Then we split our test into a training and a test set with ratio 0.2."
   ]
  },
  {
   "cell_type": "code",
   "execution_count": 27,
   "metadata": {
    "collapsed": false
   },
   "outputs": [],
   "source": [
    "#Selecting a training set (binary)\n",
    "x_train_bin, x_test_bin, y_train_bin, y_test_bin = train_test_split(df_ml_scaled_bin, df_player_bin.skin_colour, test_size=0.2, random_state = 0)\n",
    "x_train_ter, x_test_ter, y_train_ter, y_test_ter = train_test_split(df_ml_scaled, df_player_ter.skin_colour, test_size=0.2, random_state = 0)\n",
    "x_train_all, x_test_all, y_train_all, y_test_all = train_test_split(df_ml_scaled, df_player_all.skin_colour, test_size=0.2, random_state = 0)"
   ]
  },
  {
   "cell_type": "markdown",
   "metadata": {},
   "source": [
    "To obtain the best model possible, we tried several parameters and we used a gridSearch to get the best ones using 5 cross-validations."
   ]
  },
  {
   "cell_type": "code",
   "execution_count": 28,
   "metadata": {
    "collapsed": false
   },
   "outputs": [],
   "source": [
    "param_grid = [\n",
    "    {'n_estimators': [10,15,20,25,30,40,50,75,100, 125], 'criterion': ['gini', 'entropy'], 'max_features': ['sqrt', 'log2']}\n",
    "]"
   ]
  },
  {
   "cell_type": "code",
   "execution_count": 29,
   "metadata": {
    "collapsed": false
   },
   "outputs": [],
   "source": [
    "from sklearn.grid_search import GridSearchCV"
   ]
  },
  {
   "cell_type": "code",
   "execution_count": 30,
   "metadata": {
    "collapsed": false,
    "scrolled": true
   },
   "outputs": [
    {
     "name": "stdout",
     "output_type": "stream",
     "text": [
      "Binary Best Score : 0.822260569456\n",
      "Ternary Best Score : 0.713828936851\n",
      "All params Best Score : 0.33653077538\n",
      "Binary Best Parameters : {'max_features': 'log2', 'criterion': 'gini', 'n_estimators': 25}\n",
      "Ternary Best Parameters : {'max_features': 'sqrt', 'criterion': 'gini', 'n_estimators': 30}\n",
      "All params Best Parameters : {'max_features': 'sqrt', 'criterion': 'entropy', 'n_estimators': 100}\n"
     ]
    }
   ],
   "source": [
    "from sklearn.ensemble import RandomForestClassifier\n",
    "rfc_bin = GridSearchCV(estimator=RandomForestClassifier(), param_grid=param_grid, cv=5)\n",
    "rfc_ter = GridSearchCV(estimator=RandomForestClassifier(), param_grid=param_grid, cv=5)\n",
    "rfc_all = GridSearchCV(estimator=RandomForestClassifier(), param_grid=param_grid, cv=5)\n",
    "\n",
    "rfc_bin.fit(x_train_bin, y_train_bin)\n",
    "rfc_ter.fit(x_train_ter, y_train_ter)\n",
    "rfc_all.fit(x_train_all, y_train_all)\n",
    "\n",
    "print('Binary Best Score : ' + str(rfc_bin.best_score_))\n",
    "print('Ternary Best Score : ' + str(rfc_ter.best_score_))\n",
    "print('All params Best Score : ' + str(rfc_all.best_score_))\n",
    "\n",
    "print('Binary Best Parameters : ' + str(rfc_bin.best_params_))\n",
    "print('Ternary Best Parameters : ' + str(rfc_ter.best_params_))\n",
    "print('All params Best Parameters : ' + str(rfc_all.best_params_))"
   ]
  },
  {
   "cell_type": "markdown",
   "metadata": {},
   "source": [
    "The scores above are way too large and if we take a closer look at the data, we have already noticed that the distribution is skewed. In this case, it is better to use a f1 scoring function which penalizes more the false positives and the true negatives. With this new scoring function, we can see that the score is far worse and in accordance to the confusion matrix."
   ]
  },
  {
   "cell_type": "code",
   "execution_count": 31,
   "metadata": {
    "collapsed": false
   },
   "outputs": [
    {
     "name": "stdout",
     "output_type": "stream",
     "text": [
      "Binary Score : 0.192248809833\n"
     ]
    }
   ],
   "source": [
    "rfc_bin = GridSearchCV(estimator=RandomForestClassifier(), param_grid=param_grid, cv=5, scoring='f1')\n",
    "rfc_bin.fit(x_train_bin, y_train_bin)\n",
    "print('Binary Score : ' + str(rfc_bin.best_score_))"
   ]
  },
  {
   "cell_type": "code",
   "execution_count": 32,
   "metadata": {
    "collapsed": false
   },
   "outputs": [
    {
     "data": {
      "text/plain": [
       "array([[237,   4],\n",
       "       [ 38,  11]])"
      ]
     },
     "execution_count": 32,
     "metadata": {},
     "output_type": "execute_result"
    }
   ],
   "source": [
    "from sklearn.metrics import confusion_matrix\n",
    "\n",
    "confusion_matrix(y_test_bin, rfc_bin.predict(x_test_bin))"
   ]
  },
  {
   "cell_type": "code",
   "execution_count": null,
   "metadata": {
    "collapsed": true
   },
   "outputs": [],
   "source": []
  }
 ],
 "metadata": {
  "anaconda-cloud": {},
  "kernelspec": {
   "display_name": "Python [Root]",
   "language": "python",
   "name": "Python [Root]"
  },
  "language_info": {
   "codemirror_mode": {
    "name": "ipython",
    "version": 3
   },
   "file_extension": ".py",
   "mimetype": "text/x-python",
   "name": "python",
   "nbconvert_exporter": "python",
   "pygments_lexer": "ipython3",
   "version": "3.5.2"
  }
 },
 "nbformat": 4,
 "nbformat_minor": 0
}
