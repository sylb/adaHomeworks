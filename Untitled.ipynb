{
 "cells": [
  {
   "cell_type": "code",
   "execution_count": 59,
   "metadata": {
    "collapsed": false
   },
   "outputs": [],
   "source": [
    "import pandas as pd\n",
    "import numpy as np\n",
    "import sklearn.preprocessing \n",
    "import sklearn.ensemble\n",
    "from sklearn.preprocessing import OneHotEncoder\n"
   ]
  },
  {
   "cell_type": "code",
   "execution_count": 2,
   "metadata": {
    "collapsed": false
   },
   "outputs": [
    {
     "data": {
      "text/plain": [
       "(150, 28)"
      ]
     },
     "execution_count": 2,
     "metadata": {},
     "output_type": "execute_result"
    }
   ],
   "source": [
    "rawdata=pd.read_csv('CrowdstormingDataJuly1st.csv')\n",
    "utaka=rawdata[[name==\"john-utaka\" for name in rawdata.playerShort]]\n",
    "utaka.shape"
   ]
  },
  {
   "cell_type": "code",
   "execution_count": 3,
   "metadata": {
    "collapsed": false,
    "scrolled": true
   },
   "outputs": [],
   "source": [
    "rawdata = rawdata.ix[~(rawdata.photoID.isnull())]"
   ]
  },
  {
   "cell_type": "code",
   "execution_count": 4,
   "metadata": {
    "collapsed": false
   },
   "outputs": [],
   "source": [
    "rawdata=rawdata.ix[~(rawdata.meanIAT.isnull())]\n"
   ]
  },
  {
   "cell_type": "code",
   "execution_count": 50,
   "metadata": {
    "collapsed": false,
    "scrolled": true
   },
   "outputs": [
    {
     "data": {
      "text/plain": [
       "1585"
      ]
     },
     "execution_count": 50,
     "metadata": {},
     "output_type": "execute_result"
    }
   ],
   "source": []
  },
  {
   "cell_type": "code",
   "execution_count": 5,
   "metadata": {
    "collapsed": false
   },
   "outputs": [
    {
     "data": {
      "text/plain": [
       "playerShort         0\n",
       "player              0\n",
       "club                0\n",
       "leagueCountry       0\n",
       "birthday            0\n",
       "height             46\n",
       "weight            753\n",
       "position         8454\n",
       "games               0\n",
       "victories           0\n",
       "ties                0\n",
       "defeats             0\n",
       "goals               0\n",
       "yellowCards         0\n",
       "yellowReds          0\n",
       "redCards            0\n",
       "photoID             0\n",
       "rater1              0\n",
       "rater2              0\n",
       "refNum              0\n",
       "refCountry          0\n",
       "Alpha_3             0\n",
       "meanIAT             0\n",
       "nIAT                0\n",
       "seIAT               0\n",
       "meanExp             0\n",
       "nExp                0\n",
       "seExp               0\n",
       "dtype: int64"
      ]
     },
     "execution_count": 5,
     "metadata": {},
     "output_type": "execute_result"
    }
   ],
   "source": [
    "rawdata.isnull().sum()\n"
   ]
  },
  {
   "cell_type": "code",
   "execution_count": 22,
   "metadata": {
    "collapsed": false,
    "scrolled": true
   },
   "outputs": [
    {
     "data": {
      "text/plain": [
       "(124468, 29)"
      ]
     },
     "execution_count": 22,
     "metadata": {},
     "output_type": "execute_result"
    }
   ],
   "source": [
    "rawdata['skinColor']=(rawdata['rater1']+rawdata['rater2'])/2\n",
    "rawdata.shape"
   ]
  },
  {
   "cell_type": "code",
   "execution_count": 232,
   "metadata": {
    "collapsed": false
   },
   "outputs": [],
   "source": [
    "csfier = sklearn.ensemble.RandomForestClassifier(n_estimators=20,criterion='entropy',max_features=None,)\n"
   ]
  },
  {
   "cell_type": "code",
   "execution_count": 169,
   "metadata": {
    "collapsed": false,
    "scrolled": false
   },
   "outputs": [],
   "source": [
    "colorseries=rawdata['skinColor']\n",
    "coloseries=colorseries.ix[~(rawdata.height.isnull())]\n",
    "colorseries = colorseries.ix[~(rawdata.weight.isnull())]\n",
    "colorseries = colorseries.ix[~(rawdata.position.isnull())]\n",
    "\n",
    "rawdata = rawdata.ix[~(rawdata.height.isnull())]\n",
    "rawdata = rawdata.ix[~(rawdata.weight.isnull())]\n",
    "rawdata = rawdata.ix[~(rawdata.position.isnull())]\n",
    "\n",
    "treatedData=rawdata.drop(['rater1','rater2'],axis=1)\n",
    "treatedData=treatedData.drop(['skinColor'],axis=1)\n",
    "treatedData.isnull().sum()\n",
    "treatedData=treatedData.drop(['playerShort','player','club','birthday','position','photoID'],axis=1)\n"
   ]
  },
  {
   "cell_type": "code",
   "execution_count": 170,
   "metadata": {
    "collapsed": false,
    "scrolled": true
   },
   "outputs": [],
   "source": [
    "le = sklearn.preprocessing.LabelEncoder()\n",
    "le.fit(treatedData['Alpha_3'])\n",
    "ab=le.transform(treatedData['Alpha_3'])\n",
    "treatedData['Alpha_3']=ab\n",
    "le.fit(treatedData['leagueCountry'])\n",
    "bc=le.transform(treatedData['leagueCountry'])\n",
    "treatedData['leagueCountry']=bc\n"
   ]
  },
  {
   "cell_type": "code",
   "execution_count": 171,
   "metadata": {
    "collapsed": false,
    "scrolled": true
   },
   "outputs": [
    {
     "data": {
      "text/plain": [
       "80597     0.0\n",
       "120356    0.0\n",
       "120357    0.0\n",
       "95671     0.0\n",
       "31003     0.0\n",
       "31002     0.0\n",
       "59925     0.0\n",
       "120361    0.0\n",
       "30996     0.0\n",
       "120363    0.0\n",
       "120364    0.0\n",
       "59926     0.0\n",
       "95669     0.0\n",
       "59928     0.0\n",
       "59929     0.0\n",
       "30980     0.0\n",
       "59931     0.0\n",
       "95666     0.0\n",
       "30966     0.0\n",
       "30965     0.0\n",
       "95665     0.0\n",
       "120376    0.0\n",
       "59939     0.0\n",
       "95663     0.0\n",
       "95661     0.0\n",
       "120378    0.0\n",
       "95660     0.0\n",
       "59943     0.0\n",
       "30949     0.0\n",
       "120381    0.0\n",
       "         ... \n",
       "132751    1.0\n",
       "98100     1.0\n",
       "132753    1.0\n",
       "132755    1.0\n",
       "98093     1.0\n",
       "57565     1.0\n",
       "98088     1.0\n",
       "98164     1.0\n",
       "57566     1.0\n",
       "132701    1.0\n",
       "98192     1.0\n",
       "18291     1.0\n",
       "57398     1.0\n",
       "57412     1.0\n",
       "98251     1.0\n",
       "98250     1.0\n",
       "98244     1.0\n",
       "98241     1.0\n",
       "18231     1.0\n",
       "98226     1.0\n",
       "18181     1.0\n",
       "57454     1.0\n",
       "132667    1.0\n",
       "98196     1.0\n",
       "18157     1.0\n",
       "98194     1.0\n",
       "18153     1.0\n",
       "132680    1.0\n",
       "57483     1.0\n",
       "80593     1.0\n",
       "Name: skinColor, dtype: float64"
      ]
     },
     "execution_count": 171,
     "metadata": {},
     "output_type": "execute_result"
    }
   ],
   "source": [
    "sortedcolors=colorseries.sort_values()\n",
    "sortedcolors"
   ]
  },
  {
   "cell_type": "code",
   "execution_count": 172,
   "metadata": {
    "collapsed": false
   },
   "outputs": [
    {
     "data": {
      "text/plain": [
       "array([[23744, 23126, 23145, 23261, 23019],\n",
       "       [11183, 11886, 12050, 11848, 11533],\n",
       "       [ 3215,  3115,  3100,  3056,  3056],\n",
       "       ..., \n",
       "       [ 8266,  8217,  8323,  8143,  8228],\n",
       "       [12075, 12047, 12219, 12003, 12101],\n",
       "       [12818, 12468, 12703, 12246, 12526]])"
      ]
     },
     "execution_count": 172,
     "metadata": {},
     "output_type": "execute_result"
    }
   ],
   "source": [
    "csfier.apply(treatedData)"
   ]
  },
  {
   "cell_type": "code",
   "execution_count": 205,
   "metadata": {
    "collapsed": false,
    "scrolled": false
   },
   "outputs": [
    {
     "data": {
      "text/plain": [
       "(115457, 20)"
      ]
     },
     "execution_count": 205,
     "metadata": {},
     "output_type": "execute_result"
    }
   ],
   "source": [
    "le.fit(colorseries)\n",
    "cd=le.transform(colorseries)\n",
    "colorseries=cd\n",
    "treatedData.shape"
   ]
  },
  {
   "cell_type": "raw",
   "metadata": {},
   "source": [
    "treatedData.loc(1)"
   ]
  },
  {
   "cell_type": "code",
   "execution_count": 174,
   "metadata": {
    "collapsed": false
   },
   "outputs": [
    {
     "data": {
      "text/plain": [
       "leagueCountry      3.000000\n",
       "height           181.000000\n",
       "weight            74.000000\n",
       "games              1.000000\n",
       "victories          1.000000\n",
       "ties               0.000000\n",
       "defeats            0.000000\n",
       "goals              0.000000\n",
       "yellowCards        1.000000\n",
       "yellowReds         0.000000\n",
       "redCards           0.000000\n",
       "refNum             4.000000\n",
       "refCountry         4.000000\n",
       "Alpha_3           85.000000\n",
       "meanIAT            0.325185\n",
       "nIAT             127.000000\n",
       "seIAT              0.003297\n",
       "meanExp            0.538462\n",
       "nExp             130.000000\n",
       "seExp              0.013752\n",
       "Name: 19, dtype: float64"
      ]
     },
     "execution_count": 174,
     "metadata": {},
     "output_type": "execute_result"
    }
   ],
   "source": [
    "treatedData.loc[19]"
   ]
  },
  {
   "cell_type": "code",
   "execution_count": 241,
   "metadata": {
    "collapsed": false
   },
   "outputs": [
    {
     "data": {
      "text/plain": [
       "(80820, 20)"
      ]
     },
     "execution_count": 241,
     "metadata": {},
     "output_type": "execute_result"
    }
   ],
   "source": [
    "import math\n",
    "def split(trainratio,data):\n",
    "    trainSetSize=math.ceil((data.shape[0])*trainratio)\n",
    "    testSetSize=data.shape[0]-trainSetSize\n",
    "    trainSet=data.loc[range(trainSetSize)]\n",
    "    testSet=data.loc[range(trainSetSize,data.shape[0])]\n",
    "    return trainSet,testSet\n",
    "\n",
    "treatedData.index=range(treatedData.shape[0])    \n",
    "sss=split(0.7,treatedData)\n",
    "sss[0].shape"
   ]
  },
  {
   "cell_type": "code",
   "execution_count": 219,
   "metadata": {
    "collapsed": false,
    "scrolled": true
   },
   "outputs": [
    {
     "data": {
      "text/plain": [
       "array([3, 6, 1, 1, 8, 2, 0])"
      ]
     },
     "execution_count": 219,
     "metadata": {},
     "output_type": "execute_result"
    }
   ],
   "source": [
    "colorseries[range(7)]"
   ]
  },
  {
   "cell_type": "code",
   "execution_count": null,
   "metadata": {
    "collapsed": false,
    "scrolled": false
   },
   "outputs": [],
   "source": []
  },
  {
   "cell_type": "code",
   "execution_count": 242,
   "metadata": {
    "collapsed": false,
    "scrolled": false
   },
   "outputs": [
    {
     "data": {
      "text/plain": [
       "0.8298351473857436"
      ]
     },
     "execution_count": 242,
     "metadata": {},
     "output_type": "execute_result"
    }
   ],
   "source": [
    "csfier.fit(sss[0],colorseries[range(sss[0].shape[0])])\n",
    "csfier.score(sss[1],colorseries[range(sss[0].shape[0],treatedData.shape[0])])"
   ]
  }
 ],
 "metadata": {
  "anaconda-cloud": {},
  "kernelspec": {
   "display_name": "Python [Root]",
   "language": "python",
   "name": "Python [Root]"
  },
  "language_info": {
   "codemirror_mode": {
    "name": "ipython",
    "version": 3
   },
   "file_extension": ".py",
   "mimetype": "text/x-python",
   "name": "python",
   "nbconvert_exporter": "python",
   "pygments_lexer": "ipython3",
   "version": "3.5.2"
  }
 },
 "nbformat": 4,
 "nbformat_minor": 0
}
