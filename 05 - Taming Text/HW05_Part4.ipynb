{
 "cells": [
  {
   "cell_type": "markdown",
   "metadata": {},
   "source": [
    "## Homework 5 - Part 4"
   ]
  },
  {
   "cell_type": "markdown",
   "metadata": {},
   "source": [
    "This optional part is about building a communication graph (unweighted and undirected) among the different email senders and recipients using the NetworkX library. \n",
    "Then we detect communities and print the most frequent 20 most frequent words for each of those communities.\n"
   ]
  },
  {
   "cell_type": "code",
   "execution_count": 1,
   "metadata": {
    "collapsed": false
   },
   "outputs": [],
   "source": [
    "%matplotlib inline\n",
    "\n",
    "import pandas as pd\n",
    "import numpy as np\n",
    "import matplotlib.pyplot as plt\n",
    "\n",
    "import community\n",
    "import networkx as nx\n",
    "\n",
    "from nltk.corpus import stopwords\n",
    "from nltk.tokenize import word_tokenize\n",
    "from collections import Counter"
   ]
  },
  {
   "cell_type": "code",
   "execution_count": 2,
   "metadata": {
    "collapsed": true
   },
   "outputs": [],
   "source": [
    "df_Emails = pd.read_csv('hillary-clinton-emails/Emails.csv')\n",
    "df_Receivers = pd.read_csv('hillary-clinton-emails/EmailReceivers.csv')"
   ]
  },
  {
   "cell_type": "markdown",
   "metadata": {},
   "source": [
    "First, let's take a look at the dataframes we will need."
   ]
  },
  {
   "cell_type": "code",
   "execution_count": 3,
   "metadata": {
    "collapsed": false
   },
   "outputs": [
    {
     "data": {
      "text/html": [
       "<div>\n",
       "<table border=\"1\" class=\"dataframe\">\n",
       "  <thead>\n",
       "    <tr style=\"text-align: right;\">\n",
       "      <th></th>\n",
       "      <th>Id</th>\n",
       "      <th>EmailId</th>\n",
       "      <th>PersonId</th>\n",
       "    </tr>\n",
       "  </thead>\n",
       "  <tbody>\n",
       "    <tr>\n",
       "      <th>0</th>\n",
       "      <td>1</td>\n",
       "      <td>1</td>\n",
       "      <td>80</td>\n",
       "    </tr>\n",
       "    <tr>\n",
       "      <th>1</th>\n",
       "      <td>2</td>\n",
       "      <td>2</td>\n",
       "      <td>80</td>\n",
       "    </tr>\n",
       "    <tr>\n",
       "      <th>2</th>\n",
       "      <td>3</td>\n",
       "      <td>3</td>\n",
       "      <td>228</td>\n",
       "    </tr>\n",
       "  </tbody>\n",
       "</table>\n",
       "</div>"
      ],
      "text/plain": [
       "   Id  EmailId  PersonId\n",
       "0   1        1        80\n",
       "1   2        2        80\n",
       "2   3        3       228"
      ]
     },
     "execution_count": 3,
     "metadata": {},
     "output_type": "execute_result"
    }
   ],
   "source": [
    "df_Receivers.head(3)"
   ]
  },
  {
   "cell_type": "code",
   "execution_count": 4,
   "metadata": {
    "collapsed": false
   },
   "outputs": [
    {
     "data": {
      "text/html": [
       "<div>\n",
       "<table border=\"1\" class=\"dataframe\">\n",
       "  <thead>\n",
       "    <tr style=\"text-align: right;\">\n",
       "      <th></th>\n",
       "      <th>Id</th>\n",
       "      <th>DocNumber</th>\n",
       "      <th>MetadataSubject</th>\n",
       "      <th>MetadataTo</th>\n",
       "      <th>MetadataFrom</th>\n",
       "      <th>SenderPersonId</th>\n",
       "      <th>MetadataDateSent</th>\n",
       "      <th>MetadataDateReleased</th>\n",
       "      <th>MetadataPdfLink</th>\n",
       "      <th>MetadataCaseNumber</th>\n",
       "      <th>...</th>\n",
       "      <th>ExtractedTo</th>\n",
       "      <th>ExtractedFrom</th>\n",
       "      <th>ExtractedCc</th>\n",
       "      <th>ExtractedDateSent</th>\n",
       "      <th>ExtractedCaseNumber</th>\n",
       "      <th>ExtractedDocNumber</th>\n",
       "      <th>ExtractedDateReleased</th>\n",
       "      <th>ExtractedReleaseInPartOrFull</th>\n",
       "      <th>ExtractedBodyText</th>\n",
       "      <th>RawText</th>\n",
       "    </tr>\n",
       "  </thead>\n",
       "  <tbody>\n",
       "    <tr>\n",
       "      <th>0</th>\n",
       "      <td>1</td>\n",
       "      <td>C05739545</td>\n",
       "      <td>WOW</td>\n",
       "      <td>H</td>\n",
       "      <td>Sullivan, Jacob J</td>\n",
       "      <td>87.0</td>\n",
       "      <td>2012-09-12T04:00:00+00:00</td>\n",
       "      <td>2015-05-22T04:00:00+00:00</td>\n",
       "      <td>DOCUMENTS/HRC_Email_1_296/HRCH2/DOC_0C05739545...</td>\n",
       "      <td>F-2015-04841</td>\n",
       "      <td>...</td>\n",
       "      <td>NaN</td>\n",
       "      <td>Sullivan, Jacob J &lt;Sullivan11@state.gov&gt;</td>\n",
       "      <td>NaN</td>\n",
       "      <td>Wednesday, September 12, 2012 10:16 AM</td>\n",
       "      <td>F-2015-04841</td>\n",
       "      <td>C05739545</td>\n",
       "      <td>05/13/2015</td>\n",
       "      <td>RELEASE IN FULL</td>\n",
       "      <td>NaN</td>\n",
       "      <td>UNCLASSIFIED\\nU.S. Department of State\\nCase N...</td>\n",
       "    </tr>\n",
       "    <tr>\n",
       "      <th>1</th>\n",
       "      <td>2</td>\n",
       "      <td>C05739546</td>\n",
       "      <td>H: LATEST: HOW SYRIA IS AIDING QADDAFI AND MOR...</td>\n",
       "      <td>H</td>\n",
       "      <td>NaN</td>\n",
       "      <td>NaN</td>\n",
       "      <td>2011-03-03T05:00:00+00:00</td>\n",
       "      <td>2015-05-22T04:00:00+00:00</td>\n",
       "      <td>DOCUMENTS/HRC_Email_1_296/HRCH1/DOC_0C05739546...</td>\n",
       "      <td>F-2015-04841</td>\n",
       "      <td>...</td>\n",
       "      <td>NaN</td>\n",
       "      <td>NaN</td>\n",
       "      <td>NaN</td>\n",
       "      <td>NaN</td>\n",
       "      <td>F-2015-04841</td>\n",
       "      <td>C05739546</td>\n",
       "      <td>05/13/2015</td>\n",
       "      <td>RELEASE IN PART</td>\n",
       "      <td>B6\\nThursday, March 3, 2011 9:45 PM\\nH: Latest...</td>\n",
       "      <td>UNCLASSIFIED\\nU.S. Department of State\\nCase N...</td>\n",
       "    </tr>\n",
       "    <tr>\n",
       "      <th>2</th>\n",
       "      <td>3</td>\n",
       "      <td>C05739547</td>\n",
       "      <td>CHRIS STEVENS</td>\n",
       "      <td>;H</td>\n",
       "      <td>Mills, Cheryl D</td>\n",
       "      <td>32.0</td>\n",
       "      <td>2012-09-12T04:00:00+00:00</td>\n",
       "      <td>2015-05-22T04:00:00+00:00</td>\n",
       "      <td>DOCUMENTS/HRC_Email_1_296/HRCH2/DOC_0C05739547...</td>\n",
       "      <td>F-2015-04841</td>\n",
       "      <td>...</td>\n",
       "      <td>B6</td>\n",
       "      <td>Mills, Cheryl D &lt;MillsCD@state.gov&gt;</td>\n",
       "      <td>Abedin, Huma</td>\n",
       "      <td>Wednesday, September 12, 2012 11:52 AM</td>\n",
       "      <td>F-2015-04841</td>\n",
       "      <td>C05739547</td>\n",
       "      <td>05/14/2015</td>\n",
       "      <td>RELEASE IN PART</td>\n",
       "      <td>Thx</td>\n",
       "      <td>UNCLASSIFIED\\nU.S. Department of State\\nCase N...</td>\n",
       "    </tr>\n",
       "  </tbody>\n",
       "</table>\n",
       "<p>3 rows × 22 columns</p>\n",
       "</div>"
      ],
      "text/plain": [
       "   Id  DocNumber                                    MetadataSubject  \\\n",
       "0   1  C05739545                                                WOW   \n",
       "1   2  C05739546  H: LATEST: HOW SYRIA IS AIDING QADDAFI AND MOR...   \n",
       "2   3  C05739547                                      CHRIS STEVENS   \n",
       "\n",
       "  MetadataTo       MetadataFrom  SenderPersonId           MetadataDateSent  \\\n",
       "0          H  Sullivan, Jacob J            87.0  2012-09-12T04:00:00+00:00   \n",
       "1          H                NaN             NaN  2011-03-03T05:00:00+00:00   \n",
       "2         ;H    Mills, Cheryl D            32.0  2012-09-12T04:00:00+00:00   \n",
       "\n",
       "        MetadataDateReleased  \\\n",
       "0  2015-05-22T04:00:00+00:00   \n",
       "1  2015-05-22T04:00:00+00:00   \n",
       "2  2015-05-22T04:00:00+00:00   \n",
       "\n",
       "                                     MetadataPdfLink MetadataCaseNumber  \\\n",
       "0  DOCUMENTS/HRC_Email_1_296/HRCH2/DOC_0C05739545...       F-2015-04841   \n",
       "1  DOCUMENTS/HRC_Email_1_296/HRCH1/DOC_0C05739546...       F-2015-04841   \n",
       "2  DOCUMENTS/HRC_Email_1_296/HRCH2/DOC_0C05739547...       F-2015-04841   \n",
       "\n",
       "                         ...                         ExtractedTo  \\\n",
       "0                        ...                                 NaN   \n",
       "1                        ...                                 NaN   \n",
       "2                        ...                                  B6   \n",
       "\n",
       "                              ExtractedFrom   ExtractedCc  \\\n",
       "0  Sullivan, Jacob J <Sullivan11@state.gov>           NaN   \n",
       "1                                       NaN           NaN   \n",
       "2       Mills, Cheryl D <MillsCD@state.gov>  Abedin, Huma   \n",
       "\n",
       "                        ExtractedDateSent ExtractedCaseNumber  \\\n",
       "0  Wednesday, September 12, 2012 10:16 AM        F-2015-04841   \n",
       "1                                     NaN        F-2015-04841   \n",
       "2  Wednesday, September 12, 2012 11:52 AM        F-2015-04841   \n",
       "\n",
       "  ExtractedDocNumber ExtractedDateReleased ExtractedReleaseInPartOrFull  \\\n",
       "0          C05739545            05/13/2015              RELEASE IN FULL   \n",
       "1          C05739546            05/13/2015              RELEASE IN PART   \n",
       "2          C05739547            05/14/2015              RELEASE IN PART   \n",
       "\n",
       "                                   ExtractedBodyText  \\\n",
       "0                                                NaN   \n",
       "1  B6\\nThursday, March 3, 2011 9:45 PM\\nH: Latest...   \n",
       "2                                                Thx   \n",
       "\n",
       "                                             RawText  \n",
       "0  UNCLASSIFIED\\nU.S. Department of State\\nCase N...  \n",
       "1  UNCLASSIFIED\\nU.S. Department of State\\nCase N...  \n",
       "2  UNCLASSIFIED\\nU.S. Department of State\\nCase N...  \n",
       "\n",
       "[3 rows x 22 columns]"
      ]
     },
     "execution_count": 4,
     "metadata": {},
     "output_type": "execute_result"
    }
   ],
   "source": [
    "df_Emails.head(3)"
   ]
  },
  {
   "cell_type": "markdown",
   "metadata": {},
   "source": [
    "Let's merge the two data frame into one to get the senders and receivers per mail (Id)."
   ]
  },
  {
   "cell_type": "code",
   "execution_count": 5,
   "metadata": {
    "collapsed": true
   },
   "outputs": [],
   "source": [
    "df_merged = pd.merge(left=df_Receivers,right=df_Emails, left_on='Id', right_on='Id')"
   ]
  },
  {
   "cell_type": "code",
   "execution_count": 6,
   "metadata": {
    "collapsed": true
   },
   "outputs": [],
   "source": [
    "# now, we clean the empty senders/receivers\n",
    "df_merged.dropna(axis=0, subset=['PersonId', 'SenderPersonId'], inplace=True)"
   ]
  },
  {
   "cell_type": "code",
   "execution_count": 7,
   "metadata": {
    "collapsed": false,
    "scrolled": true
   },
   "outputs": [
    {
     "data": {
      "text/html": [
       "<div>\n",
       "<table border=\"1\" class=\"dataframe\">\n",
       "  <thead>\n",
       "    <tr style=\"text-align: right;\">\n",
       "      <th></th>\n",
       "      <th>Id</th>\n",
       "      <th>EmailId</th>\n",
       "      <th>PersonId</th>\n",
       "      <th>DocNumber</th>\n",
       "      <th>MetadataSubject</th>\n",
       "      <th>MetadataTo</th>\n",
       "      <th>MetadataFrom</th>\n",
       "      <th>SenderPersonId</th>\n",
       "      <th>MetadataDateSent</th>\n",
       "      <th>MetadataDateReleased</th>\n",
       "      <th>...</th>\n",
       "      <th>ExtractedTo</th>\n",
       "      <th>ExtractedFrom</th>\n",
       "      <th>ExtractedCc</th>\n",
       "      <th>ExtractedDateSent</th>\n",
       "      <th>ExtractedCaseNumber</th>\n",
       "      <th>ExtractedDocNumber</th>\n",
       "      <th>ExtractedDateReleased</th>\n",
       "      <th>ExtractedReleaseInPartOrFull</th>\n",
       "      <th>ExtractedBodyText</th>\n",
       "      <th>RawText</th>\n",
       "    </tr>\n",
       "  </thead>\n",
       "  <tbody>\n",
       "    <tr>\n",
       "      <th>0</th>\n",
       "      <td>1</td>\n",
       "      <td>1</td>\n",
       "      <td>80</td>\n",
       "      <td>C05739545</td>\n",
       "      <td>WOW</td>\n",
       "      <td>H</td>\n",
       "      <td>Sullivan, Jacob J</td>\n",
       "      <td>87.0</td>\n",
       "      <td>2012-09-12T04:00:00+00:00</td>\n",
       "      <td>2015-05-22T04:00:00+00:00</td>\n",
       "      <td>...</td>\n",
       "      <td>NaN</td>\n",
       "      <td>Sullivan, Jacob J &lt;Sullivan11@state.gov&gt;</td>\n",
       "      <td>NaN</td>\n",
       "      <td>Wednesday, September 12, 2012 10:16 AM</td>\n",
       "      <td>F-2015-04841</td>\n",
       "      <td>C05739545</td>\n",
       "      <td>05/13/2015</td>\n",
       "      <td>RELEASE IN FULL</td>\n",
       "      <td>NaN</td>\n",
       "      <td>UNCLASSIFIED\\nU.S. Department of State\\nCase N...</td>\n",
       "    </tr>\n",
       "    <tr>\n",
       "      <th>2</th>\n",
       "      <td>3</td>\n",
       "      <td>3</td>\n",
       "      <td>228</td>\n",
       "      <td>C05739547</td>\n",
       "      <td>CHRIS STEVENS</td>\n",
       "      <td>;H</td>\n",
       "      <td>Mills, Cheryl D</td>\n",
       "      <td>32.0</td>\n",
       "      <td>2012-09-12T04:00:00+00:00</td>\n",
       "      <td>2015-05-22T04:00:00+00:00</td>\n",
       "      <td>...</td>\n",
       "      <td>B6</td>\n",
       "      <td>Mills, Cheryl D &lt;MillsCD@state.gov&gt;</td>\n",
       "      <td>Abedin, Huma</td>\n",
       "      <td>Wednesday, September 12, 2012 11:52 AM</td>\n",
       "      <td>F-2015-04841</td>\n",
       "      <td>C05739547</td>\n",
       "      <td>05/14/2015</td>\n",
       "      <td>RELEASE IN PART</td>\n",
       "      <td>Thx</td>\n",
       "      <td>UNCLASSIFIED\\nU.S. Department of State\\nCase N...</td>\n",
       "    </tr>\n",
       "  </tbody>\n",
       "</table>\n",
       "<p>2 rows × 24 columns</p>\n",
       "</div>"
      ],
      "text/plain": [
       "   Id  EmailId  PersonId  DocNumber MetadataSubject MetadataTo  \\\n",
       "0   1        1        80  C05739545             WOW          H   \n",
       "2   3        3       228  C05739547   CHRIS STEVENS         ;H   \n",
       "\n",
       "        MetadataFrom  SenderPersonId           MetadataDateSent  \\\n",
       "0  Sullivan, Jacob J            87.0  2012-09-12T04:00:00+00:00   \n",
       "2    Mills, Cheryl D            32.0  2012-09-12T04:00:00+00:00   \n",
       "\n",
       "        MetadataDateReleased  \\\n",
       "0  2015-05-22T04:00:00+00:00   \n",
       "2  2015-05-22T04:00:00+00:00   \n",
       "\n",
       "                         ...                         ExtractedTo  \\\n",
       "0                        ...                                 NaN   \n",
       "2                        ...                                  B6   \n",
       "\n",
       "                              ExtractedFrom   ExtractedCc  \\\n",
       "0  Sullivan, Jacob J <Sullivan11@state.gov>           NaN   \n",
       "2       Mills, Cheryl D <MillsCD@state.gov>  Abedin, Huma   \n",
       "\n",
       "                        ExtractedDateSent ExtractedCaseNumber  \\\n",
       "0  Wednesday, September 12, 2012 10:16 AM        F-2015-04841   \n",
       "2  Wednesday, September 12, 2012 11:52 AM        F-2015-04841   \n",
       "\n",
       "  ExtractedDocNumber ExtractedDateReleased ExtractedReleaseInPartOrFull  \\\n",
       "0          C05739545            05/13/2015              RELEASE IN FULL   \n",
       "2          C05739547            05/14/2015              RELEASE IN PART   \n",
       "\n",
       "  ExtractedBodyText                                            RawText  \n",
       "0               NaN  UNCLASSIFIED\\nU.S. Department of State\\nCase N...  \n",
       "2               Thx  UNCLASSIFIED\\nU.S. Department of State\\nCase N...  \n",
       "\n",
       "[2 rows x 24 columns]"
      ]
     },
     "execution_count": 7,
     "metadata": {},
     "output_type": "execute_result"
    }
   ],
   "source": [
    "df_merged.head(2)"
   ]
  },
  {
   "cell_type": "code",
   "execution_count": 8,
   "metadata": {
    "collapsed": false
   },
   "outputs": [],
   "source": [
    "df_merged[['EmailId']] = df_merged[['EmailId']].astype(int)\n",
    "df_merged[['SenderPersonId']] = df_merged[['SenderPersonId']].astype(int)"
   ]
  },
  {
   "cell_type": "markdown",
   "metadata": {},
   "source": [
    "The dataframe is ready. Let's now create the graph."
   ]
  },
  {
   "cell_type": "code",
   "execution_count": 9,
   "metadata": {
    "collapsed": true
   },
   "outputs": [],
   "source": [
    "G = nx.Graph()"
   ]
  },
  {
   "cell_type": "code",
   "execution_count": 10,
   "metadata": {
    "collapsed": false
   },
   "outputs": [],
   "source": [
    "def addEdge(row):\n",
    "    G.add_edge(row['PersonId'], row['SenderPersonId'])"
   ]
  },
  {
   "cell_type": "code",
   "execution_count": 11,
   "metadata": {
    "collapsed": false
   },
   "outputs": [],
   "source": [
    "df_merged.apply(addEdge, axis=1);"
   ]
  },
  {
   "cell_type": "code",
   "execution_count": 12,
   "metadata": {
    "collapsed": false
   },
   "outputs": [],
   "source": [
    "partitions = community.best_partition(G)"
   ]
  },
  {
   "cell_type": "markdown",
   "metadata": {},
   "source": [
    "And now, that the partitions are done, we are left with adding the mails to the right communities so we can count the words."
   ]
  },
  {
   "cell_type": "code",
   "execution_count": 13,
   "metadata": {
    "collapsed": true
   },
   "outputs": [],
   "source": [
    "communities = {}\n",
    "\n",
    "for k,v in partitions.items():\n",
    "    \n",
    "    mail = ' '.join(df_merged[df_merged.SenderPersonId == k].RawText)\n",
    "    if not v in communities:\n",
    "        communities[v] = [mail]\n",
    "    else:\n",
    "        communities[v].append(mail)"
   ]
  },
  {
   "cell_type": "code",
   "execution_count": 14,
   "metadata": {
    "collapsed": true
   },
   "outputs": [],
   "source": [
    "# let's set the same stop words list as in part 1.\n",
    "stop = set(stopwords.words('english')) # take a typical stop words list for english\n",
    "stop.update(['.', ',', '\"', \"'\", '?', '!', ':', ';', '(', ')', '[', ']', '{', '}', '@', '<', '>', '-', 'subject', 'fw', 'cc', 'am', 'pm'])"
   ]
  },
  {
   "cell_type": "code",
   "execution_count": 15,
   "metadata": {
    "collapsed": false
   },
   "outputs": [
    {
     "name": "stdout",
     "output_type": "stream",
     "text": [
      "0 :  [('state', 8671), ('u.s.', 7896), ('department', 7578), ('case', 7280), ('date', 7236), ('unclassified', 7160), ('doc', 7071), ('f-2014-20439', 6492), ('sent', 5565), ('h', 4861), (\"'s\", 4532), ('state.gov', 3895), ('06/30/2015', 3421), ('2009', 3385), ('message', 2876), ('08/31/2015', 2811), ('original', 2673), ('``', 2616), ('clintonemail.com', 2555), (\"''\", 2504)] \n",
      "\n",
      "\n",
      "1 :  [('state', 4301), ('u.s.', 4279), ('department', 4039), ('case', 3917), ('date', 3914), ('unclassified', 3872), ('doc', 3806), ('f-2014-20439', 3738), ('sent', 3522), ('huma', 2729), ('abedin', 2571), ('08/31/2015', 2144), ('state.gov', 2092), ('2010', 1806), ('2009', 1746), (\"'s\", 1711), ('release', 1653), ('h', 1638), ('abedinh', 1500), ('message', 1168)] \n",
      "\n",
      "\n",
      "2 :  [('state', 2189), ('department', 2085), ('u.s.', 2027), ('case', 1777), ('date', 1769), ('unclassified', 1762), ('doc', 1733), ('f-2014-20439', 1717), ('sent', 1512), (\"'s\", 1494), ('08/31/2015', 1298), ('2010', 1073), ('office', 901), ('state.gov', 881), ('h', 878), ('secretary', 845), ('lauren', 778), ('message', 775), ('call', 753), ('c', 751)] \n",
      "\n",
      "\n",
      "3 :  [('u.s.', 808), ('state', 803), ('department', 723), ('case', 708), ('date', 691), ('unclassified', 690), ('doc', 686), ('f-2014-20439', 666), ('08/31/2015', 476), ('sent', 407), (\"'s\", 392), ('2010', 292), ('``', 268), (\"''\", 247), ('anne-marie', 244), ('slaughter', 244), ('release', 220), ('h', 202), ('would', 200), ('message', 176)] \n",
      "\n",
      "\n",
      "4 :  [('state', 5967), ('u.s.', 5482), ('department', 5361), ('case', 4854), ('date', 4804), ('unclassified', 4800), ('doc', 4679), ('f-2014-20439', 4387), ('sent', 3991), ('cheryl', 3644), (\"'s\", 3547), ('mills', 3237), ('``', 2323), (\"''\", 2304), ('08/31/2015', 2200), ('2009', 2098), ('2010', 1846), ('state.gov', 1606), ('release', 1521), ('millscd', 1332)] \n",
      "\n",
      "\n",
      "5 :  [('state', 3782), ('u.s.', 3326), ('department', 3080), ('case', 3039), ('unclassified', 3021), ('date', 3015), ('doc', 2965), ('f-2014-20439', 2486), ('sent', 2358), ('08/31/2015', 2048), (\"'s\", 1773), ('sullivan', 1752), ('2010', 1612), ('jacob', 1536), ('h', 1219), ('j', 1211), ('``', 1150), ('state.gov', 1143), (\"''\", 1136), ('release', 1013)] \n",
      "\n",
      "\n",
      "6 :  [(\"'s\", 4522), (\"''\", 3896), ('``', 3854), ('state', 3534), ('u.s.', 3342), ('department', 3013), ('case', 3012), ('date', 2940), ('unclassified', 2859), ('doc', 2858), ('f-2014-20439', 2727), ('08/31/2015', 1898), ('%', 1601), ('would', 1368), ('obama', 1279), ('sent', 1174), ('2010', 1014), ('new', 1003), (\"n't\", 1001), ('president', 969)] \n",
      "\n",
      "\n",
      "7 :  [('state', 740), ('u.s.', 604), (\"'s\", 602), ('department', 593), ('date', 579), ('case', 557), ('unclassified', 550), ('doc', 549), ('f-2014-20439', 490), ('clinton', 450), ('sent', 429), ('``', 381), (\"''\", 365), ('secretary', 297), ('08/31/2015', 264), ('question', 245), ('h', 231), ('message', 228), ('2010', 226), ('pir', 225)] \n",
      "\n",
      "\n",
      "8 :  [('state', 721), ('u.s.', 641), ('department', 625), ('case', 599), ('date', 587), ('unclassified', 572), ('doc', 568), ('f-2014-20439', 521), ('sent', 512), (\"'s\", 508), ('women', 386), ('08/31/2015', 368), (\"''\", 337), ('``', 333), ('message', 294), ('2010', 294), ('--', 272), ('melanne', 255), ('original', 250), ('h', 234)] \n",
      "\n",
      "\n",
      "9 :  [('u.s.', 54), ('cheryl', 41), ('monterrey', 32), ('department', 30), ('state', 30), ('sent', 28), ('mills', 28), ('doc', 26), ('f-2014-20439', 26), ('date', 26), ('case', 26), ('joanne', 26), ('august', 26), ('unclassified', 26), ('08/31/2015', 26), ('consulate', 24), ('message', 24), ('2010', 24), ('laszczych', 20), ('original', 20)] \n",
      "\n",
      "\n",
      "10 :  [('filled', 143), ('positions', 90), ('position', 85), ('hispanics', 67), ('date', 62), ('one', 59), ('president', 59), ('department', 57), ('nhla', 57), ('hispanic', 55), ('state', 48), ('u.s.', 44), ('case', 41), ('c05761078', 40), ('doc', 40), ('06/30/2015', 40), ('unclassified', 40), ('office', 35), ('f-2014-20439', 35), ('two', 32)] \n",
      "\n",
      "\n",
      "11 :  [('northern', 11), ('million', 11), ('ireland', 11), ('pressures', 9), ('executive', 9), ('department', 8), ('meet', 8), ('treasury', 7), ('state', 7), ('hm', 7), ('policing', 6), ('doc', 6), ('year', 6), ('c05764498', 6), ('u.s.', 6), ('date', 6), ('07/31/2015', 6), ('case', 6), ('justice', 6), ('unclassified', 6)] \n",
      "\n",
      "\n",
      "12 :  [('department', 5), ('u.s.', 5), ('state', 5), ('case', 5), ('security', 5), ('secretary', 4), ('doc', 4), ('date', 4), ('06/30/2015', 4), ('unclassified', 4), ('f-2014-20439', 4), ('c05760843', 4), ('direct', 3), ('clinton', 3), ('action', 3), ('industrial', 2), ('a.', 2), ('piracy', 2), ('management', 2), ('b6', 2)] \n",
      "\n",
      "\n"
     ]
    }
   ],
   "source": [
    "for community, text in communities.items():\n",
    "    text = ' '.join(text)\n",
    "    text = text.replace('\\n', ' ')\n",
    "    w = [i for i in word_tokenize(text.lower()) if i not in stop]\n",
    "    count = Counter(w)\n",
    "    \n",
    "    print(community, ': ', count.most_common(20), '\\n\\n')"
   ]
  },
  {
   "cell_type": "markdown",
   "metadata": {},
   "source": []
  }
 ],
 "metadata": {
  "kernelspec": {
   "display_name": "Python 3",
   "language": "python",
   "name": "python3"
  },
  "language_info": {
   "codemirror_mode": {
    "name": "ipython",
    "version": 3
   },
   "file_extension": ".py",
   "mimetype": "text/x-python",
   "name": "python",
   "nbconvert_exporter": "python",
   "pygments_lexer": "ipython3",
   "version": "3.4.5"
  }
 },
 "nbformat": 4,
 "nbformat_minor": 0
}
