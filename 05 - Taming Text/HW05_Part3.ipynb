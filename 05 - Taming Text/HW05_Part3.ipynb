{
 "cells": [
  {
   "cell_type": "markdown",
   "metadata": {},
   "source": [
    "# Homework 5 - Part 3"
   ]
  },
  {
   "cell_type": "code",
   "execution_count": 1,
   "metadata": {
    "collapsed": false
   },
   "outputs": [
    {
     "name": "stderr",
     "output_type": "stream",
     "text": [
      "/home/sylb/anaconda3/lib/python3.5/site-packages/gensim/utils.py:1015: UserWarning: Pattern library is not installed, lemmatization won't be available.\n",
      "  warnings.warn(\"Pattern library is not installed, lemmatization won't be available.\")\n"
     ]
    }
   ],
   "source": [
    "%matplotlib inline\n",
    "\n",
    "import pandas as pd\n",
    "import numpy as np\n",
    "import matplotlib.pyplot as plt\n",
    "\n",
    "import nltk\n",
    "from nltk.tokenize import word_tokenize\n",
    "from nltk.stem.snowball import SnowballStemmer\n",
    "from nltk.corpus import stopwords\n",
    "\n",
    "from wordcloud import WordCloud\n",
    "import gensim\n",
    "from gensim import corpora, models\n",
    "import seaborn as sns"
   ]
  },
  {
   "cell_type": "markdown",
   "metadata": {},
   "source": [
    "For the initial cleaning of the data, we run the same steps as in part 1. First, we load the dataset."
   ]
  },
  {
   "cell_type": "code",
   "execution_count": 2,
   "metadata": {
    "collapsed": false
   },
   "outputs": [],
   "source": [
    "df_Emails = pd.read_csv('hillary-clinton-emails/Emails.csv')"
   ]
  },
  {
   "cell_type": "markdown",
   "metadata": {},
   "source": [
    "Then we apply the same cleaning function as part 1 to rmoving unwanted parts of text."
   ]
  },
  {
   "cell_type": "code",
   "execution_count": 3,
   "metadata": {
    "collapsed": false
   },
   "outputs": [],
   "source": [
    "def cleanMail(mail):\n",
    "    res = ''\n",
    "    for l in mail.split('\\n'):\n",
    "        if not (l.startswith('UNCLASSIFIED') | l.startswith('U.S. Department of State') | l.startswith('Case No.') |\n",
    "               l.startswith('Doc No.') | l.startswith('Date: ') |\n",
    "                l.startswith('STATE DEPT. ') | l.startswith('SUBJECT TO ') | l.startswith('RELEASE ') | l.startswith('PART') |\n",
    "               l.startswith('From:') | l.startswith('To:') | l.startswith('Sent:')):\n",
    "            res+=(' ' + l)\n",
    "    return res"
   ]
  },
  {
   "cell_type": "code",
   "execution_count": 4,
   "metadata": {
    "collapsed": false
   },
   "outputs": [],
   "source": [
    "df_Emails.RawText = df_Emails.RawText.apply(cleanMail)"
   ]
  },
  {
   "cell_type": "markdown",
   "metadata": {},
   "source": [
    "We loaded the english stop words and update the list with relevant words for this exercise."
   ]
  },
  {
   "cell_type": "code",
   "execution_count": 5,
   "metadata": {
    "collapsed": true
   },
   "outputs": [],
   "source": [
    "stop = set(stopwords.words('english')) # take a typical stop words list for english"
   ]
  },
  {
   "cell_type": "code",
   "execution_count": 6,
   "metadata": {
    "collapsed": false
   },
   "outputs": [],
   "source": [
    "stop.update(['.', ',', '\"', \"'\", '?', '!', ':', ';', '(', ')', '[', ']', '{', '}', '@', '<', '>', '-', 'subject', 'fw', 'cc', 'am', 'pm', 'date', '``', '--', '—', 'http', 'u.s.', 'u.s', \"n't\", '&', '%', '*', '•', '#', \"'s\", \"''\", ])"
   ]
  },
  {
   "cell_type": "markdown",
   "metadata": {},
   "source": [
    "Then from the raw data, we create a new text. Each mail is decomposed in a list of words and they are cleaned using the stop words list."
   ]
  },
  {
   "cell_type": "code",
   "execution_count": 7,
   "metadata": {
    "collapsed": false
   },
   "outputs": [],
   "source": [
    "new_text = []\n",
    "for mail in df_Emails.RawText:\n",
    "    new_mail = []\n",
    "    for word in word_tokenize(mail):\n",
    "        if word.lower() not in stop:\n",
    "            new_mail.append(word.lower())\n",
    "    new_text.append(new_mail)      "
   ]
  },
  {
   "cell_type": "markdown",
   "metadata": {},
   "source": [
    "From this new text, we define the corpus and the dictionnary that will be used to create the LDA model."
   ]
  },
  {
   "cell_type": "code",
   "execution_count": 8,
   "metadata": {
    "collapsed": false
   },
   "outputs": [],
   "source": [
    "dictionary = corpora.Dictionary(new_text)\n",
    "corpus = [dictionary.doc2bow(t) for t in new_text] "
   ]
  },
  {
   "cell_type": "markdown",
   "metadata": {},
   "source": [
    "Finally we create the models for 5, 10, 20, 30, 40 and 50 topics and we print the 20 most relevant words for each topic."
   ]
  },
  {
   "cell_type": "code",
   "execution_count": 9,
   "metadata": {
    "collapsed": false
   },
   "outputs": [
    {
     "name": "stdout",
     "output_type": "stream",
     "text": [
      "Topic 0 : ['message', 'original', 'said', 'state', 'would', '1.4', 'unclassified', 'call', 'minister', 'president', 'government', 'secretary', 'deal', 'also', 'meeting', 'department', 'security', 'doc', 'dup', 'f-2014-20439']\n",
      "Topic 1 : ['state', 'secretary', 'one', 'office', 'department', 'president', 'obama', 'would', 'new', 'us', 'case', 'time', 'doc', 'clinton', 'unclassified', 'foreign', 'afghanistan', 'said', 'house', 'f-2014-20439']\n",
      "Topic 2 : ['said', 'state', 'would', 'government', 'israel', 'new', 'department', 'obama', 'president', 'haiti', 'american', 'people', 'united', 'states', 'case', 'also', 'us', 'one', 'unclassified', 'peace']\n",
      "Topic 3 : ['would', 'state', '1', '2', 'department', 'case', 'unclassified', 'f-2014-20439', 'vote', 'new', '2010', '3', 'message', '4', 'obama', 'may', 'government', 'said', 'president', 'senate']\n",
      "Topic 4 : ['message', 'original', 'call', 'state', 'department', 'case', 'b6', 'unclassified', 'doc', 'f-2014-20439', 'know', 'would', '08/31/2015', 'state.gov', 'huma', 'secretary', 'us', 'get', 'also', 'cheryl']\n"
     ]
    }
   ],
   "source": [
    "# 5 Topics\n",
    "lda = models.LdaModel(corpus, id2word= dictionary, num_topics = 5)\n",
    "for i in range(lda.num_topics):\n",
    "    topics = [w for w, _ in lda.show_topic(i, topn=20)]\n",
    "    print('Topic ' + str(i) + ' : ' + str(topics))"
   ]
  },
  {
   "cell_type": "code",
   "execution_count": 10,
   "metadata": {
    "collapsed": false
   },
   "outputs": [
    {
     "name": "stdout",
     "output_type": "stream",
     "text": [
      "Topic 0 : ['said', 'reuters', 'president', 'clinton', 'would', 'us', 'case', 'people', 'new', 'message', 'rights', 'american', '...', 'state', 'also', 'ap', 'unclassified', 'one', 'department', 'freedom']\n",
      "Topic 1 : ['secretary', 'office', 'state', 'meeting', 'department', 'room', 'arrive', 'route', 'depart', 'private', 'time', 'conference', 'residence', 'minister', 'daily', 'staff', 'airport', 'unclassified', 'en', 'house']\n",
      "Topic 2 : ['message', 'original', 'call', 'b6', 'tomorrow', 'huma', 'state.gov', 'abedin', 'today', 'get', 'w', 'know', 'would', 'h', 'also', 'talk', 'morning', 'time', 'let', 'update']\n",
      "Topic 3 : ['obama', 'said', 'state', 'clinton', 'would', 'israel', 'president', 'new', 'one', 'department', 'israeli', '08/31/2015', 'american', 'house', 'doc', 'also', 'us', 'f-2014-20439', 'administration', 'case']\n",
      "Topic 4 : ['1.4', 'b', 'call', 'message', 'state', 'b1', 'original', '1', 'department', 'haiti', 'case', '2', 'unclassified', 'f-2014-20439', 'b6', '3', 'email', 'doc', 'would', 'confidential']\n",
      "Topic 5 : ['message', 'original', 'would', 'state', 'know', 'cheryl', 'b6', 'secretary', 'case', 'see', 'work', 'department', 'unclassified', 'doc', 'time', 'good', 'think', 'f-2014-20439', 'please', 'us']\n",
      "Topic 6 : ['haiti', 'would', 'state', 'people', 'president', 'said', 'health', 'department', 'new', 'development', 'one', 'states', 'us', '2010', 'united', 'government', 'also', 'world', 'senate', 'international']\n",
      "Topic 7 : ['party', 'would', 'state', 'said', 'us', 'deal', 'case', 'obama', 'david', 'f-2014-20439', 'department', 'government', 'unclassified', '08/31/2015', 'new', 'last', 'doc', 'one', 'president', 'time']\n",
      "Topic 8 : ['state', 'department', 'case', 'unclassified', 'f-2014-20439', 'doc', '08/31/2015', 'secretary', 'b5', 'message', 'original', 'b6', 'state.gov', 'office', 'j', 'cheryl', 'huma', 'draft', 'would', 'foreign']\n",
      "Topic 9 : ['government', 'state', 'security', 'military', 'pakistan', 'new', 'israel', 'would', 'afghanistan', 'department', 'united', 'said', 'public', 'states', 'also', 'one', 'american', 'case', 'unclassified', 'war']\n"
     ]
    }
   ],
   "source": [
    "# 10 Topics\n",
    "lda = models.LdaModel(corpus, id2word= dictionary, num_topics = 10)\n",
    "for i in range(lda.num_topics):\n",
    "    topics = [w for w, _ in lda.show_topic(i, topn=20)]\n",
    "    print('Topic ' + str(i) + ' : ' + str(topics))"
   ]
  },
  {
   "cell_type": "code",
   "execution_count": 11,
   "metadata": {
    "collapsed": false
   },
   "outputs": [
    {
     "name": "stdout",
     "output_type": "stream",
     "text": [
      "Topic 0 : ['boehner', 'new', 'would', 'house', 'party', 'one', 'doc', 'time', 'state', 'case', 'unclassified', 'israel', 'health', 'care', '...', 'f-2014-20439', 'government', '08/31/2015', 'year', 'many']\n",
      "Topic 1 : ['said', 'haiti', 'reuters', 'children', 'government', 'would', 'new', 'people', 'state', 'could', 'case', 'also', 'american', 'haitian', '08/31/2015', 'trafficking', 'bellerive', 'euro', 'country', 'last']\n",
      "Topic 2 : ['turkish', 'state', 'unclassified', 'message', 'ecumenical', 'said', 'inspirational', 'irish', 'department', 'turkey', 'received', 'case', 'president', 'government', 'one', 'e-mail', 'time', 'daughter', 'wilson', 'patriarch']\n",
      "Topic 3 : ['call', 'message', 'original', 'sullivan', 'j', 'jacob', 'sheet', 'b6', 'text', 'email', 'know', 'w', 'need', 'state', 'davutoglu', 'let', 'b5', 'e', 'b', 'unclassified']\n",
      "Topic 4 : ['afghanistan', 'would', 'said', 'mr', 'obama', 'brown', 'afghan', 'party', 'election', 'government', 'one', 'new', 'us', 'labour', 'cameron', 'tories', 'state', 'case', 'war', 'president']\n",
      "Topic 5 : ['us', 'women', 'nuclear', 'new', 'korea', 'ap', 'state', 'world', 'north', 'government', 'iran', 'could', 'defense', 'would', 'india', 'also', 'one', 'two', 'united', 'start']\n",
      "Topic 6 : ['state', 'unclassified', 'department', 'case', 'indian', 'foreign', 'doc', 'lynn', 'minister', '2010', 'university', 'haiti', 'f-2014-20439', 'letter', '3', 'secretary', '08/31/2015', 'also', 'president', 'registered']\n",
      "Topic 7 : ['message', 'original', 'call', 'mashabane', 'secretary', 'would', 'schedule', 'minister', 'see', 'meeting', 'state', 'statement', 'b6', 'today', 'update', 'tomorrow', 'like', 'letter', 'know', 'b5']\n",
      "Topic 8 : ['secretary', 'state', 'email', 'message', 'clinton', 'would', 'please', 'best', 'b6', 'hillary', 'may', 'information', 'intended', 'attachments', 'department', 'original', 'work', 'case', 'new', 'one']\n",
      "Topic 9 : ['department', 'state', 'public', 'unclassified', 'doc', 'diplomacy', 'f-2014-20439', 'case', 'king', 'foreign', 'northern', 'states', 'government', 'security', 'ireland', 'would', 'corporate', 'united', 'also', '2']\n",
      "Topic 10 : ['state', 'palestinian', 'israel', 'international', 'development', 'diplomacy', 'united', 'global', 'peace', 'would', 'human', 'states', 'foreign', 'support', 'arab', '2010', 'rights', 'gaza', '08/31/2015', 'security']\n",
      "Topic 11 : ['would', 'state', 'senate', 'vote', 'reid', 'thomas', 'message', 'president', 'obama', 'republicans', 'republican', 'said', 'mubarak', 'democrats', 'department', 'new', 'secretary', 'f-2014-20439', 'bill', 'know']\n",
      "Topic 12 : ['unclassified', 'department', 'state', 'case', 'doc', 'f-2014-20439', '1.4', '08/31/2015', 'b', 'b1', 'b5', '1', '2', '3', 'message', '4', 'original', 'classified', 'das', 'confidential']\n",
      "Topic 13 : ['us', 'would', 'state', 'case', 'new', 'one', 'last', 'also', 'said', 'president', 'foreign', 'message', 'department', 'government', 'secretary', 'week', 'military', 'f-2014-20439', 'original', 'former']\n",
      "Topic 14 : ['1', 'favorable', 'unfavorable', 'state', 'percent', 'poll', '2', 'bibi', '2010', 'secretary', '4', 'case', 'department', '40', 'ohio', 'doc', 'clinton', 'unclassified', 'obama', 'f-2014-20439']\n",
      "Topic 15 : ['obama', 'haiti', 'said', 'president', 'people', 'clinton', 'state', 'department', 'government', 'would', 'one', 'development', 'security', 'new', 'political', '08/31/2015', 'world', 'administration', 'foreign', 'policy']\n",
      "Topic 16 : ['cheryl', 'mills', 'state', 'b6', 'report', 'department', 'case', 'bangladesh', 'doc', 'f-2014-20439', 'state.gov', 'please', 'update', 'unclassified', 'message', 'secretary', 'note', 'grameen', 'see', 'daniel']\n",
      "Topic 17 : ['israel', 'said', 'state', 'would', 'netanyahu', 'president', 'israeli', 'clinton', 'american', 'one', 'united', 'case', 'states', 'government', 'jerusalem', 'iran', 'pakistan', 'peace', 'department', 'new']\n",
      "Topic 18 : ['said', 'deal', 'would', 'state', 'dup', 'government', 'ap', 'agreement', 'department', 'president', 'new', 'sinn', 'fein', 'power-sharing', 'northern', 'united', 'ireland', 'case', 'states', 'also']\n",
      "Topic 19 : ['germany', 'ventures', 'freedom', 'greek', 'history', 'state', 'new', 'world', 'american', 'future', 'case', 'today', 'berlin', 'europe', 'message', 'german', 'always', 'also', 'know', 'need']\n",
      "Topic 20 : ['security', 'pan', 'message', 'sbu', 'state', 'secretary', 'original', 'president', 'gaza', 'also', 'monterrey', 'press', 'department', 'government', 'embassy', 'national', 'us', 'office', 'time', 'fyi']\n",
      "Topic 21 : ['message', 'original', 'call', 'b6', 'huma', 'state.gov', 'abedin', 'know', 'h', 'get', 'tomorrow', 'talk', '2010', \"'m\", 'speech', 'would', 'work', 'time', 'also', 'w']\n",
      "Topic 22 : ['state', 'message', 'department', 'original', 'case', 'tomorrow', 'unclassified', 'would', 'f-2014-20439', 'doc', 'time', 'secretary', 'team', 'meeting', '3', 'b6', 'get', '5', 'h', '10']\n",
      "Topic 23 : ['de', 'peace', 'us', 'negotiations', 'palau', 'ni', 'support', 'statement', 'government', 'also', 'said', 'state', 'dem', 'israel', 'states', 'united', 'unclassified', '08/31/2015', 'return', 'la']\n",
      "Topic 24 : ['secretary', 'office', 'room', 'meeting', 'state', 'department', 'arrive', 'route', 'depart', 'private', 'conference', 'residence', 'time', 'en', 'airport', 'daily', '*en', 'staff', 'floor', '8:30']\n"
     ]
    }
   ],
   "source": [
    "# 25 Topics\n",
    "lda = models.LdaModel(corpus, id2word= dictionary, num_topics = 25)\n",
    "for i in range(lda.num_topics):\n",
    "    topics = [w for w, _ in lda.show_topic(i, topn=20)]\n",
    "    print('Topic ' + str(i) + ' : ' + str(topics))"
   ]
  },
  {
   "cell_type": "code",
   "execution_count": 12,
   "metadata": {
    "collapsed": false
   },
   "outputs": [
    {
     "name": "stdout",
     "output_type": "stream",
     "text": [
      "Topic 0 : ['la', '08/31/2015', 'michael', 'que', 'tan', 'kitty', 'dimartino', 'time', 'reads', 'state', 'b6', 'judith', 'craig', 'mchale', 'department', 'hv', 'mumbai', 'mellott', 'case', 'onward']\n",
      "Topic 1 : ['said', 'northern', 'ireland', 'police', 'one', 'killed', 'ses-o_shift-iii', 'policing', 'death', 'church', 'two', 'irish', 'richardson', 'city', 'secretary', 'state', 'department', 'officials', 'also', 'statement']\n",
      "Topic 2 : ['state', 'sudan', 'beck', 'video', 'department', 'new', 'states', 'us', 'government', 'united', 'group', 'case', '2', 'facebook', 'tea', 'would', 'foreign', 'beside', '1', 'also']\n",
      "Topic 3 : ['government', 'said', 'people', 'bangladesh', 'euro', 'state', 'minister', 'case', 'greece', 'department', 'prime', 'would', '...', 'also', 'doc', 'message', 'unclassified', 'f-2014-20439', 'january', 'adoption']\n",
      "Topic 4 : ['b6', 'b5', 'h', 'cheryl', 'state', '2010', 'unclassified', 'mills', 'joanne', '»', 'state.gov', 'sent', 'fyi', 'daniel', 'message', 'would', 'fa', 'favorable', 'department', 'laszczych']\n",
      "Topic 5 : ['would', 'party', 'president', 'obama', 'people', 'one', 'house', 'like', 'said', 'also', 'time', 'state', 'much', 'make', 'back', 'new', 'message', 'might', 'american', 'unclassified']\n",
      "Topic 6 : ['haiti', 'karzai', 'monterrey', 'cheryl', 'b6', 'preval', 'email', 'call', 'inspirational', 'kris', 'le', 'cdm', 'letters', 'message', 'michele', 'president', 'right', 'miss', 'canada', 'mills']\n",
      "Topic 7 : ['pan', 'state', 'bbc', 'department', '3', '2', 'unclassified', 'media', 'agency', 'bureau', '1', 'case', 'report', 'doc', 'f-2014-20439', 'australian', 'reynoso', 'assistance', '4', 'foreign']\n",
      "Topic 8 : ['tony', 'rp', 'eu', 'said', 'police', 'russia', 'verdict', 'reuters', 'million', 'president', '500', 'investment', 'telcon', 'fort', 'company', 'november', 'hr', 'gas', 'russian', 'peres']\n",
      "Topic 9 : ['china', 'israeli', 'israel', 'would', 'us', 'gaza', 'talks', 'state', 'deal', 'palestinian', 'said', 'countries', 'palestinians', 'department', 'harold', 'hillary', 'message', 'climate', 'negotiations', 'strategic']\n",
      "Topic 10 : ['unclassified', 'case', 'f-2014-20439', 'doc', 'department', 'state', '08/31/2015', 'b5', 'message', 'original', 'b6', 'et', 'lp', 'declan', 'update', '07/31/2015', '06/30/2015', '1', 'tony', '4']\n",
      "Topic 11 : ['office', 'secretary', 'call', 'meeting', 'state', 'department', 'mashabane', 'room', 'route', 'arrive', 'depart', 'time', 'conference', 'private', 'residence', 'minister', 'ashton', 'daily', '*en', 'huma']\n",
      "Topic 12 : ['israel', 'bank', 'israeli', 'state', 'settlements', 'settlement', 'department', 'doc', 'unclassified', 'f-2014-20439', 'case', '08/31/2015', 'minister', 'construction', 'grameen', 'palestinians', 'netanyahu', 'freeze', 'prime', 'bangladesh']\n",
      "Topic 13 : ['secretary', 'women', 'would', 'letter', 'state', 'clinton', 'please', 'best', 'email', 'department', 'haiti', 'message', 'case', 'thank', 'like', 'netanyahu', 'unclassified', 'us', 'f-2014-20439', 'dear']\n",
      "Topic 14 : ['party', 'mr', 'brown', 'obama', 'deal', 'said', 'would', 'gordon', 'new', 'labour', 'government', 'sid', 'cameron', 'tories', 'election', 'uup', 'dup', 'shaun', 'cent', 'conservative']\n",
      "Topic 15 : ['boehner', 'said', 'state', 'department', 'obama', 'president', 'ohio', 'public', 'kyrgyzstan', 'would', 'research', 'unclassified', 'case', '1', 'africa', 'f-2014-20439', 'clinton', 'republican', 'doc', 'secretary']\n",
      "Topic 16 : ['message', 'original', 'b6', 'huma', 'abedin', 'state', '2010', 'secretary', 'monday', 'state.gov', 'schedule', 'time', 'see', 'tomorrow', 'lona', 'department', 'w', 'h', 'would', 'call']\n",
      "Topic 17 : ['germany', 'hospital', 'valley', 'history', 'berlin', 'patients', 'new', 'state', '...', 'freedom', 'german', 'future', 'help', 'wall', 'europe', 'gate', 'world', 'unclassified', 'department', 'open']\n",
      "Topic 18 : ['de', 'greek', 'turkish', 'goh', 'bellerive', 'disc', 'palau', 'preval', '4', 'ecumenical', 'case', 'turkey', '6', 'state', 'unclassified', 'en', 'patriarch', 'department', '08/31/2015', '2']\n",
      "Topic 19 : ['1', '2', 'poll', 'percent', '3', 'election', 'registered', 'reuters', 'voters', 'republicans', 'democrats', '2010', 'unfavorable', 'president', 'obama', '7', 'state', '4', '9', 'vote']\n",
      "Topic 20 : ['cables', 'bloomberg', 'message', 'get', 'email', 'mayor', \"'ll\", 'one', 'original', 'time', 'know', 'thanks', 'please', \"'ve\", 'x', 'going', 'think', 'b6', 'state', 'two']\n",
      "Topic 21 : ['summary', 'holbrooke', 'karl', 'secretary', 'hyman', 'state', 'clinton', 'ambassador', 'would', 'office', 'boyner', 'iphone', 'corrections', 'meeting', 'fifteen', 'mark', 'extraordinarily', 'unclassified', 'richard', '02/18']\n",
      "Topic 22 : ['message', 'update', 'original', 'blair', 'call', 'email', 'info', 'b6', 'tomorrow', 'know', 'intended', 'could', '»', 'confidential', 'time', 'sent', 'talk', \"'m\", 'please', 'windrush']\n",
      "Topic 23 : ['robinson', 'iraq', 'would', 'blair', 'memo', 'military', 'mcguinness', 'former', 'also', 'said', 'documents', 'savage', 'foreign', 'state', 'war', 'dup', 'week', 'new', 'diplomats', 'government']\n",
      "Topic 24 : ['pakistan', 'nuclear', 'brazilian', 'india', 'pakistani', 'state', 'rok', 'press', 'indian', 'test', 'ambiguity', 'new', 'department', 'hotel', 'said', 'time', 'modernization', 'secretary', 'united', 'dprk']\n",
      "Topic 25 : ['unclassified', 'state', 'correa', 'department', 'would', 'embassy', 'sbu', 'meeting', 'president', 'case', 'f-2014-20439', 'doc', 'jen', 'also', 'center', 'b5', 'original', 'jim', 'message', 'draft']\n",
      "Topic 26 : ['afghanistan', 'would', 'afghan', 'state', 'could', 'get', 'one', 'new', 'us', 'know', 'also', 'government', 'mcchrystal', 'see', 'foreign', 'last', 'obama', 'case', 'said', 'message']\n",
      "Topic 27 : ['us', 'clinton', 'said', 'state', 'would', 'president', 'obama', 'may', 'b6', 'saudi', 'last', 'could', '...', 'message', 'israeli', 'aipac', 'hillary', 'like', 'department', 'still']\n",
      "Topic 28 : ['abbas', 'palestinian', 'hamas', 'u', 'pa', 'today', 'original', 'message', 'r', 'israel', 'af', 'talks', 'israeli', 'lewis', 'morales', 'said', 'l', 'search', 'president', 'sbu']\n",
      "Topic 29 : ['food', 'call', 'list', 'original', 'message', 'security', 'saudi', 'dutch', 'norwegian', 'know', 'today', 'would', 'chronic', 'see', 'funeral', 'also', 'holidays', 'fm', 'like', 'get']\n",
      "Topic 30 : ['obama', 'one', 'would', 'said', 'president', 'senate', 'state', 'republican', 'political', 'new', 'even', 'american', 'department', 'first', 'house', 'also', 'white', 'like', '08/31/2015', 'republicans']\n",
      "Topic 31 : ['state', 'people', 'department', 'government', 'new', 'development', 'haiti', 'case', 'said', 'also', 'us', 'world', 'international', 'would', 'clinton', 'unclassified', 'president', 'security', 'policy', 'f-2014-20439']\n",
      "Topic 32 : ['secretary', 'state', 'office', 'department', 'clinton', 'room', 'private', 'arrive', 'lynn', 'meeting', 'us', 'conference', 'may', 'depart', 'unclassified', 'au', 'time', 'san', 'air', 'route']\n",
      "Topic 33 : ['pd', 'kristof', 'buckley', 'message', 'corporate', 'original', 'state', 'foreign', 'chuckle', 'front', 'f.', 'saudi', 'company', 'af/pdpa', 'leader', 'smits', 'h', 'ak', 'prince', 'center']\n",
      "Topic 34 : ['aid', 'government', 'public', 'haiti', 'chavez', 'new', 'united', 'diplomacy', 'dollars', 'president', 'state', 'us', 'statement', 'department', 'foreign', 'relief', '08/31/2015', 'billions', 'would', 'case']\n",
      "Topic 35 : ['senate', 'committee', 'court', 'bill', 'richard', 'amendment', 'alexander', 'would', '08/31/2015', 'state', 'cancer', 'owned', 'foreign', 'said', 'legislative', 'verma', 'miguel', 'wp', 'rodriguez', 'mark']\n",
      "Topic 36 : ['said', 'israel', 'iran', 'peace', 'ap', 'american', 'security', 'new', 'states', 'united', 'military', 'state', 'arab', 'nuclear', 'government', 'minister', 'jewish', 'would', 'obama', 'palestinian']\n",
      "Topic 37 : ['children', 'child', 'water', 'state', 'women', 'napolitano', 'abortion', 'work', 'fox', 'champion', 'sexual', 'ms.', 'families', 'save', 'unicef', 'case', 'fisa', 'department', 'girls', 'congo']\n",
      "Topic 38 : ['message', 'original', 'speech', 'huma', 'call', 'draft', 'state.gov', 'get', 'fax', 'b6', 'w', 'pls', 'abedin', 'cheryl', \"'ll\", 'good', 'internet', 'j', 'send', 'think']\n",
      "Topic 39 : ['ecuador', 'dimension', 'security', 'government', 'state', 'said', 'blake', 'nuns', 'a/s', 'bolivia', 'forces', 'praises', 'military', 'paramilitary', 'minister', 'b4', 'also', 'general', 'new', 'engine']\n",
      "Topic 40 : ['thomas', 'haiti', 'ok', 'society', '08/31/2015', 'adoptions', 'e', 'chapter', 'tea', 'amcits', 'case', 'unclassified', 'children', 'neighborhood', 'f-2014-20439', 'charles', '15', 'doc', '10', 'department']\n",
      "Topic 41 : ['original', 'message', 'call', 'mubarak', 'would', 'sheet', 'ni', 'bravo', 'thx', 'see', 'h', 'state', 'quartet', 'tomorrow', 'said', 'sw1h', 'work', 'morning', 'b6', 'like']\n",
      "Topic 42 : ['agreement', 'colombia', 'deal', 'us', '2010', 'said', 'state', 'ireland', 'dup', 'fein', 'sinn', 'message', 'e-mail', 'would', 'northern', 'party', 'department', 'case', 'secretary', 'powers']\n",
      "Topic 43 : ['vote', 'reid', '2010', 'senate', 'bill', 'care', 'health', 'original', 'message', 'senators', 'time', 'report', 'cloture', 'would', 'year', 'reform', 'house', '$', 'b6', 'know']\n",
      "Topic 44 : ['koch', 'north', 'taliban', 'south', 'kochs', 'said', 'korea', 'mcconnell', 'dems', 'president', 'brother', 'polish', 'mr.', 'one', 'government', 'national', 'mitch', 'welch', 'kandahar', 'earthquake']\n",
      "Topic 45 : ['message', 'original', 'king', 'tax', 'know', 'back', 'b6', 'said', 'also', 'state', 'aug', 'abdullah', 'us', 'would', 'prince', 'murtha', 'diane', 'case', 'get', 'doha']\n",
      "Topic 46 : ['sullivan', 'j', 'state.gov', 'jacob', 'state', 'department', 'cheryl', 'case', 'secretary', 'unclassified', 'f-2014-20439', 'doc', 'mills', '08/31/2015', 'qddr', 'message', 'draft', 'original', 'please', 'b5']\n",
      "Topic 47 : ['haiti', 'case', 'would', 'unclassified', 'message', 'state', 'goldman', 'department', 'said', 'david', 'rio', 'jm', 'doc', 'original', 'f-2014-20439', 'cheryl', 'branch', 'wjc', 'arturo', 'clinton']\n",
      "Topic 48 : ['dem', 'government', 'state', 'visas', 'travel', 'would', 'leaders', 'department', 'said', 'new', 'opens', 'foreign', 'united', 'cameron', 'pitch', 'europe', 'also', 'case', 'members', 'tory']\n",
      "Topic 49 : ['message', 'original', 'call', '1.4', 'b6', 'b', 'tomorrow', 'b1', 'talk', 'today', 'state.gov', 'huma', 'abedin', 'know', 'calls', \"'m\", 'let', 'h', 'morning', 'ops']\n"
     ]
    }
   ],
   "source": [
    "# 50 Topics\n",
    "lda = models.LdaModel(corpus, id2word= dictionary, num_topics = 50)\n",
    "for i in range(lda.num_topics):\n",
    "    topics = [w for w, _ in lda.show_topic(i, topn=20)]\n",
    "    print('Topic ' + str(i) + ' : ' + str(topics))"
   ]
  },
  {
   "cell_type": "markdown",
   "metadata": {},
   "source": [
    "From these results, it seems that the results are more meaningful for 25 topics."
   ]
  }
 ],
 "metadata": {
  "anaconda-cloud": {},
  "kernelspec": {
   "display_name": "Python [default]",
   "language": "python",
   "name": "python3"
  },
  "language_info": {
   "codemirror_mode": {
    "name": "ipython",
    "version": 3
   },
   "file_extension": ".py",
   "mimetype": "text/x-python",
   "name": "python",
   "nbconvert_exporter": "python",
   "pygments_lexer": "ipython3",
   "version": "3.5.2"
  }
 },
 "nbformat": 4,
 "nbformat_minor": 0
}
